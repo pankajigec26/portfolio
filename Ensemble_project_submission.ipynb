{
 "cells": [
  {
   "cell_type": "markdown",
   "metadata": {},
   "source": [
    "Data Description:\n",
    "    \n",
    "The data is related with direct marketing campaigns of a Portuguese\n",
    "banking institution. The marketing campaigns were based on phone\n",
    "calls. Often, more than one contact to the same client was required, in\n",
    "order to access if the product (bank term deposit) would be ('yes') or not\n",
    "('no') subscribed.\n",
    "\n",
    "Attribute Information:\n",
    "1. age (numeric)\n",
    "2. job : type of job (categorical: 'admin.','bluecollar','\n",
    "entrepreneur','housemaid','management','retired','selfemployed','\n",
    "services','student','technician','unemployed','unknown')\n",
    "3. marital : marital status (categorical:\n",
    "'divorced','married','single','unknown'; note: 'divorced' means\n",
    "divorced or widowed)\n",
    "4. education (categorical:\n",
    "'basic.4y','basic.6y','basic.9y','high.school','illiterate','professional.cour\n",
    "se','university.degree','unknown')\n",
    "5. default: has credit in default? (categorical: 'no','yes','unknown')\n",
    "6. balance: average yearly balance, in euros (numeric)\n",
    "7. housing: has housing loan? (categorical: 'no','yes','unknown')\n",
    "8. loan: has personal loan? (categorical: 'no','yes','unknown')\n",
    "9. contact: contact communication type (categorical:\n",
    "'cellular','telephone')\n",
    "10. day: last contact day of the month (numeric 1 -31)\n",
    "11. month: last contact month of year (categorical: 'jan', 'feb',\n",
    "'mar', ..., 'nov', 'dec')\n",
    "12. duration: last contact duration, in seconds (numeric).\n",
    "Important note: this attribute highly affects the output target (e.g., if\n",
    "duration=0 then y='no'). Yet, the duration is not known before a call\n",
    "is performed. Also, after the end of the call y is obviously known.\n",
    "Thus, this input should only be included for benchmark purposes\n",
    "and should be discarded if the intention is to have a realistic\n",
    "predictive model.\n",
    "13. campaign: number of contacts performed during this\n",
    "campaign and for this client (numeric, includes last contact)\n",
    "14. pdays: number of days that passed by after the client was\n",
    "last contacted from a previous campaign (numeric; 999 means\n",
    "client was not previously contacted)\n",
    "15. previous: number of contacts performed before this\n",
    "campaign and for this client (numeric)\n",
    "16. poutcome: outcome of the previous marketing campaign\n",
    "(categorical: 'failure','nonexistent','success')\n",
    "17. target: has the client subscribed a term deposit? (binary:\n",
    "\"yes\",\"no\")\n",
    "\n",
    "Learning Outcomes:\n",
    "● Exploratory Data Analysis\n",
    "● Preparing the data to train a model\n",
    "● Training and making predictions using an Ensemble Model\n",
    "● Comparing model perfomances\n",
    "Objective:\n",
    "The classification goal is to predict if the client will subscribe (yes/no) a\n",
    "term deposit (variable y).\n",
    "Steps and tasks:\n",
    "1. Import the necessary libraries\n",
    "2. Read the data as a data frame\n",
    "3. Perform basic EDA which should include the following and print\n",
    "out your insights at every step.\n",
    "a. Shape of the data\n",
    "b. Data type of each attribute\n",
    "c. Checking the presence of missing values\n",
    "d. 5 point summary of numerical attributes\n",
    "e. Checking the presence of outliers\n",
    "4. Prepare the data to train a model – check if data types are\n",
    "appropriate, get rid of the missing values etc\n",
    "5. Train a few standard classification algorithms, note and comment\n",
    "on their performances along different metrics.\n",
    "6. Build the ensemble models and compare the results with the base\n",
    "models. Note: Random forest can be used only with Decision\n",
    "trees.\n",
    "7. Compare performances of all the models\n",
    "References:\n",
    "● Data analytics use cases in Banking ● Machine Learning for Financial Marketing"
   ]
  },
  {
   "cell_type": "markdown",
   "metadata": {},
   "source": [
    "# Import Necessary library"
   ]
  },
  {
   "cell_type": "code",
   "execution_count": 9,
   "metadata": {},
   "outputs": [],
   "source": [
    "import pandas as pd \n",
    "import numpy as np\n",
    "import seaborn as sns\n",
    "%matplotlib inline"
   ]
  },
  {
   "cell_type": "markdown",
   "metadata": {},
   "source": [
    "# Import and read data"
   ]
  },
  {
   "cell_type": "code",
   "execution_count": 10,
   "metadata": {},
   "outputs": [],
   "source": [
    "df=pd.read_csv(\"bank-full.csv\")"
   ]
  },
  {
   "cell_type": "code",
   "execution_count": 11,
   "metadata": {},
   "outputs": [
    {
     "data": {
      "text/html": [
       "<div>\n",
       "<style scoped>\n",
       "    .dataframe tbody tr th:only-of-type {\n",
       "        vertical-align: middle;\n",
       "    }\n",
       "\n",
       "    .dataframe tbody tr th {\n",
       "        vertical-align: top;\n",
       "    }\n",
       "\n",
       "    .dataframe thead th {\n",
       "        text-align: right;\n",
       "    }\n",
       "</style>\n",
       "<table border=\"1\" class=\"dataframe\">\n",
       "  <thead>\n",
       "    <tr style=\"text-align: right;\">\n",
       "      <th></th>\n",
       "      <th>age</th>\n",
       "      <th>job</th>\n",
       "      <th>marital</th>\n",
       "      <th>education</th>\n",
       "      <th>default</th>\n",
       "      <th>balance</th>\n",
       "      <th>housing</th>\n",
       "      <th>loan</th>\n",
       "      <th>contact</th>\n",
       "      <th>day</th>\n",
       "      <th>month</th>\n",
       "      <th>duration</th>\n",
       "      <th>campaign</th>\n",
       "      <th>pdays</th>\n",
       "      <th>previous</th>\n",
       "      <th>poutcome</th>\n",
       "      <th>Target</th>\n",
       "    </tr>\n",
       "  </thead>\n",
       "  <tbody>\n",
       "    <tr>\n",
       "      <th>0</th>\n",
       "      <td>58</td>\n",
       "      <td>management</td>\n",
       "      <td>married</td>\n",
       "      <td>tertiary</td>\n",
       "      <td>no</td>\n",
       "      <td>2143</td>\n",
       "      <td>yes</td>\n",
       "      <td>no</td>\n",
       "      <td>unknown</td>\n",
       "      <td>5</td>\n",
       "      <td>may</td>\n",
       "      <td>261</td>\n",
       "      <td>1</td>\n",
       "      <td>-1</td>\n",
       "      <td>0</td>\n",
       "      <td>unknown</td>\n",
       "      <td>no</td>\n",
       "    </tr>\n",
       "    <tr>\n",
       "      <th>1</th>\n",
       "      <td>44</td>\n",
       "      <td>technician</td>\n",
       "      <td>single</td>\n",
       "      <td>secondary</td>\n",
       "      <td>no</td>\n",
       "      <td>29</td>\n",
       "      <td>yes</td>\n",
       "      <td>no</td>\n",
       "      <td>unknown</td>\n",
       "      <td>5</td>\n",
       "      <td>may</td>\n",
       "      <td>151</td>\n",
       "      <td>1</td>\n",
       "      <td>-1</td>\n",
       "      <td>0</td>\n",
       "      <td>unknown</td>\n",
       "      <td>no</td>\n",
       "    </tr>\n",
       "    <tr>\n",
       "      <th>2</th>\n",
       "      <td>33</td>\n",
       "      <td>entrepreneur</td>\n",
       "      <td>married</td>\n",
       "      <td>secondary</td>\n",
       "      <td>no</td>\n",
       "      <td>2</td>\n",
       "      <td>yes</td>\n",
       "      <td>yes</td>\n",
       "      <td>unknown</td>\n",
       "      <td>5</td>\n",
       "      <td>may</td>\n",
       "      <td>76</td>\n",
       "      <td>1</td>\n",
       "      <td>-1</td>\n",
       "      <td>0</td>\n",
       "      <td>unknown</td>\n",
       "      <td>no</td>\n",
       "    </tr>\n",
       "    <tr>\n",
       "      <th>3</th>\n",
       "      <td>47</td>\n",
       "      <td>blue-collar</td>\n",
       "      <td>married</td>\n",
       "      <td>unknown</td>\n",
       "      <td>no</td>\n",
       "      <td>1506</td>\n",
       "      <td>yes</td>\n",
       "      <td>no</td>\n",
       "      <td>unknown</td>\n",
       "      <td>5</td>\n",
       "      <td>may</td>\n",
       "      <td>92</td>\n",
       "      <td>1</td>\n",
       "      <td>-1</td>\n",
       "      <td>0</td>\n",
       "      <td>unknown</td>\n",
       "      <td>no</td>\n",
       "    </tr>\n",
       "    <tr>\n",
       "      <th>4</th>\n",
       "      <td>33</td>\n",
       "      <td>unknown</td>\n",
       "      <td>single</td>\n",
       "      <td>unknown</td>\n",
       "      <td>no</td>\n",
       "      <td>1</td>\n",
       "      <td>no</td>\n",
       "      <td>no</td>\n",
       "      <td>unknown</td>\n",
       "      <td>5</td>\n",
       "      <td>may</td>\n",
       "      <td>198</td>\n",
       "      <td>1</td>\n",
       "      <td>-1</td>\n",
       "      <td>0</td>\n",
       "      <td>unknown</td>\n",
       "      <td>no</td>\n",
       "    </tr>\n",
       "  </tbody>\n",
       "</table>\n",
       "</div>"
      ],
      "text/plain": [
       "   age           job  marital  education default  balance housing loan  \\\n",
       "0   58    management  married   tertiary      no     2143     yes   no   \n",
       "1   44    technician   single  secondary      no       29     yes   no   \n",
       "2   33  entrepreneur  married  secondary      no        2     yes  yes   \n",
       "3   47   blue-collar  married    unknown      no     1506     yes   no   \n",
       "4   33       unknown   single    unknown      no        1      no   no   \n",
       "\n",
       "   contact  day month  duration  campaign  pdays  previous poutcome Target  \n",
       "0  unknown    5   may       261         1     -1         0  unknown     no  \n",
       "1  unknown    5   may       151         1     -1         0  unknown     no  \n",
       "2  unknown    5   may        76         1     -1         0  unknown     no  \n",
       "3  unknown    5   may        92         1     -1         0  unknown     no  \n",
       "4  unknown    5   may       198         1     -1         0  unknown     no  "
      ]
     },
     "execution_count": 11,
     "metadata": {},
     "output_type": "execute_result"
    }
   ],
   "source": [
    "df.head(5)"
   ]
  },
  {
   "cell_type": "code",
   "execution_count": 12,
   "metadata": {},
   "outputs": [
    {
     "data": {
      "text/plain": [
       "array(['management', 'technician', 'entrepreneur', 'blue-collar',\n",
       "       'unknown', 'retired', 'admin.', 'services', 'self-employed',\n",
       "       'unemployed', 'housemaid', 'student'], dtype=object)"
      ]
     },
     "execution_count": 12,
     "metadata": {},
     "output_type": "execute_result"
    }
   ],
   "source": [
    "#Finding the unique values from all the columns \n",
    "df.job.unique()"
   ]
  },
  {
   "cell_type": "code",
   "execution_count": 13,
   "metadata": {},
   "outputs": [
    {
     "data": {
      "text/plain": [
       "[array([58, 44, 33, 47, 35, 28, 42, 43, 41, 29, 53, 57, 51, 45, 60, 56, 32,\n",
       "        25, 40, 39, 52, 46, 36, 49, 59, 37, 50, 54, 55, 48, 24, 38, 31, 30,\n",
       "        27, 34, 23, 26, 61, 22, 21, 20, 66, 62, 83, 75, 67, 70, 65, 68, 64,\n",
       "        69, 72, 71, 19, 76, 85, 63, 90, 82, 73, 74, 78, 80, 94, 79, 77, 86,\n",
       "        95, 81, 18, 89, 84, 87, 92, 93, 88], dtype=int64),\n",
       " array(['management', 'technician', 'entrepreneur', 'blue-collar',\n",
       "        'unknown', 'retired', 'admin.', 'services', 'self-employed',\n",
       "        'unemployed', 'housemaid', 'student'], dtype=object),\n",
       " array(['married', 'single', 'divorced'], dtype=object),\n",
       " array(['tertiary', 'secondary', 'unknown', 'primary'], dtype=object),\n",
       " array(['no', 'yes'], dtype=object),\n",
       " array([ 2143,    29,     2, ...,  8205, 14204, 16353], dtype=int64),\n",
       " array(['yes', 'no'], dtype=object),\n",
       " array(['no', 'yes'], dtype=object),\n",
       " array(['unknown', 'cellular', 'telephone'], dtype=object),\n",
       " array([ 5,  6,  7,  8,  9, 12, 13, 14, 15, 16, 19, 20, 21, 23, 26, 27, 28,\n",
       "        29, 30,  2,  3,  4, 11, 17, 18, 24, 25,  1, 10, 22, 31],\n",
       "       dtype=int64),\n",
       " array(['may', 'jun', 'jul', 'aug', 'oct', 'nov', 'dec', 'jan', 'feb',\n",
       "        'mar', 'apr', 'sep'], dtype=object),\n",
       " array([ 261,  151,   76, ..., 1298, 1246, 1556], dtype=int64),\n",
       " array([ 1,  2,  3,  5,  4,  6,  7,  8,  9, 10, 11, 12, 13, 19, 14, 24, 16,\n",
       "        32, 18, 22, 15, 17, 25, 21, 43, 51, 63, 41, 26, 28, 55, 50, 38, 23,\n",
       "        20, 29, 31, 37, 30, 46, 27, 58, 33, 35, 34, 36, 39, 44],\n",
       "       dtype=int64),\n",
       " array([ -1, 151, 166,  91,  86, 143, 147,  89, 140, 176, 101, 174, 170,\n",
       "        167, 195, 165, 129, 188, 196, 172, 118, 119, 104, 171, 117, 164,\n",
       "        132, 131, 123, 159, 186, 111, 115, 116, 173, 178, 110, 152,  96,\n",
       "        103, 150, 175, 193, 181, 185, 154, 145, 138, 126, 180, 109, 158,\n",
       "        168,  97, 182, 127, 130, 194, 125, 105, 102,  26, 179,  28, 183,\n",
       "        155, 112, 120, 137, 124, 187, 190, 113, 162, 134, 169, 189,   8,\n",
       "        144, 191, 184, 177,   5,  99, 133,  93,  92,  10, 100, 156, 198,\n",
       "        106, 153, 146, 128,   7, 121, 160, 107,  90,  27, 197, 136, 139,\n",
       "        122, 157, 149, 135,  30, 114,  98, 192, 163,  34,  95, 141,  31,\n",
       "        199,  94, 108,  29, 268, 247, 253, 226, 244, 239, 245, 204, 231,\n",
       "        238, 258, 230, 254, 265,  71, 223, 246, 250, 266, 240, 205, 261,\n",
       "        259, 241, 260, 234, 251, 225, 161, 237, 262, 248, 255, 220, 227,\n",
       "        206, 224, 249, 235, 228, 263,   2, 270, 232, 252, 207, 200, 269,\n",
       "        233, 256, 273, 272, 242, 264, 208, 214, 222, 271, 203, 221, 202,\n",
       "        216, 201, 257, 229, 210, 217,  75, 213,  73,  76, 267, 211, 215,\n",
       "         77, 236,  82,   6, 209, 274,   1, 243, 212, 275,  80, 276,   9,\n",
       "        279,  12, 280,  88, 277,  85,  84, 219,  24,  21, 282,  41, 294,\n",
       "         49, 329, 307, 303, 331, 308, 300,  64, 314, 287, 330, 332, 302,\n",
       "        323, 318, 333,  60, 326, 335, 313, 312, 305, 325, 327, 336, 309,\n",
       "        328, 322,  39, 316, 292, 295, 310, 306, 320, 317, 289,  57, 321,\n",
       "        142, 339, 301, 315, 337, 334, 340, 319,  17,  74, 148, 341, 299,\n",
       "        344, 342, 324, 345, 346, 304, 281, 343, 338,  14, 347,  15, 291,\n",
       "        348, 349, 285, 350, 284,  25, 283, 278,  81,   4,  87,  83,  79,\n",
       "         70,  13, 293,  37,  78,  63,  22, 296, 355,  66,  19,  35, 360,\n",
       "        357, 354, 351, 362, 358, 365, 298, 286, 364, 363,  47, 361, 288,\n",
       "        366, 356, 352, 359, 297, 367, 353, 368,  42, 290,  67, 371, 370,\n",
       "        369,  50,  36, 373, 374, 372, 311, 375, 378,  59, 379,  40,  18,\n",
       "         43,  20,  69,  38, 385,  56,  55,  44, 391,  72, 390,  32,  62,\n",
       "        399, 393,  65, 377, 395, 388, 389, 386,  61, 412, 405, 434, 394,\n",
       "        382, 459, 440, 397, 383,  68, 461, 462, 463, 422,  51, 457, 430,\n",
       "        442, 403, 454, 428, 392, 410, 401, 474, 475, 477, 478,  54, 476,\n",
       "        380, 479,  45,  46, 495,  58,  48, 518,  52, 515, 520, 511, 536,\n",
       "        387, 218,  33, 544, 435, 436, 555, 433, 446, 558, 469, 616, 561,\n",
       "        553, 384, 592, 467, 585, 480, 421, 667, 626, 426, 595, 381, 376,\n",
       "        648, 521, 452, 449, 633, 398,  53, 460, 670, 551, 414, 557, 687,\n",
       "        404, 651, 686, 425, 504, 578, 674, 416, 586, 411, 756, 450, 745,\n",
       "        514, 417, 424, 776, 396, 683, 529, 439, 415, 456, 407, 458, 532,\n",
       "        481, 791, 701, 531, 792, 413, 445, 535, 784, 419, 455, 491, 431,\n",
       "        542, 470, 472, 717, 437,   3, 782, 728, 828, 524, 562, 761, 492,\n",
       "        775, 579, 493, 464, 760, 466, 465, 656, 831, 490, 432, 655, 427,\n",
       "        749, 838, 769, 587, 778, 854, 779, 850, 771, 594, 842, 589, 603,\n",
       "        484, 489, 486, 409, 444, 680, 808, 485, 503, 690, 772, 774, 526,\n",
       "        420, 528, 500, 826, 804, 508, 547, 805, 541, 543, 871, 550, 530],\n",
       "       dtype=int64),\n",
       " array([  0,   3,   1,   4,   2,  11,  16,   6,   5,  10,  12,   7,  18,\n",
       "          9,  21,   8,  14,  15,  26,  37,  13,  25,  20,  27,  17,  23,\n",
       "         38,  29,  24,  51, 275,  22,  19,  30,  58,  28,  32,  40,  55,\n",
       "         35,  41], dtype=int64),\n",
       " array(['unknown', 'failure', 'other', 'success'], dtype=object),\n",
       " array(['no', 'yes'], dtype=object)]"
      ]
     },
     "execution_count": 13,
     "metadata": {},
     "output_type": "execute_result"
    }
   ],
   "source": [
    "#list comprehension to find all the unique values from each column\n",
    "uniq=[df[itm].unique() for itm in df.columns]\n",
    "uniq\n"
   ]
  },
  {
   "cell_type": "markdown",
   "metadata": {},
   "source": [
    "#From above data , we can see that there are many columns with \"unknown' as  values , we will try to handle them\n"
   ]
  },
  {
   "cell_type": "markdown",
   "metadata": {},
   "source": [
    "# EDA- Exploratory Data analysis"
   ]
  },
  {
   "cell_type": "code",
   "execution_count": 14,
   "metadata": {},
   "outputs": [
    {
     "data": {
      "text/plain": [
       "(45211, 17)"
      ]
     },
     "execution_count": 14,
     "metadata": {},
     "output_type": "execute_result"
    }
   ],
   "source": [
    "#Shape of the data\n",
    "df.shape"
   ]
  },
  {
   "cell_type": "code",
   "execution_count": 15,
   "metadata": {},
   "outputs": [
    {
     "data": {
      "text/plain": [
       "age           int64\n",
       "job          object\n",
       "marital      object\n",
       "education    object\n",
       "default      object\n",
       "balance       int64\n",
       "housing      object\n",
       "loan         object\n",
       "contact      object\n",
       "day           int64\n",
       "month        object\n",
       "duration      int64\n",
       "campaign      int64\n",
       "pdays         int64\n",
       "previous      int64\n",
       "poutcome     object\n",
       "Target       object\n",
       "dtype: object"
      ]
     },
     "execution_count": 15,
     "metadata": {},
     "output_type": "execute_result"
    }
   ],
   "source": [
    "#Data type of each attribute\n",
    "df.dtypes"
   ]
  },
  {
   "cell_type": "code",
   "execution_count": 16,
   "metadata": {},
   "outputs": [
    {
     "data": {
      "text/html": [
       "<div>\n",
       "<style scoped>\n",
       "    .dataframe tbody tr th:only-of-type {\n",
       "        vertical-align: middle;\n",
       "    }\n",
       "\n",
       "    .dataframe tbody tr th {\n",
       "        vertical-align: top;\n",
       "    }\n",
       "\n",
       "    .dataframe thead th {\n",
       "        text-align: right;\n",
       "    }\n",
       "</style>\n",
       "<table border=\"1\" class=\"dataframe\">\n",
       "  <thead>\n",
       "    <tr style=\"text-align: right;\">\n",
       "      <th></th>\n",
       "      <th>count</th>\n",
       "      <th>mean</th>\n",
       "      <th>std</th>\n",
       "      <th>min</th>\n",
       "      <th>25%</th>\n",
       "      <th>50%</th>\n",
       "      <th>75%</th>\n",
       "      <th>max</th>\n",
       "    </tr>\n",
       "  </thead>\n",
       "  <tbody>\n",
       "    <tr>\n",
       "      <th>age</th>\n",
       "      <td>45211.0</td>\n",
       "      <td>40.936210</td>\n",
       "      <td>10.618762</td>\n",
       "      <td>18.0</td>\n",
       "      <td>33.0</td>\n",
       "      <td>39.0</td>\n",
       "      <td>48.0</td>\n",
       "      <td>95.0</td>\n",
       "    </tr>\n",
       "    <tr>\n",
       "      <th>balance</th>\n",
       "      <td>45211.0</td>\n",
       "      <td>1362.272058</td>\n",
       "      <td>3044.765829</td>\n",
       "      <td>-8019.0</td>\n",
       "      <td>72.0</td>\n",
       "      <td>448.0</td>\n",
       "      <td>1428.0</td>\n",
       "      <td>102127.0</td>\n",
       "    </tr>\n",
       "    <tr>\n",
       "      <th>day</th>\n",
       "      <td>45211.0</td>\n",
       "      <td>15.806419</td>\n",
       "      <td>8.322476</td>\n",
       "      <td>1.0</td>\n",
       "      <td>8.0</td>\n",
       "      <td>16.0</td>\n",
       "      <td>21.0</td>\n",
       "      <td>31.0</td>\n",
       "    </tr>\n",
       "    <tr>\n",
       "      <th>duration</th>\n",
       "      <td>45211.0</td>\n",
       "      <td>258.163080</td>\n",
       "      <td>257.527812</td>\n",
       "      <td>0.0</td>\n",
       "      <td>103.0</td>\n",
       "      <td>180.0</td>\n",
       "      <td>319.0</td>\n",
       "      <td>4918.0</td>\n",
       "    </tr>\n",
       "    <tr>\n",
       "      <th>campaign</th>\n",
       "      <td>45211.0</td>\n",
       "      <td>2.763841</td>\n",
       "      <td>3.098021</td>\n",
       "      <td>1.0</td>\n",
       "      <td>1.0</td>\n",
       "      <td>2.0</td>\n",
       "      <td>3.0</td>\n",
       "      <td>63.0</td>\n",
       "    </tr>\n",
       "    <tr>\n",
       "      <th>pdays</th>\n",
       "      <td>45211.0</td>\n",
       "      <td>40.197828</td>\n",
       "      <td>100.128746</td>\n",
       "      <td>-1.0</td>\n",
       "      <td>-1.0</td>\n",
       "      <td>-1.0</td>\n",
       "      <td>-1.0</td>\n",
       "      <td>871.0</td>\n",
       "    </tr>\n",
       "    <tr>\n",
       "      <th>previous</th>\n",
       "      <td>45211.0</td>\n",
       "      <td>0.580323</td>\n",
       "      <td>2.303441</td>\n",
       "      <td>0.0</td>\n",
       "      <td>0.0</td>\n",
       "      <td>0.0</td>\n",
       "      <td>0.0</td>\n",
       "      <td>275.0</td>\n",
       "    </tr>\n",
       "  </tbody>\n",
       "</table>\n",
       "</div>"
      ],
      "text/plain": [
       "            count         mean          std     min    25%    50%     75%  \\\n",
       "age       45211.0    40.936210    10.618762    18.0   33.0   39.0    48.0   \n",
       "balance   45211.0  1362.272058  3044.765829 -8019.0   72.0  448.0  1428.0   \n",
       "day       45211.0    15.806419     8.322476     1.0    8.0   16.0    21.0   \n",
       "duration  45211.0   258.163080   257.527812     0.0  103.0  180.0   319.0   \n",
       "campaign  45211.0     2.763841     3.098021     1.0    1.0    2.0     3.0   \n",
       "pdays     45211.0    40.197828   100.128746    -1.0   -1.0   -1.0    -1.0   \n",
       "previous  45211.0     0.580323     2.303441     0.0    0.0    0.0     0.0   \n",
       "\n",
       "               max  \n",
       "age           95.0  \n",
       "balance   102127.0  \n",
       "day           31.0  \n",
       "duration    4918.0  \n",
       "campaign      63.0  \n",
       "pdays        871.0  \n",
       "previous     275.0  "
      ]
     },
     "execution_count": 16,
     "metadata": {},
     "output_type": "execute_result"
    }
   ],
   "source": [
    "#Getting some more info\n",
    "df.describe().transpose()"
   ]
  },
  {
   "cell_type": "code",
   "execution_count": 17,
   "metadata": {},
   "outputs": [
    {
     "data": {
      "text/plain": [
       "age          0\n",
       "job          0\n",
       "marital      0\n",
       "education    0\n",
       "default      0\n",
       "balance      0\n",
       "housing      0\n",
       "loan         0\n",
       "contact      0\n",
       "day          0\n",
       "month        0\n",
       "duration     0\n",
       "campaign     0\n",
       "pdays        0\n",
       "previous     0\n",
       "poutcome     0\n",
       "Target       0\n",
       "dtype: int64"
      ]
     },
     "execution_count": 17,
     "metadata": {},
     "output_type": "execute_result"
    }
   ],
   "source": [
    "#Checking for any unknown values \n",
    "df=df.replace('?',np.nan )\n",
    "df.isna().sum()\n",
    "df.isnull().sum()"
   ]
  },
  {
   "cell_type": "raw",
   "metadata": {},
   "source": [
    "\n",
    "There seems no missing values , but the data seems to be skewed ,so we will try to correct the values.\n",
    "observing the data manually , we have found that either some of the colums contains\n",
    "\n",
    "a. Unknown value\n",
    "b. -1"
   ]
  },
  {
   "cell_type": "code",
   "execution_count": 18,
   "metadata": {},
   "outputs": [
    {
     "data": {
      "text/html": [
       "<div>\n",
       "<style scoped>\n",
       "    .dataframe tbody tr th:only-of-type {\n",
       "        vertical-align: middle;\n",
       "    }\n",
       "\n",
       "    .dataframe tbody tr th {\n",
       "        vertical-align: top;\n",
       "    }\n",
       "\n",
       "    .dataframe thead th {\n",
       "        text-align: right;\n",
       "    }\n",
       "</style>\n",
       "<table border=\"1\" class=\"dataframe\">\n",
       "  <thead>\n",
       "    <tr style=\"text-align: right;\">\n",
       "      <th></th>\n",
       "      <th>age</th>\n",
       "      <th>job</th>\n",
       "      <th>marital</th>\n",
       "      <th>education</th>\n",
       "      <th>default</th>\n",
       "      <th>balance</th>\n",
       "      <th>housing</th>\n",
       "      <th>loan</th>\n",
       "      <th>contact</th>\n",
       "      <th>day</th>\n",
       "      <th>month</th>\n",
       "      <th>duration</th>\n",
       "      <th>campaign</th>\n",
       "      <th>pdays</th>\n",
       "      <th>previous</th>\n",
       "      <th>poutcome</th>\n",
       "      <th>Target</th>\n",
       "    </tr>\n",
       "  </thead>\n",
       "  <tbody>\n",
       "    <tr>\n",
       "      <th>0</th>\n",
       "      <td>58</td>\n",
       "      <td>management</td>\n",
       "      <td>married</td>\n",
       "      <td>tertiary</td>\n",
       "      <td>no</td>\n",
       "      <td>2143</td>\n",
       "      <td>yes</td>\n",
       "      <td>no</td>\n",
       "      <td>unknown</td>\n",
       "      <td>5</td>\n",
       "      <td>may</td>\n",
       "      <td>261</td>\n",
       "      <td>1</td>\n",
       "      <td>-1</td>\n",
       "      <td>0</td>\n",
       "      <td>unknown</td>\n",
       "      <td>no</td>\n",
       "    </tr>\n",
       "    <tr>\n",
       "      <th>1</th>\n",
       "      <td>44</td>\n",
       "      <td>technician</td>\n",
       "      <td>single</td>\n",
       "      <td>secondary</td>\n",
       "      <td>no</td>\n",
       "      <td>29</td>\n",
       "      <td>yes</td>\n",
       "      <td>no</td>\n",
       "      <td>unknown</td>\n",
       "      <td>5</td>\n",
       "      <td>may</td>\n",
       "      <td>151</td>\n",
       "      <td>1</td>\n",
       "      <td>-1</td>\n",
       "      <td>0</td>\n",
       "      <td>unknown</td>\n",
       "      <td>no</td>\n",
       "    </tr>\n",
       "    <tr>\n",
       "      <th>2</th>\n",
       "      <td>33</td>\n",
       "      <td>entrepreneur</td>\n",
       "      <td>married</td>\n",
       "      <td>secondary</td>\n",
       "      <td>no</td>\n",
       "      <td>2</td>\n",
       "      <td>yes</td>\n",
       "      <td>yes</td>\n",
       "      <td>unknown</td>\n",
       "      <td>5</td>\n",
       "      <td>may</td>\n",
       "      <td>76</td>\n",
       "      <td>1</td>\n",
       "      <td>-1</td>\n",
       "      <td>0</td>\n",
       "      <td>unknown</td>\n",
       "      <td>no</td>\n",
       "    </tr>\n",
       "    <tr>\n",
       "      <th>3</th>\n",
       "      <td>47</td>\n",
       "      <td>blue-collar</td>\n",
       "      <td>married</td>\n",
       "      <td>unknown</td>\n",
       "      <td>no</td>\n",
       "      <td>1506</td>\n",
       "      <td>yes</td>\n",
       "      <td>no</td>\n",
       "      <td>unknown</td>\n",
       "      <td>5</td>\n",
       "      <td>may</td>\n",
       "      <td>92</td>\n",
       "      <td>1</td>\n",
       "      <td>-1</td>\n",
       "      <td>0</td>\n",
       "      <td>unknown</td>\n",
       "      <td>no</td>\n",
       "    </tr>\n",
       "  </tbody>\n",
       "</table>\n",
       "</div>"
      ],
      "text/plain": [
       "   age           job  marital  education default  balance housing loan  \\\n",
       "0   58    management  married   tertiary      no     2143     yes   no   \n",
       "1   44    technician   single  secondary      no       29     yes   no   \n",
       "2   33  entrepreneur  married  secondary      no        2     yes  yes   \n",
       "3   47   blue-collar  married    unknown      no     1506     yes   no   \n",
       "\n",
       "   contact  day month  duration  campaign  pdays  previous poutcome Target  \n",
       "0  unknown    5   may       261         1     -1         0  unknown     no  \n",
       "1  unknown    5   may       151         1     -1         0  unknown     no  \n",
       "2  unknown    5   may        76         1     -1         0  unknown     no  \n",
       "3  unknown    5   may        92         1     -1         0  unknown     no  "
      ]
     },
     "execution_count": 18,
     "metadata": {},
     "output_type": "execute_result"
    }
   ],
   "source": [
    "df.head(4)"
   ]
  },
  {
   "cell_type": "code",
   "execution_count": 19,
   "metadata": {},
   "outputs": [],
   "source": [
    "#Handling \"unknown\" and -1  value for Education,Job,Poutcome\n",
    "\n",
    "df=df.replace('unknown',np.nan)\n",
    "df=df.replace(-1,np.nan)\n"
   ]
  },
  {
   "cell_type": "code",
   "execution_count": 20,
   "metadata": {},
   "outputs": [
    {
     "data": {
      "text/html": [
       "<div>\n",
       "<style scoped>\n",
       "    .dataframe tbody tr th:only-of-type {\n",
       "        vertical-align: middle;\n",
       "    }\n",
       "\n",
       "    .dataframe tbody tr th {\n",
       "        vertical-align: top;\n",
       "    }\n",
       "\n",
       "    .dataframe thead th {\n",
       "        text-align: right;\n",
       "    }\n",
       "</style>\n",
       "<table border=\"1\" class=\"dataframe\">\n",
       "  <thead>\n",
       "    <tr style=\"text-align: right;\">\n",
       "      <th></th>\n",
       "      <th>age</th>\n",
       "      <th>job</th>\n",
       "      <th>marital</th>\n",
       "      <th>education</th>\n",
       "      <th>default</th>\n",
       "      <th>balance</th>\n",
       "      <th>housing</th>\n",
       "      <th>loan</th>\n",
       "      <th>contact</th>\n",
       "      <th>day</th>\n",
       "      <th>month</th>\n",
       "      <th>duration</th>\n",
       "      <th>campaign</th>\n",
       "      <th>pdays</th>\n",
       "      <th>previous</th>\n",
       "      <th>poutcome</th>\n",
       "      <th>Target</th>\n",
       "    </tr>\n",
       "  </thead>\n",
       "  <tbody>\n",
       "    <tr>\n",
       "      <th>0</th>\n",
       "      <td>58</td>\n",
       "      <td>management</td>\n",
       "      <td>married</td>\n",
       "      <td>tertiary</td>\n",
       "      <td>no</td>\n",
       "      <td>2143.0</td>\n",
       "      <td>yes</td>\n",
       "      <td>no</td>\n",
       "      <td>NaN</td>\n",
       "      <td>5</td>\n",
       "      <td>may</td>\n",
       "      <td>261</td>\n",
       "      <td>1</td>\n",
       "      <td>NaN</td>\n",
       "      <td>0</td>\n",
       "      <td>NaN</td>\n",
       "      <td>no</td>\n",
       "    </tr>\n",
       "    <tr>\n",
       "      <th>1</th>\n",
       "      <td>44</td>\n",
       "      <td>technician</td>\n",
       "      <td>single</td>\n",
       "      <td>secondary</td>\n",
       "      <td>no</td>\n",
       "      <td>29.0</td>\n",
       "      <td>yes</td>\n",
       "      <td>no</td>\n",
       "      <td>NaN</td>\n",
       "      <td>5</td>\n",
       "      <td>may</td>\n",
       "      <td>151</td>\n",
       "      <td>1</td>\n",
       "      <td>NaN</td>\n",
       "      <td>0</td>\n",
       "      <td>NaN</td>\n",
       "      <td>no</td>\n",
       "    </tr>\n",
       "    <tr>\n",
       "      <th>2</th>\n",
       "      <td>33</td>\n",
       "      <td>entrepreneur</td>\n",
       "      <td>married</td>\n",
       "      <td>secondary</td>\n",
       "      <td>no</td>\n",
       "      <td>2.0</td>\n",
       "      <td>yes</td>\n",
       "      <td>yes</td>\n",
       "      <td>NaN</td>\n",
       "      <td>5</td>\n",
       "      <td>may</td>\n",
       "      <td>76</td>\n",
       "      <td>1</td>\n",
       "      <td>NaN</td>\n",
       "      <td>0</td>\n",
       "      <td>NaN</td>\n",
       "      <td>no</td>\n",
       "    </tr>\n",
       "    <tr>\n",
       "      <th>3</th>\n",
       "      <td>47</td>\n",
       "      <td>blue-collar</td>\n",
       "      <td>married</td>\n",
       "      <td>NaN</td>\n",
       "      <td>no</td>\n",
       "      <td>1506.0</td>\n",
       "      <td>yes</td>\n",
       "      <td>no</td>\n",
       "      <td>NaN</td>\n",
       "      <td>5</td>\n",
       "      <td>may</td>\n",
       "      <td>92</td>\n",
       "      <td>1</td>\n",
       "      <td>NaN</td>\n",
       "      <td>0</td>\n",
       "      <td>NaN</td>\n",
       "      <td>no</td>\n",
       "    </tr>\n",
       "    <tr>\n",
       "      <th>4</th>\n",
       "      <td>33</td>\n",
       "      <td>NaN</td>\n",
       "      <td>single</td>\n",
       "      <td>NaN</td>\n",
       "      <td>no</td>\n",
       "      <td>1.0</td>\n",
       "      <td>no</td>\n",
       "      <td>no</td>\n",
       "      <td>NaN</td>\n",
       "      <td>5</td>\n",
       "      <td>may</td>\n",
       "      <td>198</td>\n",
       "      <td>1</td>\n",
       "      <td>NaN</td>\n",
       "      <td>0</td>\n",
       "      <td>NaN</td>\n",
       "      <td>no</td>\n",
       "    </tr>\n",
       "  </tbody>\n",
       "</table>\n",
       "</div>"
      ],
      "text/plain": [
       "   age           job  marital  education default  balance housing loan  \\\n",
       "0   58    management  married   tertiary      no   2143.0     yes   no   \n",
       "1   44    technician   single  secondary      no     29.0     yes   no   \n",
       "2   33  entrepreneur  married  secondary      no      2.0     yes  yes   \n",
       "3   47   blue-collar  married        NaN      no   1506.0     yes   no   \n",
       "4   33           NaN   single        NaN      no      1.0      no   no   \n",
       "\n",
       "  contact  day month  duration  campaign  pdays  previous poutcome Target  \n",
       "0     NaN    5   may       261         1    NaN         0      NaN     no  \n",
       "1     NaN    5   may       151         1    NaN         0      NaN     no  \n",
       "2     NaN    5   may        76         1    NaN         0      NaN     no  \n",
       "3     NaN    5   may        92         1    NaN         0      NaN     no  \n",
       "4     NaN    5   may       198         1    NaN         0      NaN     no  "
      ]
     },
     "execution_count": 20,
     "metadata": {},
     "output_type": "execute_result"
    }
   ],
   "source": [
    "df.head(5)\n"
   ]
  },
  {
   "cell_type": "code",
   "execution_count": 21,
   "metadata": {},
   "outputs": [
    {
     "data": {
      "text/plain": [
       "age              0\n",
       "job            288\n",
       "marital          0\n",
       "education     1857\n",
       "default          0\n",
       "balance         50\n",
       "housing          0\n",
       "loan             0\n",
       "contact      13020\n",
       "day              0\n",
       "month            0\n",
       "duration         0\n",
       "campaign         0\n",
       "pdays        36954\n",
       "previous         0\n",
       "poutcome     36959\n",
       "Target           0\n",
       "dtype: int64"
      ]
     },
     "execution_count": 21,
     "metadata": {},
     "output_type": "execute_result"
    }
   ],
   "source": [
    "#After replacing lets check for the null values \n",
    "df.isna().sum()\n"
   ]
  },
  {
   "cell_type": "markdown",
   "metadata": {},
   "source": [
    "# Replacing Null object values with mode"
   ]
  },
  {
   "cell_type": "code",
   "execution_count": 22,
   "metadata": {},
   "outputs": [],
   "source": [
    "#Since we have found null values now , we will replace them with mode or median which ever is applicable\n",
    "df.job.mode()[0]\n",
    "job_list=[df['job'].unique()]"
   ]
  },
  {
   "cell_type": "code",
   "execution_count": 23,
   "metadata": {},
   "outputs": [],
   "source": [
    "#Object type will be replaced with mode\n",
    "#others will be by median\n",
    "na_list=df.columns[df.isna().any()]\n",
    "na_list\n",
    "for item in na_list:\n",
    "    if df[item].dtype==object:\n",
    "        df[item] = df[item].fillna(df[item].mode()[0])\n",
    "    else:\n",
    "        df[item]=df[item].fillna((df[item].median()))\n",
    "        \n",
    "        "
   ]
  },
  {
   "cell_type": "code",
   "execution_count": 24,
   "metadata": {},
   "outputs": [
    {
     "data": {
      "text/html": [
       "<div>\n",
       "<style scoped>\n",
       "    .dataframe tbody tr th:only-of-type {\n",
       "        vertical-align: middle;\n",
       "    }\n",
       "\n",
       "    .dataframe tbody tr th {\n",
       "        vertical-align: top;\n",
       "    }\n",
       "\n",
       "    .dataframe thead th {\n",
       "        text-align: right;\n",
       "    }\n",
       "</style>\n",
       "<table border=\"1\" class=\"dataframe\">\n",
       "  <thead>\n",
       "    <tr style=\"text-align: right;\">\n",
       "      <th></th>\n",
       "      <th>age</th>\n",
       "      <th>job</th>\n",
       "      <th>marital</th>\n",
       "      <th>education</th>\n",
       "      <th>default</th>\n",
       "      <th>balance</th>\n",
       "      <th>housing</th>\n",
       "      <th>loan</th>\n",
       "      <th>contact</th>\n",
       "      <th>day</th>\n",
       "      <th>month</th>\n",
       "      <th>duration</th>\n",
       "      <th>campaign</th>\n",
       "      <th>pdays</th>\n",
       "      <th>previous</th>\n",
       "      <th>poutcome</th>\n",
       "      <th>Target</th>\n",
       "    </tr>\n",
       "  </thead>\n",
       "  <tbody>\n",
       "    <tr>\n",
       "      <th>0</th>\n",
       "      <td>58</td>\n",
       "      <td>management</td>\n",
       "      <td>married</td>\n",
       "      <td>tertiary</td>\n",
       "      <td>no</td>\n",
       "      <td>2143.0</td>\n",
       "      <td>yes</td>\n",
       "      <td>no</td>\n",
       "      <td>cellular</td>\n",
       "      <td>5</td>\n",
       "      <td>may</td>\n",
       "      <td>261</td>\n",
       "      <td>1</td>\n",
       "      <td>194.0</td>\n",
       "      <td>0</td>\n",
       "      <td>failure</td>\n",
       "      <td>no</td>\n",
       "    </tr>\n",
       "    <tr>\n",
       "      <th>1</th>\n",
       "      <td>44</td>\n",
       "      <td>technician</td>\n",
       "      <td>single</td>\n",
       "      <td>secondary</td>\n",
       "      <td>no</td>\n",
       "      <td>29.0</td>\n",
       "      <td>yes</td>\n",
       "      <td>no</td>\n",
       "      <td>cellular</td>\n",
       "      <td>5</td>\n",
       "      <td>may</td>\n",
       "      <td>151</td>\n",
       "      <td>1</td>\n",
       "      <td>194.0</td>\n",
       "      <td>0</td>\n",
       "      <td>failure</td>\n",
       "      <td>no</td>\n",
       "    </tr>\n",
       "    <tr>\n",
       "      <th>2</th>\n",
       "      <td>33</td>\n",
       "      <td>entrepreneur</td>\n",
       "      <td>married</td>\n",
       "      <td>secondary</td>\n",
       "      <td>no</td>\n",
       "      <td>2.0</td>\n",
       "      <td>yes</td>\n",
       "      <td>yes</td>\n",
       "      <td>cellular</td>\n",
       "      <td>5</td>\n",
       "      <td>may</td>\n",
       "      <td>76</td>\n",
       "      <td>1</td>\n",
       "      <td>194.0</td>\n",
       "      <td>0</td>\n",
       "      <td>failure</td>\n",
       "      <td>no</td>\n",
       "    </tr>\n",
       "    <tr>\n",
       "      <th>3</th>\n",
       "      <td>47</td>\n",
       "      <td>blue-collar</td>\n",
       "      <td>married</td>\n",
       "      <td>secondary</td>\n",
       "      <td>no</td>\n",
       "      <td>1506.0</td>\n",
       "      <td>yes</td>\n",
       "      <td>no</td>\n",
       "      <td>cellular</td>\n",
       "      <td>5</td>\n",
       "      <td>may</td>\n",
       "      <td>92</td>\n",
       "      <td>1</td>\n",
       "      <td>194.0</td>\n",
       "      <td>0</td>\n",
       "      <td>failure</td>\n",
       "      <td>no</td>\n",
       "    </tr>\n",
       "    <tr>\n",
       "      <th>4</th>\n",
       "      <td>33</td>\n",
       "      <td>blue-collar</td>\n",
       "      <td>single</td>\n",
       "      <td>secondary</td>\n",
       "      <td>no</td>\n",
       "      <td>1.0</td>\n",
       "      <td>no</td>\n",
       "      <td>no</td>\n",
       "      <td>cellular</td>\n",
       "      <td>5</td>\n",
       "      <td>may</td>\n",
       "      <td>198</td>\n",
       "      <td>1</td>\n",
       "      <td>194.0</td>\n",
       "      <td>0</td>\n",
       "      <td>failure</td>\n",
       "      <td>no</td>\n",
       "    </tr>\n",
       "  </tbody>\n",
       "</table>\n",
       "</div>"
      ],
      "text/plain": [
       "   age           job  marital  education default  balance housing loan  \\\n",
       "0   58    management  married   tertiary      no   2143.0     yes   no   \n",
       "1   44    technician   single  secondary      no     29.0     yes   no   \n",
       "2   33  entrepreneur  married  secondary      no      2.0     yes  yes   \n",
       "3   47   blue-collar  married  secondary      no   1506.0     yes   no   \n",
       "4   33   blue-collar   single  secondary      no      1.0      no   no   \n",
       "\n",
       "    contact  day month  duration  campaign  pdays  previous poutcome Target  \n",
       "0  cellular    5   may       261         1  194.0         0  failure     no  \n",
       "1  cellular    5   may       151         1  194.0         0  failure     no  \n",
       "2  cellular    5   may        76         1  194.0         0  failure     no  \n",
       "3  cellular    5   may        92         1  194.0         0  failure     no  \n",
       "4  cellular    5   may       198         1  194.0         0  failure     no  "
      ]
     },
     "execution_count": 24,
     "metadata": {},
     "output_type": "execute_result"
    }
   ],
   "source": [
    "#Checking the value\n",
    "df.head(5)"
   ]
  },
  {
   "cell_type": "code",
   "execution_count": 25,
   "metadata": {},
   "outputs": [
    {
     "data": {
      "text/plain": [
       "age          0\n",
       "job          0\n",
       "marital      0\n",
       "education    0\n",
       "default      0\n",
       "balance      0\n",
       "housing      0\n",
       "loan         0\n",
       "contact      0\n",
       "day          0\n",
       "month        0\n",
       "duration     0\n",
       "campaign     0\n",
       "pdays        0\n",
       "previous     0\n",
       "poutcome     0\n",
       "Target       0\n",
       "dtype: int64"
      ]
     },
     "execution_count": 25,
     "metadata": {},
     "output_type": "execute_result"
    }
   ],
   "source": [
    "#Verifying any null values\n",
    "df.isna().sum()"
   ]
  },
  {
   "cell_type": "code",
   "execution_count": 26,
   "metadata": {},
   "outputs": [
    {
     "data": {
      "text/html": [
       "<div>\n",
       "<style scoped>\n",
       "    .dataframe tbody tr th:only-of-type {\n",
       "        vertical-align: middle;\n",
       "    }\n",
       "\n",
       "    .dataframe tbody tr th {\n",
       "        vertical-align: top;\n",
       "    }\n",
       "\n",
       "    .dataframe thead th {\n",
       "        text-align: right;\n",
       "    }\n",
       "</style>\n",
       "<table border=\"1\" class=\"dataframe\">\n",
       "  <thead>\n",
       "    <tr style=\"text-align: right;\">\n",
       "      <th></th>\n",
       "      <th>count</th>\n",
       "      <th>mean</th>\n",
       "      <th>std</th>\n",
       "      <th>min</th>\n",
       "      <th>25%</th>\n",
       "      <th>50%</th>\n",
       "      <th>75%</th>\n",
       "      <th>max</th>\n",
       "    </tr>\n",
       "  </thead>\n",
       "  <tbody>\n",
       "    <tr>\n",
       "      <th>age</th>\n",
       "      <td>45211.0</td>\n",
       "      <td>40.936210</td>\n",
       "      <td>10.618762</td>\n",
       "      <td>18.0</td>\n",
       "      <td>33.0</td>\n",
       "      <td>39.0</td>\n",
       "      <td>48.0</td>\n",
       "      <td>95.0</td>\n",
       "    </tr>\n",
       "    <tr>\n",
       "      <th>balance</th>\n",
       "      <td>45211.0</td>\n",
       "      <td>1362.770830</td>\n",
       "      <td>3044.579397</td>\n",
       "      <td>-8019.0</td>\n",
       "      <td>74.0</td>\n",
       "      <td>450.0</td>\n",
       "      <td>1428.0</td>\n",
       "      <td>102127.0</td>\n",
       "    </tr>\n",
       "    <tr>\n",
       "      <th>day</th>\n",
       "      <td>45211.0</td>\n",
       "      <td>15.806419</td>\n",
       "      <td>8.322476</td>\n",
       "      <td>1.0</td>\n",
       "      <td>8.0</td>\n",
       "      <td>16.0</td>\n",
       "      <td>21.0</td>\n",
       "      <td>31.0</td>\n",
       "    </tr>\n",
       "    <tr>\n",
       "      <th>duration</th>\n",
       "      <td>45211.0</td>\n",
       "      <td>258.163080</td>\n",
       "      <td>257.527812</td>\n",
       "      <td>0.0</td>\n",
       "      <td>103.0</td>\n",
       "      <td>180.0</td>\n",
       "      <td>319.0</td>\n",
       "      <td>4918.0</td>\n",
       "    </tr>\n",
       "    <tr>\n",
       "      <th>campaign</th>\n",
       "      <td>45211.0</td>\n",
       "      <td>2.763841</td>\n",
       "      <td>3.098021</td>\n",
       "      <td>1.0</td>\n",
       "      <td>1.0</td>\n",
       "      <td>2.0</td>\n",
       "      <td>3.0</td>\n",
       "      <td>63.0</td>\n",
       "    </tr>\n",
       "    <tr>\n",
       "      <th>pdays</th>\n",
       "      <td>45211.0</td>\n",
       "      <td>199.584482</td>\n",
       "      <td>50.686537</td>\n",
       "      <td>1.0</td>\n",
       "      <td>194.0</td>\n",
       "      <td>194.0</td>\n",
       "      <td>194.0</td>\n",
       "      <td>871.0</td>\n",
       "    </tr>\n",
       "    <tr>\n",
       "      <th>previous</th>\n",
       "      <td>45211.0</td>\n",
       "      <td>0.580323</td>\n",
       "      <td>2.303441</td>\n",
       "      <td>0.0</td>\n",
       "      <td>0.0</td>\n",
       "      <td>0.0</td>\n",
       "      <td>0.0</td>\n",
       "      <td>275.0</td>\n",
       "    </tr>\n",
       "  </tbody>\n",
       "</table>\n",
       "</div>"
      ],
      "text/plain": [
       "            count         mean          std     min    25%    50%     75%  \\\n",
       "age       45211.0    40.936210    10.618762    18.0   33.0   39.0    48.0   \n",
       "balance   45211.0  1362.770830  3044.579397 -8019.0   74.0  450.0  1428.0   \n",
       "day       45211.0    15.806419     8.322476     1.0    8.0   16.0    21.0   \n",
       "duration  45211.0   258.163080   257.527812     0.0  103.0  180.0   319.0   \n",
       "campaign  45211.0     2.763841     3.098021     1.0    1.0    2.0     3.0   \n",
       "pdays     45211.0   199.584482    50.686537     1.0  194.0  194.0   194.0   \n",
       "previous  45211.0     0.580323     2.303441     0.0    0.0    0.0     0.0   \n",
       "\n",
       "               max  \n",
       "age           95.0  \n",
       "balance   102127.0  \n",
       "day           31.0  \n",
       "duration    4918.0  \n",
       "campaign      63.0  \n",
       "pdays        871.0  \n",
       "previous     275.0  "
      ]
     },
     "execution_count": 26,
     "metadata": {},
     "output_type": "execute_result"
    }
   ],
   "source": [
    "df.describe().transpose()"
   ]
  },
  {
   "cell_type": "markdown",
   "metadata": {},
   "source": [
    "# Graphical distribution of data"
   ]
  },
  {
   "cell_type": "code",
   "execution_count": 27,
   "metadata": {},
   "outputs": [
    {
     "data": {
      "text/plain": [
       "<seaborn.axisgrid.PairGrid at 0x1f9e1abec50>"
      ]
     },
     "execution_count": 27,
     "metadata": {},
     "output_type": "execute_result"
    },
    {
     "data": {
      "image/png": "[encoded data removed]",
      "text/plain": [
       "<Figure size 1260x1260 with 56 Axes>"
      ]
     },
     "metadata": {
      "needs_background": "light"
     },
     "output_type": "display_data"
    }
   ],
   "source": [
    "sns.pairplot(df)"
   ]
  },
  {
   "cell_type": "code",
   "execution_count": 63,
   "metadata": {},
   "outputs": [
    {
     "data": {
      "text/plain": [
       "<matplotlib.axes._subplots.AxesSubplot at 0x1ec18b98c18>"
      ]
     },
     "execution_count": 63,
     "metadata": {},
     "output_type": "execute_result"
    },
    {
     "data": {
      "image/png": "[encoded data removed]",
      "text/plain": [
       "<Figure size 432x288 with 1 Axes>"
      ]
     },
     "metadata": {
      "needs_background": "light"
     },
     "output_type": "display_data"
    }
   ],
   "source": [
    "sns.distplot(df[['balance']],kde=True)\n"
   ]
  },
  {
   "cell_type": "code",
   "execution_count": 64,
   "metadata": {},
   "outputs": [
    {
     "data": {
      "text/plain": [
       "<matplotlib.axes._subplots.AxesSubplot at 0x1ec18ba04a8>"
      ]
     },
     "execution_count": 64,
     "metadata": {},
     "output_type": "execute_result"
    },
    {
     "data": {
      "image/png": "[encoded data removed]",
      "text/plain": [
       "<Figure size 432x288 with 1 Axes>"
      ]
     },
     "metadata": {
      "needs_background": "light"
     },
     "output_type": "display_data"
    }
   ],
   "source": [
    "sns.distplot(df[['age']],kde=True)\n"
   ]
  },
  {
   "cell_type": "code",
   "execution_count": 65,
   "metadata": {},
   "outputs": [
    {
     "data": {
      "text/plain": [
       "<matplotlib.axes._subplots.AxesSubplot at 0x1ec188a1160>"
      ]
     },
     "execution_count": 65,
     "metadata": {},
     "output_type": "execute_result"
    },
    {
     "data": {
      "image/png": "[encoded data removed]",
      "text/plain": [
       "<Figure size 432x288 with 1 Axes>"
      ]
     },
     "metadata": {
      "needs_background": "light"
     },
     "output_type": "display_data"
    }
   ],
   "source": [
    "sns.distplot(df[['day']],kde=True)\n"
   ]
  },
  {
   "cell_type": "code",
   "execution_count": 66,
   "metadata": {},
   "outputs": [
    {
     "data": {
      "text/plain": [
       "<matplotlib.axes._subplots.AxesSubplot at 0x1ec18c6aba8>"
      ]
     },
     "execution_count": 66,
     "metadata": {},
     "output_type": "execute_result"
    },
    {
     "data": {
      "image/png": "[encoded data removed]",
      "text/plain": [
       "<Figure size 432x288 with 1 Axes>"
      ]
     },
     "metadata": {
      "needs_background": "light"
     },
     "output_type": "display_data"
    }
   ],
   "source": [
    "sns.distplot(df[['duration']],kde=True)\n"
   ]
  },
  {
   "cell_type": "code",
   "execution_count": 67,
   "metadata": {},
   "outputs": [
    {
     "data": {
      "text/plain": [
       "<matplotlib.axes._subplots.AxesSubplot at 0x1ec18d56eb8>"
      ]
     },
     "execution_count": 67,
     "metadata": {},
     "output_type": "execute_result"
    },
    {
     "data": {
      "image/png": "[encoded data removed]",
      "text/plain": [
       "<Figure size 432x288 with 1 Axes>"
      ]
     },
     "metadata": {
      "needs_background": "light"
     },
     "output_type": "display_data"
    }
   ],
   "source": [
    "sns.distplot(df[['pdays']],kde=True)"
   ]
  },
  {
   "cell_type": "markdown",
   "metadata": {},
   "source": [
    "# 5 Point summary"
   ]
  },
  {
   "cell_type": "markdown",
   "metadata": {},
   "source": [
    "5 Point summary will tell\n",
    "\n",
    "1. 1st quartile , 25 % of data\n",
    "2. 2nd quartile , 50 % of data, called median as well\n",
    "3. 3rd quartile , 75 % of data\n",
    "4. Min value of data frame\n",
    "5. Max value of data frame"
   ]
  },
  {
   "cell_type": "code",
   "execution_count": 68,
   "metadata": {},
   "outputs": [
    {
     "name": "stdout",
     "output_type": "stream",
     "text": [
      "--------------First quartile---------------\n",
      "       age  balance  day  duration  campaign  pdays  previous\n",
      "0.25  33.0     74.0  8.0     103.0       1.0  194.0       0.0\n",
      "--------------Second quartile---------------\n",
      "      age  balance   day  duration  campaign  pdays  previous\n",
      "0.5  39.0    450.0  16.0     180.0       2.0  194.0       0.0\n",
      "--------------Third quartile---------------\n",
      "       age  balance   day  duration  campaign  pdays  previous\n",
      "0.75  48.0   1428.0  21.0     319.0       3.0  194.0       0.0\n",
      "--------------Minimum Value---------------\n",
      "min value in (age) in data frame is \n",
      " age                18\n",
      "job            admin.\n",
      "marital      divorced\n",
      "education     primary\n",
      "default            no\n",
      "balance         -8019\n",
      "housing            no\n",
      "loan               no\n",
      "contact      cellular\n",
      "day                 1\n",
      "month             apr\n",
      "duration            0\n",
      "campaign            1\n",
      "pdays               1\n",
      "previous            0\n",
      "poutcome      failure\n",
      "Target             no\n",
      "dtype: object\n",
      "--------------Max Value---------------\n",
      "max value in (age) in data frame is \n",
      " age                  95\n",
      "job          unemployed\n",
      "marital          single\n",
      "education      tertiary\n",
      "default             yes\n",
      "balance          102127\n",
      "housing             yes\n",
      "loan                yes\n",
      "contact       telephone\n",
      "day                  31\n",
      "month               sep\n",
      "duration           4918\n",
      "campaign             63\n",
      "pdays               871\n",
      "previous            275\n",
      "poutcome        success\n",
      "Target              yes\n",
      "dtype: object\n"
     ]
    }
   ],
   "source": [
    "#Interquntile range will suggest how disperse the data is \n",
    "print ('--------------First quartile---------------')\n",
    "print (df.quantile([.25, .50, .75]).iloc[0:1])\n",
    "print ('--------------Second quartile---------------')\n",
    "print (df.quantile([.25, .50, .75]).iloc[1:2])\n",
    "print ('--------------Third quartile---------------')\n",
    "print (df.quantile([.25, .50, .75]).iloc[2:3])\n",
    "print ('--------------Minimum Value---------------')\n",
    "print ('min value in (age) in data frame is \\n '+str(df.min()))\n",
    "print ('--------------Max Value---------------')\n",
    "print ('max value in (age) in data frame is \\n '+str(df.max()))\n"
   ]
  },
  {
   "cell_type": "markdown",
   "metadata": {},
   "source": [
    "# Finding outliers"
   ]
  },
  {
   "cell_type": "markdown",
   "metadata": {},
   "source": [
    "lets see the outliers with box plot first "
   ]
  },
  {
   "cell_type": "code",
   "execution_count": 69,
   "metadata": {
    "scrolled": true
   },
   "outputs": [
    {
     "data": {
      "text/plain": [
       "<matplotlib.axes._subplots.AxesSubplot at 0x1ec188a1198>"
      ]
     },
     "execution_count": 69,
     "metadata": {},
     "output_type": "execute_result"
    },
    {
     "data": {
      "image/png": "[encoded data removed]",
      "text/plain": [
       "<Figure size 432x288 with 1 Axes>"
      ]
     },
     "metadata": {
      "needs_background": "light"
     },
     "output_type": "display_data"
    }
   ],
   "source": [
    "df.boxplot()"
   ]
  },
  {
   "cell_type": "markdown",
   "metadata": {},
   "source": [
    "We can see that there are lots of outliers , especially in 'balance' columns\n",
    "below is a function which will find the number of outliers in each column"
   ]
  },
  {
   "cell_type": "code",
   "execution_count": 70,
   "metadata": {},
   "outputs": [],
   "source": [
    "def detect_outlier(df_in, col_name):\n",
    "    df_in=df_in.sort_values(by=col_name,ascending=True)\n",
    "    q1 = df_in[col_name].quantile(0.25)\n",
    "    q3 = df_in[col_name].quantile(0.75)\n",
    "    iqr = q3-q1 #Interquartile range\n",
    "    fence_low  = q1-1.5*iqr\n",
    "    print ('lowerbound-->'+str(fence_low))\n",
    "    fence_high = q3+1.5*iqr\n",
    "    print ('higherbound-->'+str(fence_high))\n",
    "    df_outlier=[x for x in df_in[col_name] if x<fence_low or x>fence_high]\n",
    "    if len(df_outlier)==0:\n",
    "        print ('no outlier')\n",
    "    else:\n",
    "        print ('there are==>' + str(len(df_outlier))+' Outliers \\n')\n",
    "        #print  (df_outlier)\n",
    "    #return df_outlier"
   ]
  },
  {
   "cell_type": "code",
   "execution_count": 71,
   "metadata": {},
   "outputs": [
    {
     "name": "stdout",
     "output_type": "stream",
     "text": [
      "outliers in-->age\n",
      "lowerbound-->10.5\n",
      "higherbound-->70.5\n",
      "there are==>487 Outliers \n",
      "\n",
      "outliers in-->balance\n",
      "lowerbound-->-1957.0\n",
      "higherbound-->3459.0\n",
      "there are==>4736 Outliers \n",
      "\n",
      "outliers in-->day\n",
      "lowerbound-->-11.5\n",
      "higherbound-->40.5\n",
      "no outlier\n",
      "outliers in-->duration\n",
      "lowerbound-->-221.0\n",
      "higherbound-->643.0\n",
      "there are==>3235 Outliers \n",
      "\n",
      "outliers in-->campaign\n",
      "lowerbound-->-2.0\n",
      "higherbound-->6.0\n",
      "there are==>3064 Outliers \n",
      "\n",
      "outliers in-->pdays\n",
      "lowerbound-->194.0\n",
      "higherbound-->194.0\n",
      "there are==>8242 Outliers \n",
      "\n",
      "outliers in-->previous\n",
      "lowerbound-->0.0\n",
      "higherbound-->0.0\n",
      "there are==>8257 Outliers \n",
      "\n"
     ]
    }
   ],
   "source": [
    "list_numeric=df.describe().columns.tolist()\n",
    "for item in list_numeric:\n",
    "    print (\"outliers in-->\"+str(item))\n",
    "    detect_outlier(df,item)\n"
   ]
  },
  {
   "cell_type": "markdown",
   "metadata": {},
   "source": [
    "# Removing outlier - Comparing the original data with the data after outliers removed"
   ]
  },
  {
   "cell_type": "markdown",
   "metadata": {},
   "source": [
    "There are around 18000 total outliers in data frame, if i will delete all the rows containing outliers\n",
    "my data will be wiped around 50% , so i will hold the activity of removing outliers.\n",
    "\n",
    "However, below is a method which can remove the outliers and i have created duplicate data frame to show the diffrence "
   ]
  },
  {
   "cell_type": "code",
   "execution_count": 72,
   "metadata": {},
   "outputs": [],
   "source": [
    "#copy of original data frame\n",
    "df_copy=df.copy()"
   ]
  },
  {
   "cell_type": "code",
   "execution_count": 73,
   "metadata": {},
   "outputs": [],
   "source": [
    "#Finding the column values which exceeds IQR range\n",
    "for item in list_numeric:\n",
    "    df_copy[item]=df_copy[item].mask((df_copy[item] - df_copy[item].mean()).abs() > 1.5 * df_copy[item].std())"
   ]
  },
  {
   "cell_type": "code",
   "execution_count": 74,
   "metadata": {},
   "outputs": [
    {
     "name": "stdout",
     "output_type": "stream",
     "text": [
      "Shape of data after removing outliers\n",
      "(24886, 17)\n",
      "Shape of data before removing outliers\n",
      "(45211, 17)\n"
     ]
    }
   ],
   "source": [
    "#dropping the outliers\n",
    "#print (df.shape)\n",
    "df_copy=df_copy.dropna()\n",
    "\n",
    "print ('Shape of data after removing outliers')\n",
    "print (df_copy.shape)\n",
    "print ('Shape of data before removing outliers')\n",
    "print (df.shape)\n",
    "#print (df.shape)"
   ]
  },
  {
   "cell_type": "code",
   "execution_count": 75,
   "metadata": {
    "scrolled": true
   },
   "outputs": [
    {
     "data": {
      "text/plain": [
       "<matplotlib.axes._subplots.AxesSubplot at 0x1ec1336d9b0>"
      ]
     },
     "execution_count": 75,
     "metadata": {},
     "output_type": "execute_result"
    },
    {
     "data": {
      "image/png": "[encoded data removed]",
      "text/plain": [
       "<Figure size 432x288 with 1 Axes>"
      ]
     },
     "metadata": {
      "needs_background": "light"
     },
     "output_type": "display_data"
    }
   ],
   "source": [
    "\n",
    "df.boxplot()"
   ]
  },
  {
   "cell_type": "code",
   "execution_count": 76,
   "metadata": {},
   "outputs": [
    {
     "data": {
      "text/plain": [
       "<matplotlib.axes._subplots.AxesSubplot at 0x1ec176677b8>"
      ]
     },
     "execution_count": 76,
     "metadata": {},
     "output_type": "execute_result"
    },
    {
     "data": {
      "image/png": "[encoded data removed]",
      "text/plain": [
       "<Figure size 432x288 with 1 Axes>"
      ]
     },
     "metadata": {
      "needs_background": "light"
     },
     "output_type": "display_data"
    }
   ],
   "source": [
    "df_copy.boxplot()"
   ]
  },
  {
   "cell_type": "code",
   "execution_count": 77,
   "metadata": {},
   "outputs": [
    {
     "data": {
      "text/plain": [
       "array([[<matplotlib.axes._subplots.AxesSubplot object at 0x000001EC190505F8>,\n",
       "        <matplotlib.axes._subplots.AxesSubplot object at 0x000001EC17778D68>,\n",
       "        <matplotlib.axes._subplots.AxesSubplot object at 0x000001EC18ED5358>],\n",
       "       [<matplotlib.axes._subplots.AxesSubplot object at 0x000001EC18F07908>,\n",
       "        <matplotlib.axes._subplots.AxesSubplot object at 0x000001EC18F38EB8>,\n",
       "        <matplotlib.axes._subplots.AxesSubplot object at 0x000001EC18F764A8>],\n",
       "       [<matplotlib.axes._subplots.AxesSubplot object at 0x000001EC18FE8A58>,\n",
       "        <matplotlib.axes._subplots.AxesSubplot object at 0x000001EC19067080>,\n",
       "        <matplotlib.axes._subplots.AxesSubplot object at 0x000001EC190670B8>]],\n",
       "      dtype=object)"
      ]
     },
     "execution_count": 77,
     "metadata": {},
     "output_type": "execute_result"
    },
    {
     "data": {
      "image/png": "[encoded data removed]",
      "text/plain": [
       "<Figure size 432x288 with 9 Axes>"
      ]
     },
     "metadata": {
      "needs_background": "light"
     },
     "output_type": "display_data"
    }
   ],
   "source": [
    "df.hist()"
   ]
  },
  {
   "cell_type": "markdown",
   "metadata": {},
   "source": [
    "# Handling Target variable "
   ]
  },
  {
   "cell_type": "code",
   "execution_count": 78,
   "metadata": {},
   "outputs": [
    {
     "data": {
      "text/plain": [
       "array(['no', 'yes'], dtype=object)"
      ]
     },
     "execution_count": 78,
     "metadata": {},
     "output_type": "execute_result"
    }
   ],
   "source": [
    "#Check for unique values in dataframe\n",
    "df['Target'].unique()\n"
   ]
  },
  {
   "cell_type": "code",
   "execution_count": 79,
   "metadata": {},
   "outputs": [],
   "source": [
    "#Convering the categorical data into cat code \n",
    "df['Target']=df['Target'].astype('category')\n",
    "df['Target']=df['Target'].cat.codes\n"
   ]
  },
  {
   "cell_type": "code",
   "execution_count": 80,
   "metadata": {},
   "outputs": [
    {
     "data": {
      "text/html": [
       "<div>\n",
       "<style scoped>\n",
       "    .dataframe tbody tr th:only-of-type {\n",
       "        vertical-align: middle;\n",
       "    }\n",
       "\n",
       "    .dataframe tbody tr th {\n",
       "        vertical-align: top;\n",
       "    }\n",
       "\n",
       "    .dataframe thead tr th {\n",
       "        text-align: left;\n",
       "    }\n",
       "\n",
       "    .dataframe thead tr:last-of-type th {\n",
       "        text-align: right;\n",
       "    }\n",
       "</style>\n",
       "<table border=\"1\" class=\"dataframe\">\n",
       "  <thead>\n",
       "    <tr>\n",
       "      <th></th>\n",
       "      <th colspan=\"8\" halign=\"left\">age</th>\n",
       "      <th colspan=\"2\" halign=\"left\">balance</th>\n",
       "      <th>...</th>\n",
       "      <th colspan=\"2\" halign=\"left\">pdays</th>\n",
       "      <th colspan=\"8\" halign=\"left\">previous</th>\n",
       "    </tr>\n",
       "    <tr>\n",
       "      <th></th>\n",
       "      <th>count</th>\n",
       "      <th>mean</th>\n",
       "      <th>std</th>\n",
       "      <th>min</th>\n",
       "      <th>25%</th>\n",
       "      <th>50%</th>\n",
       "      <th>75%</th>\n",
       "      <th>max</th>\n",
       "      <th>count</th>\n",
       "      <th>mean</th>\n",
       "      <th>...</th>\n",
       "      <th>75%</th>\n",
       "      <th>max</th>\n",
       "      <th>count</th>\n",
       "      <th>mean</th>\n",
       "      <th>std</th>\n",
       "      <th>min</th>\n",
       "      <th>25%</th>\n",
       "      <th>50%</th>\n",
       "      <th>75%</th>\n",
       "      <th>max</th>\n",
       "    </tr>\n",
       "    <tr>\n",
       "      <th>Target</th>\n",
       "      <th></th>\n",
       "      <th></th>\n",
       "      <th></th>\n",
       "      <th></th>\n",
       "      <th></th>\n",
       "      <th></th>\n",
       "      <th></th>\n",
       "      <th></th>\n",
       "      <th></th>\n",
       "      <th></th>\n",
       "      <th></th>\n",
       "      <th></th>\n",
       "      <th></th>\n",
       "      <th></th>\n",
       "      <th></th>\n",
       "      <th></th>\n",
       "      <th></th>\n",
       "      <th></th>\n",
       "      <th></th>\n",
       "      <th></th>\n",
       "      <th></th>\n",
       "    </tr>\n",
       "  </thead>\n",
       "  <tbody>\n",
       "    <tr>\n",
       "      <th>0</th>\n",
       "      <td>39922.0</td>\n",
       "      <td>40.838986</td>\n",
       "      <td>10.172662</td>\n",
       "      <td>18.0</td>\n",
       "      <td>33.0</td>\n",
       "      <td>39.0</td>\n",
       "      <td>48.0</td>\n",
       "      <td>95.0</td>\n",
       "      <td>39922.0</td>\n",
       "      <td>1304.234633</td>\n",
       "      <td>...</td>\n",
       "      <td>194.0</td>\n",
       "      <td>871.0</td>\n",
       "      <td>39922.0</td>\n",
       "      <td>0.502154</td>\n",
       "      <td>2.256771</td>\n",
       "      <td>0.0</td>\n",
       "      <td>0.0</td>\n",
       "      <td>0.0</td>\n",
       "      <td>0.0</td>\n",
       "      <td>275.0</td>\n",
       "    </tr>\n",
       "    <tr>\n",
       "      <th>1</th>\n",
       "      <td>5289.0</td>\n",
       "      <td>41.670070</td>\n",
       "      <td>13.497781</td>\n",
       "      <td>18.0</td>\n",
       "      <td>31.0</td>\n",
       "      <td>38.0</td>\n",
       "      <td>50.0</td>\n",
       "      <td>95.0</td>\n",
       "      <td>5289.0</td>\n",
       "      <td>1804.609000</td>\n",
       "      <td>...</td>\n",
       "      <td>194.0</td>\n",
       "      <td>854.0</td>\n",
       "      <td>5289.0</td>\n",
       "      <td>1.170354</td>\n",
       "      <td>2.553272</td>\n",
       "      <td>0.0</td>\n",
       "      <td>0.0</td>\n",
       "      <td>0.0</td>\n",
       "      <td>1.0</td>\n",
       "      <td>58.0</td>\n",
       "    </tr>\n",
       "  </tbody>\n",
       "</table>\n",
       "<p>2 rows × 56 columns</p>\n",
       "</div>"
      ],
      "text/plain": [
       "            age                                                      balance  \\\n",
       "          count       mean        std   min   25%   50%   75%   max    count   \n",
       "Target                                                                         \n",
       "0       39922.0  40.838986  10.172662  18.0  33.0  39.0  48.0  95.0  39922.0   \n",
       "1        5289.0  41.670070  13.497781  18.0  31.0  38.0  50.0  95.0   5289.0   \n",
       "\n",
       "                     ...  pdays        previous                                \\\n",
       "               mean  ...    75%    max    count      mean       std  min  25%   \n",
       "Target               ...                                                        \n",
       "0       1304.234633  ...  194.0  871.0  39922.0  0.502154  2.256771  0.0  0.0   \n",
       "1       1804.609000  ...  194.0  854.0   5289.0  1.170354  2.553272  0.0  0.0   \n",
       "\n",
       "                         \n",
       "        50%  75%    max  \n",
       "Target                   \n",
       "0       0.0  0.0  275.0  \n",
       "1       0.0  1.0   58.0  \n",
       "\n",
       "[2 rows x 56 columns]"
      ]
     },
     "execution_count": 80,
     "metadata": {},
     "output_type": "execute_result"
    }
   ],
   "source": [
    "df.groupby('Target').describe()"
   ]
  },
  {
   "cell_type": "markdown",
   "metadata": {},
   "source": [
    "# Handling Categorical variable "
   ]
  },
  {
   "cell_type": "code",
   "execution_count": 81,
   "metadata": {},
   "outputs": [
    {
     "name": "stdout",
     "output_type": "stream",
     "text": [
      "job\n",
      "marital\n",
      "education\n",
      "default\n",
      "housing\n",
      "loan\n",
      "contact\n",
      "month\n",
      "poutcome\n"
     ]
    }
   ],
   "source": [
    "#Filtering the data with object type\n",
    "object_datatype=[]\n",
    "for items in df.columns:\n",
    "    if df[items].dtypes=='object':\n",
    "        object_datatype.append(items)\n",
    "        print (items)"
   ]
  },
  {
   "cell_type": "markdown",
   "metadata": {},
   "source": [
    "# One Hot Coding"
   ]
  },
  {
   "cell_type": "raw",
   "metadata": {},
   "source": [
    "Convert categorical variable into dummy/indicator variables. As many columns will be created as distinct values\n",
    "This is also kown as one hot coding"
   ]
  },
  {
   "cell_type": "code",
   "execution_count": 82,
   "metadata": {},
   "outputs": [
    {
     "data": {
      "text/plain": [
       "(45211, 48)"
      ]
     },
     "execution_count": 82,
     "metadata": {},
     "output_type": "execute_result"
    }
   ],
   "source": [
    "for items in object_datatype:\n",
    "    df[items]=df[items].astype('category')\n",
    "    df=pd.get_dummies(df, columns=[items])\n",
    "df.shape"
   ]
  },
  {
   "cell_type": "raw",
   "metadata": {},
   "source": [
    "We can see that number of columns have increased from from 17 to 49 , lets have a look on data"
   ]
  },
  {
   "cell_type": "code",
   "execution_count": 83,
   "metadata": {},
   "outputs": [
    {
     "data": {
      "text/html": [
       "<div>\n",
       "<style scoped>\n",
       "    .dataframe tbody tr th:only-of-type {\n",
       "        vertical-align: middle;\n",
       "    }\n",
       "\n",
       "    .dataframe tbody tr th {\n",
       "        vertical-align: top;\n",
       "    }\n",
       "\n",
       "    .dataframe thead th {\n",
       "        text-align: right;\n",
       "    }\n",
       "</style>\n",
       "<table border=\"1\" class=\"dataframe\">\n",
       "  <thead>\n",
       "    <tr style=\"text-align: right;\">\n",
       "      <th></th>\n",
       "      <th>age</th>\n",
       "      <th>balance</th>\n",
       "      <th>day</th>\n",
       "      <th>duration</th>\n",
       "      <th>campaign</th>\n",
       "      <th>pdays</th>\n",
       "      <th>previous</th>\n",
       "      <th>Target</th>\n",
       "      <th>job_admin.</th>\n",
       "      <th>job_blue-collar</th>\n",
       "      <th>...</th>\n",
       "      <th>month_jul</th>\n",
       "      <th>month_jun</th>\n",
       "      <th>month_mar</th>\n",
       "      <th>month_may</th>\n",
       "      <th>month_nov</th>\n",
       "      <th>month_oct</th>\n",
       "      <th>month_sep</th>\n",
       "      <th>poutcome_failure</th>\n",
       "      <th>poutcome_other</th>\n",
       "      <th>poutcome_success</th>\n",
       "    </tr>\n",
       "  </thead>\n",
       "  <tbody>\n",
       "    <tr>\n",
       "      <th>0</th>\n",
       "      <td>58</td>\n",
       "      <td>2143.0</td>\n",
       "      <td>5</td>\n",
       "      <td>261</td>\n",
       "      <td>1</td>\n",
       "      <td>194.0</td>\n",
       "      <td>0</td>\n",
       "      <td>0</td>\n",
       "      <td>0</td>\n",
       "      <td>0</td>\n",
       "      <td>...</td>\n",
       "      <td>0</td>\n",
       "      <td>0</td>\n",
       "      <td>0</td>\n",
       "      <td>1</td>\n",
       "      <td>0</td>\n",
       "      <td>0</td>\n",
       "      <td>0</td>\n",
       "      <td>1</td>\n",
       "      <td>0</td>\n",
       "      <td>0</td>\n",
       "    </tr>\n",
       "    <tr>\n",
       "      <th>1</th>\n",
       "      <td>44</td>\n",
       "      <td>29.0</td>\n",
       "      <td>5</td>\n",
       "      <td>151</td>\n",
       "      <td>1</td>\n",
       "      <td>194.0</td>\n",
       "      <td>0</td>\n",
       "      <td>0</td>\n",
       "      <td>0</td>\n",
       "      <td>0</td>\n",
       "      <td>...</td>\n",
       "      <td>0</td>\n",
       "      <td>0</td>\n",
       "      <td>0</td>\n",
       "      <td>1</td>\n",
       "      <td>0</td>\n",
       "      <td>0</td>\n",
       "      <td>0</td>\n",
       "      <td>1</td>\n",
       "      <td>0</td>\n",
       "      <td>0</td>\n",
       "    </tr>\n",
       "    <tr>\n",
       "      <th>2</th>\n",
       "      <td>33</td>\n",
       "      <td>2.0</td>\n",
       "      <td>5</td>\n",
       "      <td>76</td>\n",
       "      <td>1</td>\n",
       "      <td>194.0</td>\n",
       "      <td>0</td>\n",
       "      <td>0</td>\n",
       "      <td>0</td>\n",
       "      <td>0</td>\n",
       "      <td>...</td>\n",
       "      <td>0</td>\n",
       "      <td>0</td>\n",
       "      <td>0</td>\n",
       "      <td>1</td>\n",
       "      <td>0</td>\n",
       "      <td>0</td>\n",
       "      <td>0</td>\n",
       "      <td>1</td>\n",
       "      <td>0</td>\n",
       "      <td>0</td>\n",
       "    </tr>\n",
       "    <tr>\n",
       "      <th>3</th>\n",
       "      <td>47</td>\n",
       "      <td>1506.0</td>\n",
       "      <td>5</td>\n",
       "      <td>92</td>\n",
       "      <td>1</td>\n",
       "      <td>194.0</td>\n",
       "      <td>0</td>\n",
       "      <td>0</td>\n",
       "      <td>0</td>\n",
       "      <td>1</td>\n",
       "      <td>...</td>\n",
       "      <td>0</td>\n",
       "      <td>0</td>\n",
       "      <td>0</td>\n",
       "      <td>1</td>\n",
       "      <td>0</td>\n",
       "      <td>0</td>\n",
       "      <td>0</td>\n",
       "      <td>1</td>\n",
       "      <td>0</td>\n",
       "      <td>0</td>\n",
       "    </tr>\n",
       "    <tr>\n",
       "      <th>4</th>\n",
       "      <td>33</td>\n",
       "      <td>1.0</td>\n",
       "      <td>5</td>\n",
       "      <td>198</td>\n",
       "      <td>1</td>\n",
       "      <td>194.0</td>\n",
       "      <td>0</td>\n",
       "      <td>0</td>\n",
       "      <td>0</td>\n",
       "      <td>1</td>\n",
       "      <td>...</td>\n",
       "      <td>0</td>\n",
       "      <td>0</td>\n",
       "      <td>0</td>\n",
       "      <td>1</td>\n",
       "      <td>0</td>\n",
       "      <td>0</td>\n",
       "      <td>0</td>\n",
       "      <td>1</td>\n",
       "      <td>0</td>\n",
       "      <td>0</td>\n",
       "    </tr>\n",
       "  </tbody>\n",
       "</table>\n",
       "<p>5 rows × 48 columns</p>\n",
       "</div>"
      ],
      "text/plain": [
       "   age  balance  day  duration  campaign  pdays  previous  Target  job_admin.  \\\n",
       "0   58   2143.0    5       261         1  194.0         0       0           0   \n",
       "1   44     29.0    5       151         1  194.0         0       0           0   \n",
       "2   33      2.0    5        76         1  194.0         0       0           0   \n",
       "3   47   1506.0    5        92         1  194.0         0       0           0   \n",
       "4   33      1.0    5       198         1  194.0         0       0           0   \n",
       "\n",
       "   job_blue-collar  ...  month_jul  month_jun  month_mar  month_may  \\\n",
       "0                0  ...          0          0          0          1   \n",
       "1                0  ...          0          0          0          1   \n",
       "2                0  ...          0          0          0          1   \n",
       "3                1  ...          0          0          0          1   \n",
       "4                1  ...          0          0          0          1   \n",
       "\n",
       "   month_nov  month_oct  month_sep  poutcome_failure  poutcome_other  \\\n",
       "0          0          0          0                 1               0   \n",
       "1          0          0          0                 1               0   \n",
       "2          0          0          0                 1               0   \n",
       "3          0          0          0                 1               0   \n",
       "4          0          0          0                 1               0   \n",
       "\n",
       "   poutcome_success  \n",
       "0                 0  \n",
       "1                 0  \n",
       "2                 0  \n",
       "3                 0  \n",
       "4                 0  \n",
       "\n",
       "[5 rows x 48 columns]"
      ]
     },
     "execution_count": 83,
     "metadata": {},
     "output_type": "execute_result"
    }
   ],
   "source": [
    "df.head(5)"
   ]
  },
  {
   "cell_type": "code",
   "execution_count": 84,
   "metadata": {},
   "outputs": [
    {
     "data": {
      "text/plain": [
       "age                      int64\n",
       "balance                float64\n",
       "day                      int64\n",
       "duration                 int64\n",
       "campaign                 int64\n",
       "pdays                  float64\n",
       "previous                 int64\n",
       "Target                    int8\n",
       "job_admin.               uint8\n",
       "job_blue-collar          uint8\n",
       "job_entrepreneur         uint8\n",
       "job_housemaid            uint8\n",
       "job_management           uint8\n",
       "job_retired              uint8\n",
       "job_self-employed        uint8\n",
       "job_services             uint8\n",
       "job_student              uint8\n",
       "job_technician           uint8\n",
       "job_unemployed           uint8\n",
       "marital_divorced         uint8\n",
       "marital_married          uint8\n",
       "marital_single           uint8\n",
       "education_primary        uint8\n",
       "education_secondary      uint8\n",
       "education_tertiary       uint8\n",
       "default_no               uint8\n",
       "default_yes              uint8\n",
       "housing_no               uint8\n",
       "housing_yes              uint8\n",
       "loan_no                  uint8\n",
       "loan_yes                 uint8\n",
       "contact_cellular         uint8\n",
       "contact_telephone        uint8\n",
       "month_apr                uint8\n",
       "month_aug                uint8\n",
       "month_dec                uint8\n",
       "month_feb                uint8\n",
       "month_jan                uint8\n",
       "month_jul                uint8\n",
       "month_jun                uint8\n",
       "month_mar                uint8\n",
       "month_may                uint8\n",
       "month_nov                uint8\n",
       "month_oct                uint8\n",
       "month_sep                uint8\n",
       "poutcome_failure         uint8\n",
       "poutcome_other           uint8\n",
       "poutcome_success         uint8\n",
       "dtype: object"
      ]
     },
     "execution_count": 84,
     "metadata": {},
     "output_type": "execute_result"
    }
   ],
   "source": [
    "df.dtypes"
   ]
  },
  {
   "cell_type": "markdown",
   "metadata": {},
   "source": [
    "# Splitting the data into X and y "
   ]
  },
  {
   "cell_type": "code",
   "execution_count": 85,
   "metadata": {},
   "outputs": [],
   "source": [
    "X=df.drop(['Target'],axis=1,inplace=False)\n",
    "\n",
    "#Creating a dependent Dataframe with Survived column\n",
    "\n",
    "y=df['Target']\n"
   ]
  },
  {
   "cell_type": "markdown",
   "metadata": {},
   "source": [
    "#Applying Z score on indepnedent variables "
   ]
  },
  {
   "cell_type": "code",
   "execution_count": 86,
   "metadata": {},
   "outputs": [],
   "source": [
    "#this will allow the different datatypes like float and int to be on same level\n",
    "from scipy.stats import zscore\n",
    "X=X.apply(zscore)"
   ]
  },
  {
   "cell_type": "markdown",
   "metadata": {},
   "source": [
    "# Finding correlation of independent variable and target variable"
   ]
  },
  {
   "cell_type": "code",
   "execution_count": 87,
   "metadata": {},
   "outputs": [
    {
     "data": {
      "text/plain": [
       "balance                0.052823\n",
       "day                   -0.028348\n",
       "duration               0.394521\n",
       "campaign              -0.073172\n",
       "pdays                 -0.043926\n",
       "previous               0.093236\n",
       "Target                 1.000000\n",
       "job_admin.             0.005637\n",
       "job_blue-collar       -0.071279\n",
       "job_entrepreneur      -0.019662\n",
       "job_housemaid         -0.015195\n",
       "job_management         0.032919\n",
       "job_retired            0.079245\n",
       "job_self-employed      0.000855\n",
       "job_services          -0.027864\n",
       "job_student            0.076897\n",
       "job_technician        -0.008970\n",
       "job_unemployed         0.020390\n",
       "marital_divorced       0.002772\n",
       "marital_married       -0.060260\n",
       "marital_single         0.063526\n",
       "education_primary     -0.040393\n",
       "education_secondary   -0.031779\n",
       "education_tertiary     0.066448\n",
       "default_no             0.022419\n",
       "default_yes           -0.022419\n",
       "housing_no             0.139173\n",
       "housing_yes           -0.139173\n",
       "loan_no                0.068185\n",
       "loan_yes              -0.068185\n",
       "contact_cellular      -0.014042\n",
       "contact_telephone      0.014042\n",
       "month_apr              0.065392\n",
       "month_aug             -0.008536\n",
       "month_dec              0.075164\n",
       "month_feb              0.038417\n",
       "month_jan             -0.008783\n",
       "month_jul             -0.034382\n",
       "month_jun             -0.016805\n",
       "month_mar              0.129456\n",
       "month_may             -0.102500\n",
       "month_nov             -0.014937\n",
       "month_oct              0.128531\n",
       "month_sep              0.123185\n",
       "poutcome_failure      -0.234589\n",
       "poutcome_other         0.031955\n",
       "poutcome_success       0.306788\n",
       "Name: Target, dtype: float64"
      ]
     },
     "execution_count": 87,
     "metadata": {},
     "output_type": "execute_result"
    }
   ],
   "source": [
    "#df[df.columns[1:]].corr()['LoanAmount'][:]\n",
    "#df[df.columns[1:]].columns\n",
    "df[df.columns[1:]].corr()['Target']"
   ]
  },
  {
   "cell_type": "markdown",
   "metadata": {},
   "source": [
    "# Using Algorithams"
   ]
  },
  {
   "cell_type": "markdown",
   "metadata": {},
   "source": [
    "# KNN"
   ]
  },
  {
   "cell_type": "code",
   "execution_count": 91,
   "metadata": {},
   "outputs": [],
   "source": [
    "from sklearn.model_selection import train_test_split\n",
    "#splitting the data into four variables , 70% of data will be used to train the model and rest 30% is to test\n",
    "X_train, X_test, y_train, y_test = train_test_split(X, y, test_size=0.3, random_state=1)"
   ]
  },
  {
   "cell_type": "code",
   "execution_count": 92,
   "metadata": {},
   "outputs": [
    {
     "name": "stdout",
     "output_type": "stream",
     "text": [
      "(13564, 47)\n",
      "(31647, 47)\n",
      "(13564,)\n",
      "(31647,)\n"
     ]
    }
   ],
   "source": [
    "#Getting the shapes of data\n",
    "print (X_test.shape)\n",
    "print (X_train.shape)\n",
    "print (y_test.shape)\n",
    "print (y_train.shape)"
   ]
  },
  {
   "cell_type": "code",
   "execution_count": 93,
   "metadata": {},
   "outputs": [
    {
     "data": {
      "text/plain": [
       "KNeighborsClassifier(algorithm='auto', leaf_size=30, metric='minkowski',\n",
       "                     metric_params=None, n_jobs=None, n_neighbors=10, p=2,\n",
       "                     weights='uniform')"
      ]
     },
     "execution_count": 93,
     "metadata": {},
     "output_type": "execute_result"
    }
   ],
   "source": [
    "#importing KNeighborsClassifier\n",
    "from sklearn.neighbors import KNeighborsClassifier\n",
    "\n",
    "\n",
    "model = KNeighborsClassifier(n_neighbors=10)\n",
    "model.fit(X_train,y_train)"
   ]
  },
  {
   "cell_type": "code",
   "execution_count": 94,
   "metadata": {},
   "outputs": [
    {
     "name": "stdout",
     "output_type": "stream",
     "text": [
      "[0 0 0 ... 0 0 1]\n"
     ]
    }
   ],
   "source": [
    "#doing the prediction \n",
    "predicted= model.predict(X_test) # 0:Overcast, 2:Mild\n",
    "print(predicted)"
   ]
  },
  {
   "cell_type": "code",
   "execution_count": 95,
   "metadata": {},
   "outputs": [
    {
     "name": "stdout",
     "output_type": "stream",
     "text": [
      "89.66\n"
     ]
    }
   ],
   "source": [
    "score=round(model.score(X_test,y_test)*100,2)\n",
    "#Score for predicting the survivor \n",
    "print (score)"
   ]
  },
  {
   "cell_type": "code",
   "execution_count": 96,
   "metadata": {},
   "outputs": [
    {
     "name": "stdout",
     "output_type": "stream",
     "text": [
      "[[11800   213]\n",
      " [ 1189   362]]\n"
     ]
    }
   ],
   "source": [
    "#Confusion matrix\n",
    "from sklearn import metrics\n",
    "print (metrics.confusion_matrix(y_test,predicted))"
   ]
  },
  {
   "cell_type": "code",
   "execution_count": 97,
   "metadata": {},
   "outputs": [
    {
     "name": "stdout",
     "output_type": "stream",
     "text": [
      "recall is ==>98.23\n",
      "precision is ==>90.85\n"
     ]
    }
   ],
   "source": [
    "#recall and precision\n",
    "from sklearn import metrics\n",
    "def myscores(smat): \n",
    "    tp = smat[0][0] \n",
    "    fp = smat[0][1] \n",
    "    fn = smat[1][0] \n",
    "    tn = smat[1][1] \n",
    "    return tp/(tp+fp), tp/(tp+fn)\n",
    "\n",
    "recall=round(myscores(metrics.confusion_matrix(y_test,predicted))[0]*100,2)\n",
    "precision=round(myscores(metrics.confusion_matrix(y_test,predicted))[1]*100,2)\n",
    "print ('recall is ==>'+str(recall))\n",
    "print ('precision is ==>'+str(precision))"
   ]
  },
  {
   "cell_type": "markdown",
   "metadata": {},
   "source": [
    "Saving the Model Name, Accuracy Score ,Precision,Recall in a list"
   ]
  },
  {
   "cell_type": "code",
   "execution_count": 98,
   "metadata": {},
   "outputs": [],
   "source": [
    "data_knn=[['KNN',score,precision,recall]]\n"
   ]
  },
  {
   "cell_type": "markdown",
   "metadata": {},
   "source": [
    "# 2.Logistic regression "
   ]
  },
  {
   "cell_type": "code",
   "execution_count": 99,
   "metadata": {},
   "outputs": [
    {
     "name": "stderr",
     "output_type": "stream",
     "text": [
      "c:\\python37\\lib\\site-packages\\sklearn\\linear_model\\logistic.py:432: FutureWarning: Default solver will be changed to 'lbfgs' in 0.22. Specify a solver to silence this warning.\n",
      "  FutureWarning)\n"
     ]
    },
    {
     "data": {
      "text/plain": [
       "LogisticRegression(C=1.0, class_weight=None, dual=False, fit_intercept=True,\n",
       "                   intercept_scaling=1, l1_ratio=None, max_iter=100,\n",
       "                   multi_class='warn', n_jobs=None, penalty='l2',\n",
       "                   random_state=None, solver='warn', tol=0.0001, verbose=0,\n",
       "                   warm_start=False)"
      ]
     },
     "execution_count": 99,
     "metadata": {},
     "output_type": "execute_result"
    }
   ],
   "source": [
    "#importing libraries \n",
    "\n",
    "from sklearn.linear_model import LogisticRegression\n",
    "model=LogisticRegression()\n",
    "model.fit(X_train,y_train)"
   ]
  },
  {
   "cell_type": "code",
   "execution_count": 100,
   "metadata": {},
   "outputs": [],
   "source": [
    "#Predicting the outcome\n",
    "y_predict = model.predict(X_test)"
   ]
  },
  {
   "cell_type": "code",
   "execution_count": 101,
   "metadata": {},
   "outputs": [
    {
     "name": "stdout",
     "output_type": "stream",
     "text": [
      "90.06\n"
     ]
    }
   ],
   "source": [
    "model_score = round(model.score(X_test, y_test)*100,2)\n",
    "print(model_score)"
   ]
  },
  {
   "cell_type": "code",
   "execution_count": 102,
   "metadata": {},
   "outputs": [
    {
     "name": "stdout",
     "output_type": "stream",
     "text": [
      "[[11694   319]\n",
      " [ 1029   522]]\n"
     ]
    }
   ],
   "source": [
    "print(metrics.confusion_matrix(y_test, y_predict))"
   ]
  },
  {
   "cell_type": "code",
   "execution_count": 103,
   "metadata": {},
   "outputs": [
    {
     "name": "stdout",
     "output_type": "stream",
     "text": [
      "precision and recall: 91.91 97.34\n"
     ]
    }
   ],
   "source": [
    "#Precision and Recall\n",
    "recall=round(myscores(metrics.confusion_matrix(y_test,y_predict))[0]*100,2)\n",
    "precision=round(myscores(metrics.confusion_matrix(y_test,y_predict))[1]*100,2)\n",
    "print(\"precision and recall:\", precision,recall)"
   ]
  },
  {
   "cell_type": "markdown",
   "metadata": {},
   "source": [
    "Saving the data"
   ]
  },
  {
   "cell_type": "code",
   "execution_count": 104,
   "metadata": {},
   "outputs": [],
   "source": [
    "score=model_score\n",
    "data_logistic=[['Logistic Regression',score,precision,recall]]"
   ]
  },
  {
   "cell_type": "markdown",
   "metadata": {},
   "source": [
    "# Naive-Biyas Theorem"
   ]
  },
  {
   "cell_type": "code",
   "execution_count": 105,
   "metadata": {},
   "outputs": [],
   "source": [
    "#Importing libraries\n",
    "from sklearn import metrics\n",
    "from sklearn.naive_bayes import GaussianNB"
   ]
  },
  {
   "cell_type": "code",
   "execution_count": 106,
   "metadata": {},
   "outputs": [
    {
     "name": "stdout",
     "output_type": "stream",
     "text": [
      "              precision    recall  f1-score   support\n",
      "\n",
      "           0       0.93      0.89      0.91     12013\n",
      "           1       0.38      0.51      0.43      1551\n",
      "\n",
      "    accuracy                           0.85     13564\n",
      "   macro avg       0.66      0.70      0.67     13564\n",
      "weighted avg       0.87      0.85      0.86     13564\n",
      "\n",
      "[[10729  1284]\n",
      " [  766   785]]\n"
     ]
    }
   ],
   "source": [
    "#Predicting outcome\n",
    "model=GaussianNB()\n",
    "model.fit(X_train,y_train)\n",
    "expected=y_test\n",
    "predicted=model.predict(X_test)\n",
    "print (metrics.classification_report(y_test,predicted))\n",
    "print (metrics.confusion_matrix(expected,predicted))"
   ]
  },
  {
   "cell_type": "code",
   "execution_count": 107,
   "metadata": {},
   "outputs": [
    {
     "data": {
      "text/plain": [
       "84.89"
      ]
     },
     "execution_count": 107,
     "metadata": {},
     "output_type": "execute_result"
    }
   ],
   "source": [
    "score=round (model.score(X_test,y_test)*100,2)\n",
    "score"
   ]
  },
  {
   "cell_type": "code",
   "execution_count": 108,
   "metadata": {},
   "outputs": [
    {
     "name": "stdout",
     "output_type": "stream",
     "text": [
      "precision and recall: 93.34 89.31\n"
     ]
    }
   ],
   "source": [
    "recall=round(myscores(metrics.confusion_matrix(y_test,predicted))[0]*100,2)\n",
    "precision=round(myscores(metrics.confusion_matrix(y_test,predicted))[1]*100,2)\n",
    "print(\"precision and recall:\", precision,recall)\n",
    "data_nb=[['Naive Bayes',score,precision,recall]]"
   ]
  },
  {
   "cell_type": "markdown",
   "metadata": {},
   "source": [
    "# Support Vector Machine"
   ]
  },
  {
   "cell_type": "code",
   "execution_count": 109,
   "metadata": {},
   "outputs": [],
   "source": [
    "#importing necessary libraries \n",
    "from sklearn import svm\n",
    "clf = svm.SVC(gamma=0.025, C=3) \n",
    "clf.fit(X_train , y_train)\n",
    "\n",
    "y_pred = clf.predict(X_test)"
   ]
  },
  {
   "cell_type": "code",
   "execution_count": 110,
   "metadata": {},
   "outputs": [
    {
     "name": "stdout",
     "output_type": "stream",
     "text": [
      "90.1\n"
     ]
    }
   ],
   "source": [
    "score=round (clf.score(X_test,y_test)*100,2)\n",
    "print (score)"
   ]
  },
  {
   "cell_type": "code",
   "execution_count": 111,
   "metadata": {},
   "outputs": [
    {
     "name": "stdout",
     "output_type": "stream",
     "text": [
      "precision and recall: 92.22 97.0\n"
     ]
    }
   ],
   "source": [
    "#Calculating precision and recall \n",
    "recall=round(myscores(metrics.confusion_matrix(y_test,y_pred))[0]*100,2)\n",
    "precision=round(myscores(metrics.confusion_matrix(y_test,y_pred))[1]*100,2)\n",
    "print(\"precision and recall:\", precision,recall)\n",
    "data_svm=[['Support Vector machine',score,precision,recall]]"
   ]
  },
  {
   "cell_type": "markdown",
   "metadata": {},
   "source": [
    "# Decision Tree Algoritham"
   ]
  },
  {
   "cell_type": "markdown",
   "metadata": {},
   "source": [
    "We will be using Decison Tree algoritham to do the classification"
   ]
  },
  {
   "cell_type": "code",
   "execution_count": 112,
   "metadata": {},
   "outputs": [],
   "source": [
    "from sklearn.tree import DecisionTreeClassifier"
   ]
  },
  {
   "cell_type": "code",
   "execution_count": 113,
   "metadata": {},
   "outputs": [
    {
     "data": {
      "text/plain": [
       "(45211, 48)"
      ]
     },
     "execution_count": 113,
     "metadata": {},
     "output_type": "execute_result"
    }
   ],
   "source": [
    "df.shape"
   ]
  },
  {
   "cell_type": "markdown",
   "metadata": {},
   "source": [
    "splitting the data into train set and test set "
   ]
  },
  {
   "cell_type": "raw",
   "metadata": {},
   "source": [
    "USING X, y vectors"
   ]
  },
  {
   "cell_type": "code",
   "execution_count": 114,
   "metadata": {},
   "outputs": [
    {
     "data": {
      "text/plain": [
       "DecisionTreeClassifier(class_weight=None, criterion='entropy', max_depth=5,\n",
       "                       max_features=None, max_leaf_nodes=None,\n",
       "                       min_impurity_decrease=0.0, min_impurity_split=None,\n",
       "                       min_samples_leaf=1, min_samples_split=2,\n",
       "                       min_weight_fraction_leaf=0.0, presort=False,\n",
       "                       random_state=None, splitter='best')"
      ]
     },
     "execution_count": 114,
     "metadata": {},
     "output_type": "execute_result"
    }
   ],
   "source": [
    "\n",
    "dt_model = DecisionTreeClassifier(criterion='entropy',max_depth=5)\n",
    "dt_model.fit(X_train,y_train)"
   ]
  },
  {
   "cell_type": "code",
   "execution_count": 115,
   "metadata": {},
   "outputs": [
    {
     "data": {
      "text/plain": [
       "90.0"
      ]
     },
     "execution_count": 115,
     "metadata": {},
     "output_type": "execute_result"
    }
   ],
   "source": [
    "score=round(dt_model.score(X_test,y_test),2)*100\n",
    "score"
   ]
  },
  {
   "cell_type": "code",
   "execution_count": 116,
   "metadata": {},
   "outputs": [
    {
     "name": "stdout",
     "output_type": "stream",
     "text": [
      "                          Imp\n",
      "age                  0.001696\n",
      "balance              0.018877\n",
      "day                  0.000000\n",
      "duration             0.591824\n",
      "campaign             0.001557\n",
      "pdays                0.014984\n",
      "previous             0.000000\n",
      "job_admin.           0.000000\n",
      "job_blue-collar      0.000000\n",
      "job_entrepreneur     0.000000\n",
      "job_housemaid        0.000000\n",
      "job_management       0.000000\n",
      "job_retired          0.000000\n",
      "job_self-employed    0.000000\n",
      "job_services         0.000000\n",
      "job_student          0.000000\n",
      "job_technician       0.000000\n",
      "job_unemployed       0.000000\n",
      "marital_divorced     0.000000\n",
      "marital_married      0.001583\n",
      "marital_single       0.000000\n",
      "education_primary    0.000000\n",
      "education_secondary  0.000000\n",
      "education_tertiary   0.002768\n",
      "default_no           0.000000\n",
      "default_yes          0.000000\n",
      "housing_no           0.084565\n",
      "housing_yes          0.000000\n",
      "loan_no              0.000000\n",
      "loan_yes             0.000000\n",
      "contact_cellular     0.000000\n",
      "contact_telephone    0.000000\n",
      "month_apr            0.004363\n",
      "month_aug            0.000000\n",
      "month_dec            0.000000\n",
      "month_feb            0.000000\n",
      "month_jan            0.000000\n",
      "month_jul            0.000000\n",
      "month_jun            0.000000\n",
      "month_mar            0.000000\n",
      "month_may            0.002848\n",
      "month_nov            0.000000\n",
      "month_oct            0.016092\n",
      "month_sep            0.000706\n",
      "poutcome_failure     0.000000\n",
      "poutcome_other       0.000000\n",
      "poutcome_success     0.258139\n"
     ]
    }
   ],
   "source": [
    "#printing the importance \n",
    "print (pd.DataFrame(dt_model.feature_importances_,columns=['Imp'],index=X_train.columns))"
   ]
  },
  {
   "cell_type": "code",
   "execution_count": 117,
   "metadata": {},
   "outputs": [],
   "source": [
    "#Printing the decision tree"
   ]
  },
  {
   "cell_type": "code",
   "execution_count": 118,
   "metadata": {},
   "outputs": [],
   "source": [
    "y_predict=dt_model.predict(X_test)"
   ]
  },
  {
   "cell_type": "code",
   "execution_count": 119,
   "metadata": {},
   "outputs": [
    {
     "name": "stdout",
     "output_type": "stream",
     "text": [
      "0.902392011881063\n",
      "0.9004718372161604\n"
     ]
    }
   ],
   "source": [
    "print (dt_model.score(X_train,y_train))\n",
    "print (dt_model.score(X_test,y_test))"
   ]
  },
  {
   "cell_type": "code",
   "execution_count": 120,
   "metadata": {},
   "outputs": [
    {
     "name": "stdout",
     "output_type": "stream",
     "text": [
      "[[11627   386]\n",
      " [  964   587]]\n"
     ]
    }
   ],
   "source": [
    "#confusion metrics\n",
    "print (metrics.confusion_matrix(y_test,y_predict))"
   ]
  },
  {
   "cell_type": "code",
   "execution_count": 121,
   "metadata": {},
   "outputs": [
    {
     "name": "stdout",
     "output_type": "stream",
     "text": [
      "recall is ==>96.79\n",
      "precision is ==>92.34\n"
     ]
    }
   ],
   "source": [
    "recall=round(myscores(metrics.confusion_matrix(y_test,y_predict))[0]*100,2)\n",
    "precision=round(myscores(metrics.confusion_matrix(y_test,y_predict))[1]*100,2)\n",
    "print ('recall is ==>'+str(recall))\n",
    "print ('precision is ==>'+str(precision))"
   ]
  },
  {
   "cell_type": "code",
   "execution_count": 122,
   "metadata": {},
   "outputs": [],
   "source": [
    "data_dt=[['Decison tree',score,precision,recall]]"
   ]
  },
  {
   "cell_type": "markdown",
   "metadata": {},
   "source": [
    "# ENSEMBLE TECHNIQUES"
   ]
  },
  {
   "cell_type": "markdown",
   "metadata": {},
   "source": [
    "# Bagging"
   ]
  },
  {
   "cell_type": "code",
   "execution_count": 123,
   "metadata": {},
   "outputs": [
    {
     "name": "stdout",
     "output_type": "stream",
     "text": [
      "0.9006540904351124\n"
     ]
    }
   ],
   "source": [
    "#Bagging\n",
    "df.dtypes\n",
    "from sklearn.ensemble import BaggingClassifier\n",
    "bgcl=BaggingClassifier(n_estimators=50,max_samples=.8,oob_score=True)\n",
    "bgcl=bgcl.fit(X_train,y_train)\n",
    "print (bgcl.oob_score_)"
   ]
  },
  {
   "cell_type": "code",
   "execution_count": 124,
   "metadata": {},
   "outputs": [],
   "source": [
    "#Creating a bagging function to be used with other models later on \n",
    "\n",
    "def bagging_score(model_object):\n",
    "    from sklearn.ensemble import BaggingClassifier\n",
    "    bgcl=BaggingClassifier(base_estimator=model_object,n_estimators=5,max_samples=.8,oob_score=True)\n",
    "    bgcl=bgcl.fit(X_train,y_train)\n",
    "    return (round((bgcl.oob_score_)*100,2))\n",
    "    "
   ]
  },
  {
   "cell_type": "code",
   "execution_count": 125,
   "metadata": {},
   "outputs": [
    {
     "name": "stdout",
     "output_type": "stream",
     "text": [
      "recall is ==>96.35\n",
      "precision is ==>93.39\n"
     ]
    }
   ],
   "source": [
    "#Predict,Precison,recall\n",
    "bgcl_score=round(bgcl.score(X_test,y_test)*100,2)\n",
    "bgcl_predict=bgcl.predict(X_test)\n",
    "bgcl_recall=round(myscores(metrics.confusion_matrix(y_test,bgcl_predict))[0]*100,2)\n",
    "bgcl_precision=round(myscores(metrics.confusion_matrix(y_test,bgcl_predict))[1]*100,2)\n",
    "print ('recall is ==>'+str(bgcl_recall))\n",
    "print ('precision is ==>'+str(bgcl_precision))\n",
    "data_bgcl=[['Bagging',bgcl_score,bgcl_precision,bgcl_recall]]"
   ]
  },
  {
   "cell_type": "markdown",
   "metadata": {},
   "source": [
    "# Boosting"
   ]
  },
  {
   "cell_type": "code",
   "execution_count": 126,
   "metadata": {},
   "outputs": [
    {
     "data": {
      "text/plain": [
       "AdaBoostClassifier(algorithm='SAMME.R',\n",
       "                   base_estimator=DecisionTreeClassifier(class_weight=None,\n",
       "                                                         criterion='entropy',\n",
       "                                                         max_depth=5,\n",
       "                                                         max_features=None,\n",
       "                                                         max_leaf_nodes=None,\n",
       "                                                         min_impurity_decrease=0.0,\n",
       "                                                         min_impurity_split=None,\n",
       "                                                         min_samples_leaf=1,\n",
       "                                                         min_samples_split=2,\n",
       "                                                         min_weight_fraction_leaf=0.0,\n",
       "                                                         presort=False,\n",
       "                                                         random_state=None,\n",
       "                                                         splitter='best'),\n",
       "                   learning_rate=1.0, n_estimators=50, random_state=None)"
      ]
     },
     "execution_count": 126,
     "metadata": {},
     "output_type": "execute_result"
    }
   ],
   "source": [
    "#Boosting \n",
    "#Ada boosting \n",
    "from sklearn.ensemble import AdaBoostClassifier\n",
    "abcl=AdaBoostClassifier(base_estimator=dt_model,n_estimators=50)\n",
    "abcl.fit(X_train,y_train)\n",
    "\n"
   ]
  },
  {
   "cell_type": "code",
   "execution_count": 127,
   "metadata": {},
   "outputs": [],
   "source": [
    "#making function for ada boosting to be used by other base_estimators later on\n",
    "def ada_boosting_score(model):\n",
    "    from sklearn.ensemble import AdaBoostClassifier\n",
    "    abcl=AdaBoostClassifier(base_estimator=model,n_estimators=50)\n",
    "    abcl.fit(X_train,y_train)\n",
    "    abcl_predict=abcl.predict(X_test)\n",
    "    score=round(abdcl.score(X_test,y_test)*100,2)\n",
    "    return score"
   ]
  },
  {
   "cell_type": "code",
   "execution_count": 128,
   "metadata": {},
   "outputs": [
    {
     "data": {
      "text/plain": [
       "0.8961220878796815"
      ]
     },
     "execution_count": 128,
     "metadata": {},
     "output_type": "execute_result"
    }
   ],
   "source": [
    "abcl_pred=abcl.predict(X_test)\n",
    "abcl.score(X_test,y_test)"
   ]
  },
  {
   "cell_type": "code",
   "execution_count": 129,
   "metadata": {},
   "outputs": [
    {
     "name": "stdout",
     "output_type": "stream",
     "text": [
      "recall is ==>95.2\n",
      "precision is ==>93.22\n"
     ]
    }
   ],
   "source": [
    "#score , precison, recall\n",
    "abcl_score=round(abcl.score(X_test,y_test)*100,2)\n",
    "abcl_predict=abcl.predict(X_test)\n",
    "abcl_recall=round(myscores(metrics.confusion_matrix(y_test,abcl_predict))[0]*100,2)\n",
    "abcl_precision=round(myscores(metrics.confusion_matrix(y_test,abcl_predict))[1]*100,2)\n",
    "print ('recall is ==>'+str(abcl_recall))\n",
    "print ('precision is ==>'+str(abcl_precision))\n",
    "data_abcl=[['Ada boosting',abcl_score,abcl_precision,abcl_recall]]"
   ]
  },
  {
   "cell_type": "markdown",
   "metadata": {},
   "source": [
    "# Gradient boost"
   ]
  },
  {
   "cell_type": "code",
   "execution_count": 130,
   "metadata": {},
   "outputs": [
    {
     "data": {
      "text/plain": [
       "GradientBoostingClassifier(criterion='friedman_mse', init=None,\n",
       "                           learning_rate=0.08, loss='deviance', max_depth=5,\n",
       "                           max_features=None, max_leaf_nodes=None,\n",
       "                           min_impurity_decrease=0.0, min_impurity_split=None,\n",
       "                           min_samples_leaf=1, min_samples_split=2,\n",
       "                           min_weight_fraction_leaf=0.0, n_estimators=50,\n",
       "                           n_iter_no_change=None, presort='auto',\n",
       "                           random_state=None, subsample=1.0, tol=0.0001,\n",
       "                           validation_fraction=0.1, verbose=0,\n",
       "                           warm_start=False)"
      ]
     },
     "execution_count": 130,
     "metadata": {},
     "output_type": "execute_result"
    }
   ],
   "source": [
    "#Gradient boost\n",
    "from sklearn.ensemble import GradientBoostingClassifier\n",
    "gbcl=GradientBoostingClassifier(n_estimators=50,learning_rate=.08,max_depth=5)\n",
    "gbcl.fit(X_train,y_train)\n",
    "\n"
   ]
  },
  {
   "cell_type": "code",
   "execution_count": 131,
   "metadata": {},
   "outputs": [
    {
     "data": {
      "text/plain": [
       "0.9048215865526393"
      ]
     },
     "execution_count": 131,
     "metadata": {},
     "output_type": "execute_result"
    }
   ],
   "source": [
    "test_pred=gbcl.predict(X_test)\n",
    "gbcl.score(X_test,y_test)"
   ]
  },
  {
   "cell_type": "code",
   "execution_count": 132,
   "metadata": {},
   "outputs": [
    {
     "name": "stdout",
     "output_type": "stream",
     "text": [
      "recall is ==>97.09\n",
      "precision is ==>92.53\n"
     ]
    }
   ],
   "source": [
    "#score , precison, recall\n",
    "gbcl_score=round(gbcl.score(X_test,y_test)*100,2)\n",
    "gbcl_predict=gbcl.predict(X_test)\n",
    "gbcl_recall=round(myscores(metrics.confusion_matrix(y_test,gbcl_predict))[0]*100,2)\n",
    "gbcl_precision=round(myscores(metrics.confusion_matrix(y_test,gbcl_predict))[1]*100,2)\n",
    "print ('recall is ==>'+str(gbcl_recall))\n",
    "print ('precision is ==>'+str(gbcl_precision))\n",
    "data_gbcl=[['Gradient boosting',gbcl_score,gbcl_precision,gbcl_recall]]"
   ]
  },
  {
   "cell_type": "code",
   "execution_count": 133,
   "metadata": {},
   "outputs": [],
   "source": [
    "#for gradient boosting there is no parameter as like base_estimators"
   ]
  },
  {
   "cell_type": "markdown",
   "metadata": {},
   "source": [
    "# Random Forest"
   ]
  },
  {
   "cell_type": "code",
   "execution_count": 134,
   "metadata": {},
   "outputs": [
    {
     "data": {
      "text/plain": [
       "RandomForestClassifier(bootstrap=True, class_weight=None, criterion='gini',\n",
       "                       max_depth=None, max_features='auto', max_leaf_nodes=None,\n",
       "                       min_impurity_decrease=0.0, min_impurity_split=None,\n",
       "                       min_samples_leaf=1, min_samples_split=2,\n",
       "                       min_weight_fraction_leaf=0.0, n_estimators=50,\n",
       "                       n_jobs=None, oob_score=False, random_state=None,\n",
       "                       verbose=0, warm_start=False)"
      ]
     },
     "execution_count": 134,
     "metadata": {},
     "output_type": "execute_result"
    }
   ],
   "source": [
    "#Random Forest \n",
    "from sklearn.ensemble import RandomForestClassifier\n",
    "rfcl=RandomForestClassifier(n_estimators=50)\n",
    "rfcl.fit(X_train,y_train)\n"
   ]
  },
  {
   "cell_type": "code",
   "execution_count": 135,
   "metadata": {},
   "outputs": [
    {
     "data": {
      "text/plain": [
       "0.9060011795930404"
      ]
     },
     "execution_count": 135,
     "metadata": {},
     "output_type": "execute_result"
    }
   ],
   "source": [
    "#Prediction and Score\n",
    "test_pred=rfcl.predict(X_test)\n",
    "rfcl.score(X_test,y_test)"
   ]
  },
  {
   "cell_type": "code",
   "execution_count": 136,
   "metadata": {},
   "outputs": [
    {
     "name": "stdout",
     "output_type": "stream",
     "text": [
      "recall is ==>97.19\n",
      "precision is ==>92.56\n"
     ]
    }
   ],
   "source": [
    "#score , precison, recall\n",
    "rfcl_score=round(rfcl.score(X_test,y_test)*100,2)\n",
    "rfcl_predict=rfcl.predict(X_test)\n",
    "rfcl_recall=round(myscores(metrics.confusion_matrix(y_test,rfcl_predict))[0]*100,2)\n",
    "rfcl_precision=round(myscores(metrics.confusion_matrix(y_test,rfcl_predict))[1]*100,2)\n",
    "print ('recall is ==>'+str(rfcl_recall))\n",
    "print ('precision is ==>'+str(rfcl_precision))\n",
    "data_rfcl=[['Random Forest',rfcl_score,rfcl_precision,rfcl_recall]]"
   ]
  },
  {
   "cell_type": "markdown",
   "metadata": {},
   "source": [
    "# Final Summary- Model Performances"
   ]
  },
  {
   "cell_type": "code",
   "execution_count": 137,
   "metadata": {},
   "outputs": [
    {
     "data": {
      "text/html": [
       "<div>\n",
       "<style scoped>\n",
       "    .dataframe tbody tr th:only-of-type {\n",
       "        vertical-align: middle;\n",
       "    }\n",
       "\n",
       "    .dataframe tbody tr th {\n",
       "        vertical-align: top;\n",
       "    }\n",
       "\n",
       "    .dataframe thead th {\n",
       "        text-align: right;\n",
       "    }\n",
       "</style>\n",
       "<table border=\"1\" class=\"dataframe\">\n",
       "  <thead>\n",
       "    <tr style=\"text-align: right;\">\n",
       "      <th></th>\n",
       "      <th>Model</th>\n",
       "      <th>Accuracy</th>\n",
       "      <th>Precison</th>\n",
       "      <th>Recall</th>\n",
       "    </tr>\n",
       "  </thead>\n",
       "  <tbody>\n",
       "    <tr>\n",
       "      <th>0</th>\n",
       "      <td>Logistic Regression</td>\n",
       "      <td>90.06</td>\n",
       "      <td>91.91</td>\n",
       "      <td>97.34</td>\n",
       "    </tr>\n",
       "    <tr>\n",
       "      <th>1</th>\n",
       "      <td>KNN</td>\n",
       "      <td>89.66</td>\n",
       "      <td>90.85</td>\n",
       "      <td>98.23</td>\n",
       "    </tr>\n",
       "    <tr>\n",
       "      <th>2</th>\n",
       "      <td>Naive Bayes</td>\n",
       "      <td>84.89</td>\n",
       "      <td>93.34</td>\n",
       "      <td>89.31</td>\n",
       "    </tr>\n",
       "    <tr>\n",
       "      <th>3</th>\n",
       "      <td>Support Vector machine</td>\n",
       "      <td>90.10</td>\n",
       "      <td>92.22</td>\n",
       "      <td>97.00</td>\n",
       "    </tr>\n",
       "    <tr>\n",
       "      <th>4</th>\n",
       "      <td>Decison tree</td>\n",
       "      <td>90.00</td>\n",
       "      <td>92.34</td>\n",
       "      <td>96.79</td>\n",
       "    </tr>\n",
       "  </tbody>\n",
       "</table>\n",
       "</div>"
      ],
      "text/plain": [
       "                    Model  Accuracy  Precison  Recall\n",
       "0     Logistic Regression     90.06     91.91   97.34\n",
       "1                     KNN     89.66     90.85   98.23\n",
       "2             Naive Bayes     84.89     93.34   89.31\n",
       "3  Support Vector machine     90.10     92.22   97.00\n",
       "4            Decison tree     90.00     92.34   96.79"
      ]
     },
     "execution_count": 137,
     "metadata": {},
     "output_type": "execute_result"
    }
   ],
   "source": [
    "df_summ=pd.DataFrame(columns=['Model','Accuracy','Precison','Recall'])\n",
    "\n",
    "df_summ=df_summ.append(pd.DataFrame(data_logistic,columns=['Model','Accuracy','Precison','Recall']),ignore_index=True)\n",
    "#print (df_summ.columns)\n",
    "df_summ=df_summ.append(pd.DataFrame(data_knn,columns=['Model','Accuracy','Precison','Recall']),ignore_index=True)\n",
    "df_summ=df_summ.append(pd.DataFrame(data_nb,columns=['Model','Accuracy','Precison','Recall']),ignore_index=True)\n",
    "df_summ=df_summ.append(pd.DataFrame(data_svm,columns=['Model','Accuracy','Precison','Recall']),ignore_index=True)\n",
    "df_summ=df_summ.append(pd.DataFrame(data_dt,columns=['Model','Accuracy','Precison','Recall']),ignore_index=True)\n",
    "df_summ.head(5)"
   ]
  },
  {
   "cell_type": "markdown",
   "metadata": {},
   "source": [
    "# Final Summary-Ensemble technique Performances"
   ]
  },
  {
   "cell_type": "code",
   "execution_count": 138,
   "metadata": {},
   "outputs": [
    {
     "data": {
      "text/html": [
       "<div>\n",
       "<style scoped>\n",
       "    .dataframe tbody tr th:only-of-type {\n",
       "        vertical-align: middle;\n",
       "    }\n",
       "\n",
       "    .dataframe tbody tr th {\n",
       "        vertical-align: top;\n",
       "    }\n",
       "\n",
       "    .dataframe thead th {\n",
       "        text-align: right;\n",
       "    }\n",
       "</style>\n",
       "<table border=\"1\" class=\"dataframe\">\n",
       "  <thead>\n",
       "    <tr style=\"text-align: right;\">\n",
       "      <th></th>\n",
       "      <th>Ensemble Technique with Decision Tree</th>\n",
       "      <th>Accuracy</th>\n",
       "      <th>Precison</th>\n",
       "      <th>Recall</th>\n",
       "    </tr>\n",
       "  </thead>\n",
       "  <tbody>\n",
       "    <tr>\n",
       "      <th>0</th>\n",
       "      <td>Bagging</td>\n",
       "      <td>90.73</td>\n",
       "      <td>93.39</td>\n",
       "      <td>96.35</td>\n",
       "    </tr>\n",
       "    <tr>\n",
       "      <th>1</th>\n",
       "      <td>Ada boosting</td>\n",
       "      <td>89.61</td>\n",
       "      <td>93.22</td>\n",
       "      <td>95.20</td>\n",
       "    </tr>\n",
       "    <tr>\n",
       "      <th>2</th>\n",
       "      <td>Gradient boosting</td>\n",
       "      <td>90.48</td>\n",
       "      <td>92.53</td>\n",
       "      <td>97.09</td>\n",
       "    </tr>\n",
       "    <tr>\n",
       "      <th>3</th>\n",
       "      <td>Random Forest</td>\n",
       "      <td>90.60</td>\n",
       "      <td>92.56</td>\n",
       "      <td>97.19</td>\n",
       "    </tr>\n",
       "  </tbody>\n",
       "</table>\n",
       "</div>"
      ],
      "text/plain": [
       "  Ensemble Technique with Decision Tree  Accuracy  Precison  Recall\n",
       "0                               Bagging     90.73     93.39   96.35\n",
       "1                          Ada boosting     89.61     93.22   95.20\n",
       "2                     Gradient boosting     90.48     92.53   97.09\n",
       "3                         Random Forest     90.60     92.56   97.19"
      ]
     },
     "execution_count": 138,
     "metadata": {},
     "output_type": "execute_result"
    }
   ],
   "source": [
    "\n",
    "df_ensemble=pd.DataFrame(columns=['Ensemble Technique with Decision Tree','Accuracy','Precison','Recall'])\n",
    "\n",
    "df_ensemble=df_ensemble.append(pd.DataFrame(data_bgcl,columns=['Ensemble Technique with Decision Tree','Accuracy','Precison','Recall']),ignore_index=True)\n",
    "df_ensemble=df_ensemble.append(pd.DataFrame(data_abcl,columns=['Ensemble Technique with Decision Tree','Accuracy','Precison','Recall']),ignore_index=True)\n",
    "df_ensemble=df_ensemble.append(pd.DataFrame(data_gbcl,columns=['Ensemble Technique with Decision Tree','Accuracy','Precison','Recall']),ignore_index=True)\n",
    "df_ensemble=df_ensemble.append(pd.DataFrame(data_rfcl,columns=['Ensemble Technique with Decision Tree','Accuracy','Precison','Recall']),ignore_index=True)\n",
    "#print (df_summ.columns)\n",
    "df_ensemble.head(5)"
   ]
  },
  {
   "cell_type": "markdown",
   "metadata": {},
   "source": [
    "# Combine result of individual models and Ensemble techniques"
   ]
  },
  {
   "cell_type": "code",
   "execution_count": 139,
   "metadata": {},
   "outputs": [
    {
     "data": {
      "text/html": [
       "<div>\n",
       "<style scoped>\n",
       "    .dataframe tbody tr th:only-of-type {\n",
       "        vertical-align: middle;\n",
       "    }\n",
       "\n",
       "    .dataframe tbody tr th {\n",
       "        vertical-align: top;\n",
       "    }\n",
       "\n",
       "    .dataframe thead th {\n",
       "        text-align: right;\n",
       "    }\n",
       "</style>\n",
       "<table border=\"1\" class=\"dataframe\">\n",
       "  <thead>\n",
       "    <tr style=\"text-align: right;\">\n",
       "      <th></th>\n",
       "      <th>Model</th>\n",
       "      <th>Accuracy</th>\n",
       "      <th>Precison</th>\n",
       "      <th>Recall</th>\n",
       "      <th>Ensemble Technique with Decision Tree</th>\n",
       "      <th>Accuracy</th>\n",
       "      <th>Precison</th>\n",
       "      <th>Recall</th>\n",
       "    </tr>\n",
       "  </thead>\n",
       "  <tbody>\n",
       "    <tr>\n",
       "      <th>0</th>\n",
       "      <td>Logistic Regression</td>\n",
       "      <td>90.06</td>\n",
       "      <td>91.91</td>\n",
       "      <td>97.34</td>\n",
       "      <td>Bagging</td>\n",
       "      <td>90.73</td>\n",
       "      <td>93.39</td>\n",
       "      <td>96.35</td>\n",
       "    </tr>\n",
       "    <tr>\n",
       "      <th>1</th>\n",
       "      <td>KNN</td>\n",
       "      <td>89.66</td>\n",
       "      <td>90.85</td>\n",
       "      <td>98.23</td>\n",
       "      <td>Ada boosting</td>\n",
       "      <td>89.61</td>\n",
       "      <td>93.22</td>\n",
       "      <td>95.20</td>\n",
       "    </tr>\n",
       "    <tr>\n",
       "      <th>2</th>\n",
       "      <td>Naive Bayes</td>\n",
       "      <td>84.89</td>\n",
       "      <td>93.34</td>\n",
       "      <td>89.31</td>\n",
       "      <td>Gradient boosting</td>\n",
       "      <td>90.48</td>\n",
       "      <td>92.53</td>\n",
       "      <td>97.09</td>\n",
       "    </tr>\n",
       "    <tr>\n",
       "      <th>3</th>\n",
       "      <td>Support Vector machine</td>\n",
       "      <td>90.10</td>\n",
       "      <td>92.22</td>\n",
       "      <td>97.00</td>\n",
       "      <td>Random Forest</td>\n",
       "      <td>90.60</td>\n",
       "      <td>92.56</td>\n",
       "      <td>97.19</td>\n",
       "    </tr>\n",
       "    <tr>\n",
       "      <th>4</th>\n",
       "      <td>Decison tree</td>\n",
       "      <td>90.00</td>\n",
       "      <td>92.34</td>\n",
       "      <td>96.79</td>\n",
       "      <td>NaN</td>\n",
       "      <td>NaN</td>\n",
       "      <td>NaN</td>\n",
       "      <td>NaN</td>\n",
       "    </tr>\n",
       "  </tbody>\n",
       "</table>\n",
       "</div>"
      ],
      "text/plain": [
       "                    Model  Accuracy  Precison  Recall  \\\n",
       "0     Logistic Regression     90.06     91.91   97.34   \n",
       "1                     KNN     89.66     90.85   98.23   \n",
       "2             Naive Bayes     84.89     93.34   89.31   \n",
       "3  Support Vector machine     90.10     92.22   97.00   \n",
       "4            Decison tree     90.00     92.34   96.79   \n",
       "\n",
       "  Ensemble Technique with Decision Tree  Accuracy  Precison  Recall  \n",
       "0                               Bagging     90.73     93.39   96.35  \n",
       "1                          Ada boosting     89.61     93.22   95.20  \n",
       "2                     Gradient boosting     90.48     92.53   97.09  \n",
       "3                         Random Forest     90.60     92.56   97.19  \n",
       "4                                   NaN       NaN       NaN     NaN  "
      ]
     },
     "execution_count": 139,
     "metadata": {},
     "output_type": "execute_result"
    }
   ],
   "source": [
    "pd.concat([df_summ,df_ensemble],axis=1)"
   ]
  },
  {
   "cell_type": "markdown",
   "metadata": {},
   "source": [
    "# Bagging with other base estimators - This is resource intensive"
   ]
  },
  {
   "cell_type": "code",
   "execution_count": 154,
   "metadata": {},
   "outputs": [],
   "source": [
    "knn_model = KNeighborsClassifier(n_neighbors=3)"
   ]
  },
  {
   "cell_type": "code",
   "execution_count": 155,
   "metadata": {},
   "outputs": [
    {
     "name": "stdout",
     "output_type": "stream",
     "text": [
      "88.43\n"
     ]
    },
    {
     "name": "stderr",
     "output_type": "stream",
     "text": [
      "c:\\python37\\lib\\site-packages\\sklearn\\ensemble\\bagging.py:611: UserWarning: Some inputs do not have OOB scores. This probably means too few estimators were used to compute any reliable oob estimates.\n",
      "  warn(\"Some inputs do not have OOB scores. \"\n",
      "c:\\python37\\lib\\site-packages\\sklearn\\ensemble\\bagging.py:616: RuntimeWarning: invalid value encountered in true_divide\n",
      "  predictions.sum(axis=1)[:, np.newaxis])\n"
     ]
    }
   ],
   "source": [
    "#KNN Model with Bagging \n",
    "model_score=bagging_score(knn_model)\n",
    "print (model_score)\n"
   ]
  },
  {
   "cell_type": "code",
   "execution_count": 142,
   "metadata": {},
   "outputs": [],
   "source": [
    "data_bgcl_knn=[['bagging with KNN',model_score]]"
   ]
  },
  {
   "cell_type": "code",
   "execution_count": 143,
   "metadata": {},
   "outputs": [],
   "source": [
    "#ada_score=ada_boosting_score(knn_model)\n",
    "#ada_score"
   ]
  },
  {
   "cell_type": "code",
   "execution_count": 144,
   "metadata": {},
   "outputs": [],
   "source": [
    "log_model=LogisticRegression()"
   ]
  },
  {
   "cell_type": "code",
   "execution_count": 145,
   "metadata": {},
   "outputs": [
    {
     "name": "stderr",
     "output_type": "stream",
     "text": [
      "c:\\python37\\lib\\site-packages\\sklearn\\linear_model\\logistic.py:432: FutureWarning: Default solver will be changed to 'lbfgs' in 0.22. Specify a solver to silence this warning.\n",
      "  FutureWarning)\n",
      "c:\\python37\\lib\\site-packages\\sklearn\\linear_model\\logistic.py:432: FutureWarning: Default solver will be changed to 'lbfgs' in 0.22. Specify a solver to silence this warning.\n",
      "  FutureWarning)\n",
      "c:\\python37\\lib\\site-packages\\sklearn\\linear_model\\logistic.py:432: FutureWarning: Default solver will be changed to 'lbfgs' in 0.22. Specify a solver to silence this warning.\n",
      "  FutureWarning)\n",
      "c:\\python37\\lib\\site-packages\\sklearn\\linear_model\\logistic.py:432: FutureWarning: Default solver will be changed to 'lbfgs' in 0.22. Specify a solver to silence this warning.\n",
      "  FutureWarning)\n",
      "c:\\python37\\lib\\site-packages\\sklearn\\linear_model\\logistic.py:432: FutureWarning: Default solver will be changed to 'lbfgs' in 0.22. Specify a solver to silence this warning.\n",
      "  FutureWarning)\n"
     ]
    },
    {
     "name": "stdout",
     "output_type": "stream",
     "text": [
      "89.92\n"
     ]
    },
    {
     "name": "stderr",
     "output_type": "stream",
     "text": [
      "c:\\python37\\lib\\site-packages\\sklearn\\ensemble\\bagging.py:611: UserWarning: Some inputs do not have OOB scores. This probably means too few estimators were used to compute any reliable oob estimates.\n",
      "  warn(\"Some inputs do not have OOB scores. \"\n",
      "c:\\python37\\lib\\site-packages\\sklearn\\ensemble\\bagging.py:616: RuntimeWarning: invalid value encountered in true_divide\n",
      "  predictions.sum(axis=1)[:, np.newaxis])\n"
     ]
    }
   ],
   "source": [
    "log_score=bagging_score(log_model)\n",
    "print (log_score)"
   ]
  },
  {
   "cell_type": "code",
   "execution_count": 146,
   "metadata": {},
   "outputs": [],
   "source": [
    "data_bgcl_logistic=[['bagging with logistic',log_score]]"
   ]
  },
  {
   "cell_type": "code",
   "execution_count": 147,
   "metadata": {},
   "outputs": [
    {
     "name": "stdout",
     "output_type": "stream",
     "text": [
      "85.03\n"
     ]
    },
    {
     "name": "stderr",
     "output_type": "stream",
     "text": [
      "c:\\python37\\lib\\site-packages\\sklearn\\ensemble\\bagging.py:611: UserWarning: Some inputs do not have OOB scores. This probably means too few estimators were used to compute any reliable oob estimates.\n",
      "  warn(\"Some inputs do not have OOB scores. \"\n",
      "c:\\python37\\lib\\site-packages\\sklearn\\ensemble\\bagging.py:616: RuntimeWarning: invalid value encountered in true_divide\n",
      "  predictions.sum(axis=1)[:, np.newaxis])\n"
     ]
    }
   ],
   "source": [
    "NB_model=GaussianNB()\n",
    "NB_score=bagging_score(NB_model)\n",
    "print (NB_score)"
   ]
  },
  {
   "cell_type": "code",
   "execution_count": 148,
   "metadata": {},
   "outputs": [],
   "source": [
    "data_bgcl_NB=[['bagging with Naive Bias',NB_score]]"
   ]
  },
  {
   "cell_type": "code",
   "execution_count": 149,
   "metadata": {},
   "outputs": [
    {
     "name": "stdout",
     "output_type": "stream",
     "text": [
      "89.64\n"
     ]
    },
    {
     "name": "stderr",
     "output_type": "stream",
     "text": [
      "c:\\python37\\lib\\site-packages\\sklearn\\ensemble\\bagging.py:611: UserWarning: Some inputs do not have OOB scores. This probably means too few estimators were used to compute any reliable oob estimates.\n",
      "  warn(\"Some inputs do not have OOB scores. \"\n",
      "c:\\python37\\lib\\site-packages\\sklearn\\ensemble\\bagging.py:616: RuntimeWarning: invalid value encountered in true_divide\n",
      "  predictions.sum(axis=1)[:, np.newaxis])\n"
     ]
    }
   ],
   "source": [
    "svm_model = svm.SVC(gamma=0.025, C=3)\n",
    "svm_score=bagging_score(svm_model)\n",
    "print (svm_score)"
   ]
  },
  {
   "cell_type": "code",
   "execution_count": 150,
   "metadata": {},
   "outputs": [],
   "source": [
    "data_bgcl_svm=[['bagging with SVM',svm_score]]"
   ]
  },
  {
   "cell_type": "code",
   "execution_count": 151,
   "metadata": {},
   "outputs": [],
   "source": [
    "df_base_estimator=pd.DataFrame(columns=['Ensemble with Base_estimator','Accuracy'])"
   ]
  },
  {
   "cell_type": "code",
   "execution_count": 152,
   "metadata": {},
   "outputs": [
    {
     "data": {
      "text/html": [
       "<div>\n",
       "<style scoped>\n",
       "    .dataframe tbody tr th:only-of-type {\n",
       "        vertical-align: middle;\n",
       "    }\n",
       "\n",
       "    .dataframe tbody tr th {\n",
       "        vertical-align: top;\n",
       "    }\n",
       "\n",
       "    .dataframe thead th {\n",
       "        text-align: right;\n",
       "    }\n",
       "</style>\n",
       "<table border=\"1\" class=\"dataframe\">\n",
       "  <thead>\n",
       "    <tr style=\"text-align: right;\">\n",
       "      <th></th>\n",
       "      <th>Ensemble with Base_estimator</th>\n",
       "      <th>Accuracy</th>\n",
       "    </tr>\n",
       "  </thead>\n",
       "  <tbody>\n",
       "    <tr>\n",
       "      <th>0</th>\n",
       "      <td>bagging with KNN</td>\n",
       "      <td>88.38</td>\n",
       "    </tr>\n",
       "    <tr>\n",
       "      <th>1</th>\n",
       "      <td>bagging with logistic</td>\n",
       "      <td>89.92</td>\n",
       "    </tr>\n",
       "    <tr>\n",
       "      <th>2</th>\n",
       "      <td>bagging with Naive Bias</td>\n",
       "      <td>85.03</td>\n",
       "    </tr>\n",
       "    <tr>\n",
       "      <th>3</th>\n",
       "      <td>bagging with SVM</td>\n",
       "      <td>89.64</td>\n",
       "    </tr>\n",
       "  </tbody>\n",
       "</table>\n",
       "</div>"
      ],
      "text/plain": [
       "  Ensemble with Base_estimator  Accuracy\n",
       "0             bagging with KNN     88.38\n",
       "1        bagging with logistic     89.92\n",
       "2      bagging with Naive Bias     85.03\n",
       "3             bagging with SVM     89.64"
      ]
     },
     "execution_count": 152,
     "metadata": {},
     "output_type": "execute_result"
    }
   ],
   "source": [
    "df_base_estimator=df_base_estimator.append(pd.DataFrame(data_bgcl_knn,columns=['Ensemble with Base_estimator','Accuracy']),ignore_index=True)\n",
    "df_base_estimator=df_base_estimator.append(pd.DataFrame(data_bgcl_logistic,columns=['Ensemble with Base_estimator','Accuracy']),ignore_index=True)\n",
    "df_base_estimator=df_base_estimator.append(pd.DataFrame(data_bgcl_NB,columns=['Ensemble with Base_estimator','Accuracy']),ignore_index=True)\n",
    "df_base_estimator=df_base_estimator.append(pd.DataFrame(data_bgcl_svm,columns=['Ensemble with Base_estimator','Accuracy']),ignore_index=True)\n",
    "df_base_estimator.head(5)"
   ]
  },
  {
   "cell_type": "markdown",
   "metadata": {},
   "source": [
    "# Combined summary of Bagging with other base estimator +Individual Model performaces+Bagging with decision Tree "
   ]
  },
  {
   "cell_type": "code",
   "execution_count": 153,
   "metadata": {},
   "outputs": [
    {
     "data": {
      "text/html": [
       "<div>\n",
       "<style scoped>\n",
       "    .dataframe tbody tr th:only-of-type {\n",
       "        vertical-align: middle;\n",
       "    }\n",
       "\n",
       "    .dataframe tbody tr th {\n",
       "        vertical-align: top;\n",
       "    }\n",
       "\n",
       "    .dataframe thead th {\n",
       "        text-align: right;\n",
       "    }\n",
       "</style>\n",
       "<table border=\"1\" class=\"dataframe\">\n",
       "  <thead>\n",
       "    <tr style=\"text-align: right;\">\n",
       "      <th></th>\n",
       "      <th>Ensemble with Base_estimator</th>\n",
       "      <th>Accuracy</th>\n",
       "      <th>Model</th>\n",
       "      <th>Accuracy</th>\n",
       "      <th>Precison</th>\n",
       "      <th>Recall</th>\n",
       "      <th>Ensemble Technique with Decision Tree</th>\n",
       "      <th>Accuracy</th>\n",
       "      <th>Precison</th>\n",
       "      <th>Recall</th>\n",
       "    </tr>\n",
       "  </thead>\n",
       "  <tbody>\n",
       "    <tr>\n",
       "      <th>0</th>\n",
       "      <td>bagging with KNN</td>\n",
       "      <td>88.38</td>\n",
       "      <td>Logistic Regression</td>\n",
       "      <td>90.06</td>\n",
       "      <td>91.91</td>\n",
       "      <td>97.34</td>\n",
       "      <td>Bagging</td>\n",
       "      <td>90.73</td>\n",
       "      <td>93.39</td>\n",
       "      <td>96.35</td>\n",
       "    </tr>\n",
       "    <tr>\n",
       "      <th>1</th>\n",
       "      <td>bagging with logistic</td>\n",
       "      <td>89.92</td>\n",
       "      <td>KNN</td>\n",
       "      <td>89.66</td>\n",
       "      <td>90.85</td>\n",
       "      <td>98.23</td>\n",
       "      <td>Ada boosting</td>\n",
       "      <td>89.61</td>\n",
       "      <td>93.22</td>\n",
       "      <td>95.20</td>\n",
       "    </tr>\n",
       "    <tr>\n",
       "      <th>2</th>\n",
       "      <td>bagging with Naive Bias</td>\n",
       "      <td>85.03</td>\n",
       "      <td>Naive Bayes</td>\n",
       "      <td>84.89</td>\n",
       "      <td>93.34</td>\n",
       "      <td>89.31</td>\n",
       "      <td>Gradient boosting</td>\n",
       "      <td>90.48</td>\n",
       "      <td>92.53</td>\n",
       "      <td>97.09</td>\n",
       "    </tr>\n",
       "    <tr>\n",
       "      <th>3</th>\n",
       "      <td>bagging with SVM</td>\n",
       "      <td>89.64</td>\n",
       "      <td>Support Vector machine</td>\n",
       "      <td>90.10</td>\n",
       "      <td>92.22</td>\n",
       "      <td>97.00</td>\n",
       "      <td>Random Forest</td>\n",
       "      <td>90.60</td>\n",
       "      <td>92.56</td>\n",
       "      <td>97.19</td>\n",
       "    </tr>\n",
       "    <tr>\n",
       "      <th>4</th>\n",
       "      <td>NaN</td>\n",
       "      <td>NaN</td>\n",
       "      <td>Decison tree</td>\n",
       "      <td>90.00</td>\n",
       "      <td>92.34</td>\n",
       "      <td>96.79</td>\n",
       "      <td>NaN</td>\n",
       "      <td>NaN</td>\n",
       "      <td>NaN</td>\n",
       "      <td>NaN</td>\n",
       "    </tr>\n",
       "  </tbody>\n",
       "</table>\n",
       "</div>"
      ],
      "text/plain": [
       "  Ensemble with Base_estimator  Accuracy                   Model  Accuracy  \\\n",
       "0             bagging with KNN     88.38     Logistic Regression     90.06   \n",
       "1        bagging with logistic     89.92                     KNN     89.66   \n",
       "2      bagging with Naive Bias     85.03             Naive Bayes     84.89   \n",
       "3             bagging with SVM     89.64  Support Vector machine     90.10   \n",
       "4                          NaN       NaN            Decison tree     90.00   \n",
       "\n",
       "   Precison  Recall Ensemble Technique with Decision Tree  Accuracy  Precison  \\\n",
       "0     91.91   97.34                               Bagging     90.73     93.39   \n",
       "1     90.85   98.23                          Ada boosting     89.61     93.22   \n",
       "2     93.34   89.31                     Gradient boosting     90.48     92.53   \n",
       "3     92.22   97.00                         Random Forest     90.60     92.56   \n",
       "4     92.34   96.79                                   NaN       NaN       NaN   \n",
       "\n",
       "   Recall  \n",
       "0   96.35  \n",
       "1   95.20  \n",
       "2   97.09  \n",
       "3   97.19  \n",
       "4     NaN  "
      ]
     },
     "execution_count": 153,
     "metadata": {},
     "output_type": "execute_result"
    }
   ],
   "source": [
    "pd.concat([df_base_estimator,df_summ,df_ensemble],axis=1)"
   ]
  },
  {
   "cell_type": "markdown",
   "metadata": {},
   "source": [
    "# Final Verdict"
   ]
  },
  {
   "cell_type": "markdown",
   "metadata": {},
   "source": [
    "Bagging with Decision tree as base estimator has the highest accuracy of 90.59"
   ]
  }
 ],
 "metadata": {
  "kernelspec": {
   "display_name": "Python 3",
   "language": "python",
   "name": "python3"
  },
  "language_info": {
   "codemirror_mode": {
    "name": "ipython",
    "version": 3
   },
   "file_extension": ".py",
   "mimetype": "text/x-python",
   "name": "python",
   "nbconvert_exporter": "python",
   "pygments_lexer": "ipython3",
   "version": "3.7.3"
  }
 },
 "nbformat": 4,
 "nbformat_minor": 2
}
