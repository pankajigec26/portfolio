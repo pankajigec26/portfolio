{
 "cells": [
  {
   "cell_type": "raw",
   "metadata": {},
   "source": [
    "Data Description:\n",
    "The data contains features extracted from the silhouette of vehicles in different angles. Four \"Corgie\" model vehicles were used for the experiment: a double decker bus, Cheverolet van, Saab 9000 and an Opel Manta 400 cars. This particular combination of vehicles was chosen with the expectation that the bus, van and either one of the cars would be readily distinguishable, but it would be more difficult to distinguish between the cars.\n",
    "Domain:\n",
    "Object recognition\n",
    "Context:\n",
    "The purpose is to classify a given silhouette as one of three types of vehicle, using a set of features extracted from the silhouette. The vehicle may be viewed from one of many different angles.\n",
    "Attribute Information:\n",
    "● All the features are geometric features extracted from the silhouette.\n",
    "● All are numeric in nature.\n",
    "Learning Outcomes:\n",
    "● Exploratory Data Analysis\n",
    "● Reduce number dimensions in the dataset with minimal information loss\n",
    "● Train a model using Principal Components\n",
    "Objective:\n",
    "Apply dimensionality reduction technique – PCA and train a model using principal components instead of training the model using raw data.\n",
    "Steps and tasks:\n",
    "1. Data pre-processing - Understand the data and treat missing values (Use box plot), outliers (15 points)\n",
    "2. Understanding the attributes - Find relationships between different attributes (Independent variables) and choose carefully which all attributes have to be a part of the analysis and why (15 points)\n",
    "3. Use PCA from scikit learn and elbow plot to find out reduced number of dimension (which covers more than 95% of the variance) - 20 points\n",
    "4. Use Support vector machines to classify the class(y) of vehicles and find the difference of accuracy with and without PCA on predictors(X). 20 points\n",
    "5. Optional - Use grid search (try C values - 0.01, 0.05, 0.5, 1 and kernel = linear, rbf) and find out the best hyper parameters and do cross validation to find the accuracy.\n",
    "References:\n",
    "● Book on PCA"
   ]
  },
  {
   "cell_type": "code",
   "execution_count": null,
   "metadata": {},
   "outputs": [],
   "source": []
  },
  {
   "cell_type": "markdown",
   "metadata": {},
   "source": [
    "# Importing Libraries in notebook"
   ]
  },
  {
   "cell_type": "code",
   "execution_count": 197,
   "metadata": {},
   "outputs": [],
   "source": [
    "import pandas as pd\n",
    "import numpy as np\n",
    "import seaborn as sns\n",
    "import matplotlib.pyplot as plt\n",
    "%matplotlib inline"
   ]
  },
  {
   "cell_type": "code",
   "execution_count": 198,
   "metadata": {},
   "outputs": [
    {
     "data": {
      "text/html": [
       "<div>\n",
       "<style scoped>\n",
       "    .dataframe tbody tr th:only-of-type {\n",
       "        vertical-align: middle;\n",
       "    }\n",
       "\n",
       "    .dataframe tbody tr th {\n",
       "        vertical-align: top;\n",
       "    }\n",
       "\n",
       "    .dataframe thead th {\n",
       "        text-align: right;\n",
       "    }\n",
       "</style>\n",
       "<table border=\"1\" class=\"dataframe\">\n",
       "  <thead>\n",
       "    <tr style=\"text-align: right;\">\n",
       "      <th></th>\n",
       "      <th>compactness</th>\n",
       "      <th>circularity</th>\n",
       "      <th>distance_circularity</th>\n",
       "      <th>radius_ratio</th>\n",
       "      <th>pr.axis_aspect_ratio</th>\n",
       "      <th>max.length_aspect_ratio</th>\n",
       "      <th>scatter_ratio</th>\n",
       "      <th>elongatedness</th>\n",
       "      <th>pr.axis_rectangularity</th>\n",
       "      <th>max.length_rectangularity</th>\n",
       "      <th>scaled_variance</th>\n",
       "      <th>scaled_variance.1</th>\n",
       "      <th>scaled_radius_of_gyration</th>\n",
       "      <th>scaled_radius_of_gyration.1</th>\n",
       "      <th>skewness_about</th>\n",
       "      <th>skewness_about.1</th>\n",
       "      <th>skewness_about.2</th>\n",
       "      <th>hollows_ratio</th>\n",
       "      <th>class</th>\n",
       "    </tr>\n",
       "  </thead>\n",
       "  <tbody>\n",
       "    <tr>\n",
       "      <td>0</td>\n",
       "      <td>95</td>\n",
       "      <td>48.0</td>\n",
       "      <td>83.0</td>\n",
       "      <td>178.0</td>\n",
       "      <td>72.0</td>\n",
       "      <td>10</td>\n",
       "      <td>162.0</td>\n",
       "      <td>42.0</td>\n",
       "      <td>20.0</td>\n",
       "      <td>159</td>\n",
       "      <td>176.0</td>\n",
       "      <td>379.0</td>\n",
       "      <td>184.0</td>\n",
       "      <td>70.0</td>\n",
       "      <td>6.0</td>\n",
       "      <td>16.0</td>\n",
       "      <td>187.0</td>\n",
       "      <td>197</td>\n",
       "      <td>van</td>\n",
       "    </tr>\n",
       "    <tr>\n",
       "      <td>1</td>\n",
       "      <td>91</td>\n",
       "      <td>41.0</td>\n",
       "      <td>84.0</td>\n",
       "      <td>141.0</td>\n",
       "      <td>57.0</td>\n",
       "      <td>9</td>\n",
       "      <td>149.0</td>\n",
       "      <td>45.0</td>\n",
       "      <td>19.0</td>\n",
       "      <td>143</td>\n",
       "      <td>170.0</td>\n",
       "      <td>330.0</td>\n",
       "      <td>158.0</td>\n",
       "      <td>72.0</td>\n",
       "      <td>9.0</td>\n",
       "      <td>14.0</td>\n",
       "      <td>189.0</td>\n",
       "      <td>199</td>\n",
       "      <td>van</td>\n",
       "    </tr>\n",
       "    <tr>\n",
       "      <td>2</td>\n",
       "      <td>104</td>\n",
       "      <td>50.0</td>\n",
       "      <td>106.0</td>\n",
       "      <td>209.0</td>\n",
       "      <td>66.0</td>\n",
       "      <td>10</td>\n",
       "      <td>207.0</td>\n",
       "      <td>32.0</td>\n",
       "      <td>23.0</td>\n",
       "      <td>158</td>\n",
       "      <td>223.0</td>\n",
       "      <td>635.0</td>\n",
       "      <td>220.0</td>\n",
       "      <td>73.0</td>\n",
       "      <td>14.0</td>\n",
       "      <td>9.0</td>\n",
       "      <td>188.0</td>\n",
       "      <td>196</td>\n",
       "      <td>car</td>\n",
       "    </tr>\n",
       "    <tr>\n",
       "      <td>3</td>\n",
       "      <td>93</td>\n",
       "      <td>41.0</td>\n",
       "      <td>82.0</td>\n",
       "      <td>159.0</td>\n",
       "      <td>63.0</td>\n",
       "      <td>9</td>\n",
       "      <td>144.0</td>\n",
       "      <td>46.0</td>\n",
       "      <td>19.0</td>\n",
       "      <td>143</td>\n",
       "      <td>160.0</td>\n",
       "      <td>309.0</td>\n",
       "      <td>127.0</td>\n",
       "      <td>63.0</td>\n",
       "      <td>6.0</td>\n",
       "      <td>10.0</td>\n",
       "      <td>199.0</td>\n",
       "      <td>207</td>\n",
       "      <td>van</td>\n",
       "    </tr>\n",
       "    <tr>\n",
       "      <td>4</td>\n",
       "      <td>85</td>\n",
       "      <td>44.0</td>\n",
       "      <td>70.0</td>\n",
       "      <td>205.0</td>\n",
       "      <td>103.0</td>\n",
       "      <td>52</td>\n",
       "      <td>149.0</td>\n",
       "      <td>45.0</td>\n",
       "      <td>19.0</td>\n",
       "      <td>144</td>\n",
       "      <td>241.0</td>\n",
       "      <td>325.0</td>\n",
       "      <td>188.0</td>\n",
       "      <td>127.0</td>\n",
       "      <td>9.0</td>\n",
       "      <td>11.0</td>\n",
       "      <td>180.0</td>\n",
       "      <td>183</td>\n",
       "      <td>bus</td>\n",
       "    </tr>\n",
       "  </tbody>\n",
       "</table>\n",
       "</div>"
      ],
      "text/plain": [
       "   compactness  circularity  distance_circularity  radius_ratio  \\\n",
       "0           95         48.0                  83.0         178.0   \n",
       "1           91         41.0                  84.0         141.0   \n",
       "2          104         50.0                 106.0         209.0   \n",
       "3           93         41.0                  82.0         159.0   \n",
       "4           85         44.0                  70.0         205.0   \n",
       "\n",
       "   pr.axis_aspect_ratio  max.length_aspect_ratio  scatter_ratio  \\\n",
       "0                  72.0                       10          162.0   \n",
       "1                  57.0                        9          149.0   \n",
       "2                  66.0                       10          207.0   \n",
       "3                  63.0                        9          144.0   \n",
       "4                 103.0                       52          149.0   \n",
       "\n",
       "   elongatedness  pr.axis_rectangularity  max.length_rectangularity  \\\n",
       "0           42.0                    20.0                        159   \n",
       "1           45.0                    19.0                        143   \n",
       "2           32.0                    23.0                        158   \n",
       "3           46.0                    19.0                        143   \n",
       "4           45.0                    19.0                        144   \n",
       "\n",
       "   scaled_variance  scaled_variance.1  scaled_radius_of_gyration  \\\n",
       "0            176.0              379.0                      184.0   \n",
       "1            170.0              330.0                      158.0   \n",
       "2            223.0              635.0                      220.0   \n",
       "3            160.0              309.0                      127.0   \n",
       "4            241.0              325.0                      188.0   \n",
       "\n",
       "   scaled_radius_of_gyration.1  skewness_about  skewness_about.1  \\\n",
       "0                         70.0             6.0              16.0   \n",
       "1                         72.0             9.0              14.0   \n",
       "2                         73.0            14.0               9.0   \n",
       "3                         63.0             6.0              10.0   \n",
       "4                        127.0             9.0              11.0   \n",
       "\n",
       "   skewness_about.2  hollows_ratio class  \n",
       "0             187.0            197   van  \n",
       "1             189.0            199   van  \n",
       "2             188.0            196   car  \n",
       "3             199.0            207   van  \n",
       "4             180.0            183   bus  "
      ]
     },
     "execution_count": 198,
     "metadata": {},
     "output_type": "execute_result"
    }
   ],
   "source": [
    "#reading the data \n",
    "df_vehicles=pd.read_csv('vehicle.csv')\n",
    "df_vehicles.head(5)"
   ]
  },
  {
   "cell_type": "markdown",
   "metadata": {},
   "source": [
    "# EDA-Exploratory Data analysis"
   ]
  },
  {
   "cell_type": "markdown",
   "metadata": {},
   "source": [
    "# 1. Descriptive statistics"
   ]
  },
  {
   "cell_type": "code",
   "execution_count": 199,
   "metadata": {},
   "outputs": [
    {
     "data": {
      "text/plain": [
       "(846, 19)"
      ]
     },
     "execution_count": 199,
     "metadata": {},
     "output_type": "execute_result"
    }
   ],
   "source": [
    "#Shape of data\n",
    "df_vehicles.shape"
   ]
  },
  {
   "cell_type": "code",
   "execution_count": 200,
   "metadata": {},
   "outputs": [
    {
     "data": {
      "text/plain": [
       "compactness                      int64\n",
       "circularity                    float64\n",
       "distance_circularity           float64\n",
       "radius_ratio                   float64\n",
       "pr.axis_aspect_ratio           float64\n",
       "max.length_aspect_ratio          int64\n",
       "scatter_ratio                  float64\n",
       "elongatedness                  float64\n",
       "pr.axis_rectangularity         float64\n",
       "max.length_rectangularity        int64\n",
       "scaled_variance                float64\n",
       "scaled_variance.1              float64\n",
       "scaled_radius_of_gyration      float64\n",
       "scaled_radius_of_gyration.1    float64\n",
       "skewness_about                 float64\n",
       "skewness_about.1               float64\n",
       "skewness_about.2               float64\n",
       "hollows_ratio                    int64\n",
       "class                           object\n",
       "dtype: object"
      ]
     },
     "execution_count": 200,
     "metadata": {},
     "output_type": "execute_result"
    }
   ],
   "source": [
    "#data types of data\n",
    "df_vehicles.dtypes"
   ]
  },
  {
   "cell_type": "code",
   "execution_count": 201,
   "metadata": {},
   "outputs": [
    {
     "data": {
      "text/html": [
       "<div>\n",
       "<style scoped>\n",
       "    .dataframe tbody tr th:only-of-type {\n",
       "        vertical-align: middle;\n",
       "    }\n",
       "\n",
       "    .dataframe tbody tr th {\n",
       "        vertical-align: top;\n",
       "    }\n",
       "\n",
       "    .dataframe thead th {\n",
       "        text-align: right;\n",
       "    }\n",
       "</style>\n",
       "<table border=\"1\" class=\"dataframe\">\n",
       "  <thead>\n",
       "    <tr style=\"text-align: right;\">\n",
       "      <th></th>\n",
       "      <th>count</th>\n",
       "      <th>mean</th>\n",
       "      <th>std</th>\n",
       "      <th>min</th>\n",
       "      <th>25%</th>\n",
       "      <th>50%</th>\n",
       "      <th>75%</th>\n",
       "      <th>max</th>\n",
       "    </tr>\n",
       "  </thead>\n",
       "  <tbody>\n",
       "    <tr>\n",
       "      <td>compactness</td>\n",
       "      <td>846.0</td>\n",
       "      <td>93.678487</td>\n",
       "      <td>8.234474</td>\n",
       "      <td>73.0</td>\n",
       "      <td>87.00</td>\n",
       "      <td>93.0</td>\n",
       "      <td>100.0</td>\n",
       "      <td>119.0</td>\n",
       "    </tr>\n",
       "    <tr>\n",
       "      <td>circularity</td>\n",
       "      <td>841.0</td>\n",
       "      <td>44.828775</td>\n",
       "      <td>6.152172</td>\n",
       "      <td>33.0</td>\n",
       "      <td>40.00</td>\n",
       "      <td>44.0</td>\n",
       "      <td>49.0</td>\n",
       "      <td>59.0</td>\n",
       "    </tr>\n",
       "    <tr>\n",
       "      <td>distance_circularity</td>\n",
       "      <td>842.0</td>\n",
       "      <td>82.110451</td>\n",
       "      <td>15.778292</td>\n",
       "      <td>40.0</td>\n",
       "      <td>70.00</td>\n",
       "      <td>80.0</td>\n",
       "      <td>98.0</td>\n",
       "      <td>112.0</td>\n",
       "    </tr>\n",
       "    <tr>\n",
       "      <td>radius_ratio</td>\n",
       "      <td>840.0</td>\n",
       "      <td>168.888095</td>\n",
       "      <td>33.520198</td>\n",
       "      <td>104.0</td>\n",
       "      <td>141.00</td>\n",
       "      <td>167.0</td>\n",
       "      <td>195.0</td>\n",
       "      <td>333.0</td>\n",
       "    </tr>\n",
       "    <tr>\n",
       "      <td>pr.axis_aspect_ratio</td>\n",
       "      <td>844.0</td>\n",
       "      <td>61.678910</td>\n",
       "      <td>7.891463</td>\n",
       "      <td>47.0</td>\n",
       "      <td>57.00</td>\n",
       "      <td>61.0</td>\n",
       "      <td>65.0</td>\n",
       "      <td>138.0</td>\n",
       "    </tr>\n",
       "    <tr>\n",
       "      <td>max.length_aspect_ratio</td>\n",
       "      <td>846.0</td>\n",
       "      <td>8.567376</td>\n",
       "      <td>4.601217</td>\n",
       "      <td>2.0</td>\n",
       "      <td>7.00</td>\n",
       "      <td>8.0</td>\n",
       "      <td>10.0</td>\n",
       "      <td>55.0</td>\n",
       "    </tr>\n",
       "    <tr>\n",
       "      <td>scatter_ratio</td>\n",
       "      <td>845.0</td>\n",
       "      <td>168.901775</td>\n",
       "      <td>33.214848</td>\n",
       "      <td>112.0</td>\n",
       "      <td>147.00</td>\n",
       "      <td>157.0</td>\n",
       "      <td>198.0</td>\n",
       "      <td>265.0</td>\n",
       "    </tr>\n",
       "    <tr>\n",
       "      <td>elongatedness</td>\n",
       "      <td>845.0</td>\n",
       "      <td>40.933728</td>\n",
       "      <td>7.816186</td>\n",
       "      <td>26.0</td>\n",
       "      <td>33.00</td>\n",
       "      <td>43.0</td>\n",
       "      <td>46.0</td>\n",
       "      <td>61.0</td>\n",
       "    </tr>\n",
       "    <tr>\n",
       "      <td>pr.axis_rectangularity</td>\n",
       "      <td>843.0</td>\n",
       "      <td>20.582444</td>\n",
       "      <td>2.592933</td>\n",
       "      <td>17.0</td>\n",
       "      <td>19.00</td>\n",
       "      <td>20.0</td>\n",
       "      <td>23.0</td>\n",
       "      <td>29.0</td>\n",
       "    </tr>\n",
       "    <tr>\n",
       "      <td>max.length_rectangularity</td>\n",
       "      <td>846.0</td>\n",
       "      <td>147.998818</td>\n",
       "      <td>14.515652</td>\n",
       "      <td>118.0</td>\n",
       "      <td>137.00</td>\n",
       "      <td>146.0</td>\n",
       "      <td>159.0</td>\n",
       "      <td>188.0</td>\n",
       "    </tr>\n",
       "    <tr>\n",
       "      <td>scaled_variance</td>\n",
       "      <td>843.0</td>\n",
       "      <td>188.631079</td>\n",
       "      <td>31.411004</td>\n",
       "      <td>130.0</td>\n",
       "      <td>167.00</td>\n",
       "      <td>179.0</td>\n",
       "      <td>217.0</td>\n",
       "      <td>320.0</td>\n",
       "    </tr>\n",
       "    <tr>\n",
       "      <td>scaled_variance.1</td>\n",
       "      <td>844.0</td>\n",
       "      <td>439.494076</td>\n",
       "      <td>176.666903</td>\n",
       "      <td>184.0</td>\n",
       "      <td>318.00</td>\n",
       "      <td>363.5</td>\n",
       "      <td>587.0</td>\n",
       "      <td>1018.0</td>\n",
       "    </tr>\n",
       "    <tr>\n",
       "      <td>scaled_radius_of_gyration</td>\n",
       "      <td>844.0</td>\n",
       "      <td>174.709716</td>\n",
       "      <td>32.584808</td>\n",
       "      <td>109.0</td>\n",
       "      <td>149.00</td>\n",
       "      <td>173.5</td>\n",
       "      <td>198.0</td>\n",
       "      <td>268.0</td>\n",
       "    </tr>\n",
       "    <tr>\n",
       "      <td>scaled_radius_of_gyration.1</td>\n",
       "      <td>842.0</td>\n",
       "      <td>72.447743</td>\n",
       "      <td>7.486190</td>\n",
       "      <td>59.0</td>\n",
       "      <td>67.00</td>\n",
       "      <td>71.5</td>\n",
       "      <td>75.0</td>\n",
       "      <td>135.0</td>\n",
       "    </tr>\n",
       "    <tr>\n",
       "      <td>skewness_about</td>\n",
       "      <td>840.0</td>\n",
       "      <td>6.364286</td>\n",
       "      <td>4.920649</td>\n",
       "      <td>0.0</td>\n",
       "      <td>2.00</td>\n",
       "      <td>6.0</td>\n",
       "      <td>9.0</td>\n",
       "      <td>22.0</td>\n",
       "    </tr>\n",
       "    <tr>\n",
       "      <td>skewness_about.1</td>\n",
       "      <td>845.0</td>\n",
       "      <td>12.602367</td>\n",
       "      <td>8.936081</td>\n",
       "      <td>0.0</td>\n",
       "      <td>5.00</td>\n",
       "      <td>11.0</td>\n",
       "      <td>19.0</td>\n",
       "      <td>41.0</td>\n",
       "    </tr>\n",
       "    <tr>\n",
       "      <td>skewness_about.2</td>\n",
       "      <td>845.0</td>\n",
       "      <td>188.919527</td>\n",
       "      <td>6.155809</td>\n",
       "      <td>176.0</td>\n",
       "      <td>184.00</td>\n",
       "      <td>188.0</td>\n",
       "      <td>193.0</td>\n",
       "      <td>206.0</td>\n",
       "    </tr>\n",
       "    <tr>\n",
       "      <td>hollows_ratio</td>\n",
       "      <td>846.0</td>\n",
       "      <td>195.632388</td>\n",
       "      <td>7.438797</td>\n",
       "      <td>181.0</td>\n",
       "      <td>190.25</td>\n",
       "      <td>197.0</td>\n",
       "      <td>201.0</td>\n",
       "      <td>211.0</td>\n",
       "    </tr>\n",
       "  </tbody>\n",
       "</table>\n",
       "</div>"
      ],
      "text/plain": [
       "                             count        mean         std    min     25%  \\\n",
       "compactness                  846.0   93.678487    8.234474   73.0   87.00   \n",
       "circularity                  841.0   44.828775    6.152172   33.0   40.00   \n",
       "distance_circularity         842.0   82.110451   15.778292   40.0   70.00   \n",
       "radius_ratio                 840.0  168.888095   33.520198  104.0  141.00   \n",
       "pr.axis_aspect_ratio         844.0   61.678910    7.891463   47.0   57.00   \n",
       "max.length_aspect_ratio      846.0    8.567376    4.601217    2.0    7.00   \n",
       "scatter_ratio                845.0  168.901775   33.214848  112.0  147.00   \n",
       "elongatedness                845.0   40.933728    7.816186   26.0   33.00   \n",
       "pr.axis_rectangularity       843.0   20.582444    2.592933   17.0   19.00   \n",
       "max.length_rectangularity    846.0  147.998818   14.515652  118.0  137.00   \n",
       "scaled_variance              843.0  188.631079   31.411004  130.0  167.00   \n",
       "scaled_variance.1            844.0  439.494076  176.666903  184.0  318.00   \n",
       "scaled_radius_of_gyration    844.0  174.709716   32.584808  109.0  149.00   \n",
       "scaled_radius_of_gyration.1  842.0   72.447743    7.486190   59.0   67.00   \n",
       "skewness_about               840.0    6.364286    4.920649    0.0    2.00   \n",
       "skewness_about.1             845.0   12.602367    8.936081    0.0    5.00   \n",
       "skewness_about.2             845.0  188.919527    6.155809  176.0  184.00   \n",
       "hollows_ratio                846.0  195.632388    7.438797  181.0  190.25   \n",
       "\n",
       "                               50%    75%     max  \n",
       "compactness                   93.0  100.0   119.0  \n",
       "circularity                   44.0   49.0    59.0  \n",
       "distance_circularity          80.0   98.0   112.0  \n",
       "radius_ratio                 167.0  195.0   333.0  \n",
       "pr.axis_aspect_ratio          61.0   65.0   138.0  \n",
       "max.length_aspect_ratio        8.0   10.0    55.0  \n",
       "scatter_ratio                157.0  198.0   265.0  \n",
       "elongatedness                 43.0   46.0    61.0  \n",
       "pr.axis_rectangularity        20.0   23.0    29.0  \n",
       "max.length_rectangularity    146.0  159.0   188.0  \n",
       "scaled_variance              179.0  217.0   320.0  \n",
       "scaled_variance.1            363.5  587.0  1018.0  \n",
       "scaled_radius_of_gyration    173.5  198.0   268.0  \n",
       "scaled_radius_of_gyration.1   71.5   75.0   135.0  \n",
       "skewness_about                 6.0    9.0    22.0  \n",
       "skewness_about.1              11.0   19.0    41.0  \n",
       "skewness_about.2             188.0  193.0   206.0  \n",
       "hollows_ratio                197.0  201.0   211.0  "
      ]
     },
     "execution_count": 201,
     "metadata": {},
     "output_type": "execute_result"
    }
   ],
   "source": [
    "#some more info\n",
    "df_vehicles.describe().transpose()"
   ]
  },
  {
   "cell_type": "markdown",
   "metadata": {},
   "source": [
    "From the above , we can see that columns scatter_ratio,elongatedness,scaled Variance,Scaled Variance.1 have mean > median with large difference.\n",
    "So these could be potential outliers."
   ]
  },
  {
   "cell_type": "markdown",
   "metadata": {},
   "source": [
    "# 2.Presence of missing values "
   ]
  },
  {
   "cell_type": "code",
   "execution_count": 202,
   "metadata": {},
   "outputs": [
    {
     "data": {
      "text/plain": [
       "compactness                    0\n",
       "circularity                    0\n",
       "distance_circularity           0\n",
       "radius_ratio                   0\n",
       "pr.axis_aspect_ratio           0\n",
       "max.length_aspect_ratio        0\n",
       "scatter_ratio                  0\n",
       "elongatedness                  0\n",
       "pr.axis_rectangularity         0\n",
       "max.length_rectangularity      0\n",
       "scaled_variance                0\n",
       "scaled_variance.1              0\n",
       "scaled_radius_of_gyration      0\n",
       "scaled_radius_of_gyration.1    0\n",
       "skewness_about                 0\n",
       "skewness_about.1               0\n",
       "skewness_about.2               0\n",
       "hollows_ratio                  0\n",
       "class                          0\n",
       "dtype: int64"
      ]
     },
     "execution_count": 202,
     "metadata": {},
     "output_type": "execute_result"
    }
   ],
   "source": [
    "#Checking for any null or missing value\n",
    "\n",
    "for item in df_vehicles.columns[df_vehicles.isna().any()]:\n",
    "    if df_vehicles[item].dtype==object:\n",
    "        df_vehicles[item] = df_vehicles[item].fillna(df_vehicles[item].mode()[0])\n",
    "    else:\n",
    "        df_vehicles[item]=df_vehicles[item].fillna((df_vehicles[item].median()))\n",
    "        \n",
    "df_vehicles.isna().sum()"
   ]
  },
  {
   "cell_type": "markdown",
   "metadata": {},
   "source": [
    "There are no null values now "
   ]
  },
  {
   "cell_type": "markdown",
   "metadata": {},
   "source": [
    "# 3.Bivariate analysis"
   ]
  },
  {
   "cell_type": "code",
   "execution_count": 203,
   "metadata": {},
   "outputs": [],
   "source": [
    "#sns.pairplot(df_vehicles,diag_kind='kde')"
   ]
  },
  {
   "cell_type": "markdown",
   "metadata": {},
   "source": [
    "# 4. Five point summary "
   ]
  },
  {
   "cell_type": "code",
   "execution_count": 204,
   "metadata": {},
   "outputs": [
    {
     "name": "stdout",
     "output_type": "stream",
     "text": [
      "--------------First quartile---------------\n",
      "      compactness  circularity  distance_circularity  radius_ratio  \\\n",
      "0.25         87.0         40.0                  70.0         141.0   \n",
      "\n",
      "      pr.axis_aspect_ratio  max.length_aspect_ratio  scatter_ratio  \\\n",
      "0.25                  57.0                      7.0          147.0   \n",
      "\n",
      "      elongatedness  pr.axis_rectangularity  max.length_rectangularity  \\\n",
      "0.25           33.0                    19.0                      137.0   \n",
      "\n",
      "      scaled_variance  scaled_variance.1  scaled_radius_of_gyration  \\\n",
      "0.25            167.0             318.25                      149.0   \n",
      "\n",
      "      scaled_radius_of_gyration.1  skewness_about  skewness_about.1  \\\n",
      "0.25                         67.0             2.0               5.0   \n",
      "\n",
      "      skewness_about.2  hollows_ratio  \n",
      "0.25             184.0         190.25  \n",
      "--------------Second quartile---------------\n",
      "     compactness  circularity  distance_circularity  radius_ratio  \\\n",
      "0.5         93.0         44.0                  80.0         167.0   \n",
      "\n",
      "     pr.axis_aspect_ratio  max.length_aspect_ratio  scatter_ratio  \\\n",
      "0.5                  61.0                      8.0          157.0   \n",
      "\n",
      "     elongatedness  pr.axis_rectangularity  max.length_rectangularity  \\\n",
      "0.5           43.0                    20.0                      146.0   \n",
      "\n",
      "     scaled_variance  scaled_variance.1  scaled_radius_of_gyration  \\\n",
      "0.5            179.0              363.5                      173.5   \n",
      "\n",
      "     scaled_radius_of_gyration.1  skewness_about  skewness_about.1  \\\n",
      "0.5                         71.5             6.0              11.0   \n",
      "\n",
      "     skewness_about.2  hollows_ratio  \n",
      "0.5             188.0          197.0  \n",
      "--------------Third quartile---------------\n",
      "      compactness  circularity  distance_circularity  radius_ratio  \\\n",
      "0.75        100.0         49.0                  98.0         195.0   \n",
      "\n",
      "      pr.axis_aspect_ratio  max.length_aspect_ratio  scatter_ratio  \\\n",
      "0.75                  65.0                     10.0          198.0   \n",
      "\n",
      "      elongatedness  pr.axis_rectangularity  max.length_rectangularity  \\\n",
      "0.75           46.0                    23.0                      159.0   \n",
      "\n",
      "      scaled_variance  scaled_variance.1  scaled_radius_of_gyration  \\\n",
      "0.75            217.0             586.75                      198.0   \n",
      "\n",
      "      scaled_radius_of_gyration.1  skewness_about  skewness_about.1  \\\n",
      "0.75                         75.0             9.0              19.0   \n",
      "\n",
      "      skewness_about.2  hollows_ratio  \n",
      "0.75             193.0          201.0  \n",
      "--------------Minimum Value---------------\n",
      "min value in (age) in data frame is \n",
      " compactness                     73\n",
      "circularity                     33\n",
      "distance_circularity            40\n",
      "radius_ratio                   104\n",
      "pr.axis_aspect_ratio            47\n",
      "max.length_aspect_ratio          2\n",
      "scatter_ratio                  112\n",
      "elongatedness                   26\n",
      "pr.axis_rectangularity          17\n",
      "max.length_rectangularity      118\n",
      "scaled_variance                130\n",
      "scaled_variance.1              184\n",
      "scaled_radius_of_gyration      109\n",
      "scaled_radius_of_gyration.1     59\n",
      "skewness_about                   0\n",
      "skewness_about.1                 0\n",
      "skewness_about.2               176\n",
      "hollows_ratio                  181\n",
      "class                          bus\n",
      "dtype: object\n",
      "--------------Max Value---------------\n",
      "max value in (age) in data frame is \n",
      " compactness                     119\n",
      "circularity                      59\n",
      "distance_circularity            112\n",
      "radius_ratio                    333\n",
      "pr.axis_aspect_ratio            138\n",
      "max.length_aspect_ratio          55\n",
      "scatter_ratio                   265\n",
      "elongatedness                    61\n",
      "pr.axis_rectangularity           29\n",
      "max.length_rectangularity       188\n",
      "scaled_variance                 320\n",
      "scaled_variance.1              1018\n",
      "scaled_radius_of_gyration       268\n",
      "scaled_radius_of_gyration.1     135\n",
      "skewness_about                   22\n",
      "skewness_about.1                 41\n",
      "skewness_about.2                206\n",
      "hollows_ratio                   211\n",
      "class                           van\n",
      "dtype: object\n"
     ]
    }
   ],
   "source": [
    "#Interquntile range will suggest how disperse the data is \n",
    "print ('--------------First quartile---------------')\n",
    "print (df_vehicles.quantile([.25, .50, .75]).iloc[0:1])\n",
    "print ('--------------Second quartile---------------')\n",
    "print (df_vehicles.quantile([.25, .50, .75]).iloc[1:2])\n",
    "print ('--------------Third quartile---------------')\n",
    "print (df_vehicles.quantile([.25, .50, .75]).iloc[2:3])\n",
    "print ('--------------Minimum Value---------------')\n",
    "print ('min value in (age) in data frame is \\n '+str(df_vehicles.min()))\n",
    "print ('--------------Max Value---------------')\n",
    "print ('max value in (age) in data frame is \\n '+str(df_vehicles.max()))"
   ]
  },
  {
   "cell_type": "markdown",
   "metadata": {},
   "source": [
    "# 5.Detecting outlier "
   ]
  },
  {
   "cell_type": "code",
   "execution_count": 205,
   "metadata": {},
   "outputs": [
    {
     "data": {
      "image/png": "[encoded data removed]",
      "text/plain": [
       "<Figure size 432x288 with 1 Axes>"
      ]
     },
     "metadata": {
      "needs_background": "light"
     },
     "output_type": "display_data"
    }
   ],
   "source": [
    "box_plot_data=[df_vehicles['pr.axis_aspect_ratio'],df_vehicles['max.length_aspect_ratio'],df_vehicles['scaled_variance'],df_vehicles['scaled_variance.1']]\n",
    "plt.boxplot(box_plot_data)\n",
    "plt.show()"
   ]
  },
  {
   "cell_type": "code",
   "execution_count": 206,
   "metadata": {},
   "outputs": [],
   "source": [
    "#Function to find outliers \n",
    "def finding_outliers(df,col_name):\n",
    "    from numpy import percentile\n",
    "    q25,q75=percentile(df[col_name],25),percentile(df[col_name],75)\n",
    "    iqr=q75-q25\n",
    "    cutoff=iqr*1.5\n",
    "    upperlimit,lowerlimit=q75+cutoff,q25-cutoff\n",
    "    outliers=[x for x in df[col_name] if x<lowerlimit or x>upperlimit]\n",
    "    return outliers\n",
    "    "
   ]
  },
  {
   "cell_type": "code",
   "execution_count": 207,
   "metadata": {},
   "outputs": [],
   "source": [
    "#Excluding the class column"
   ]
  },
  {
   "cell_type": "code",
   "execution_count": 208,
   "metadata": {},
   "outputs": [],
   "source": [
    "df_car=df_vehicles.iloc[:,0:19]"
   ]
  },
  {
   "cell_type": "code",
   "execution_count": 209,
   "metadata": {},
   "outputs": [
    {
     "name": "stdout",
     "output_type": "stream",
     "text": [
      "There are 3 outliers for column radius_ratio\n",
      "There are 8 outliers for column pr.axis_aspect_ratio\n",
      "There are 13 outliers for column max.length_aspect_ratio\n",
      "There are 1 outliers for column scaled_variance\n",
      "There are 2 outliers for column scaled_variance.1\n",
      "There are 15 outliers for column scaled_radius_of_gyration.1\n",
      "There are 12 outliers for column skewness_about\n",
      "There are 1 outliers for column skewness_about.1\n"
     ]
    }
   ],
   "source": [
    "outlier_cloumns=[]\n",
    "for items in df_vehicles.iloc[:,0:18].columns:\n",
    "    outliers_=finding_outliers(df_car,items)\n",
    "    if len(outliers_)==0:\n",
    "        pass  \n",
    "    else:\n",
    "        print ('There are '+str(len(outliers_))+' outliers for column '+items)\n",
    "        outlier_cloumns.append(items)"
   ]
  },
  {
   "cell_type": "markdown",
   "metadata": {},
   "source": [
    "# 5.1 Plotting graph on outliers columns"
   ]
  },
  {
   "cell_type": "code",
   "execution_count": 210,
   "metadata": {},
   "outputs": [
    {
     "data": {
      "text/plain": [
       "<matplotlib.axes._subplots.AxesSubplot at 0x164ccf42e48>"
      ]
     },
     "execution_count": 210,
     "metadata": {},
     "output_type": "execute_result"
    },
    {
     "data": {
      "image/png": "[encoded data removed]",
      "text/plain": [
       "<Figure size 1296x360 with 1 Axes>"
      ]
     },
     "metadata": {
      "needs_background": "light"
     },
     "output_type": "display_data"
    }
   ],
   "source": [
    "df_car.boxplot(column=outlier_cloumns,figsize=(18,5))"
   ]
  },
  {
   "cell_type": "markdown",
   "metadata": {},
   "source": [
    "# 6. Removing outliers "
   ]
  },
  {
   "cell_type": "code",
   "execution_count": 211,
   "metadata": {},
   "outputs": [],
   "source": [
    "for item in outlier_cloumns:\n",
    "    df_car[item]=df_car[item].mask((df_car[item] - df_car[item].mean()).abs() > 1.5 * df_car[item].std())"
   ]
  },
  {
   "cell_type": "code",
   "execution_count": 212,
   "metadata": {},
   "outputs": [
    {
     "name": "stdout",
     "output_type": "stream",
     "text": [
      "Shape of data after removing outliers\n",
      "(504, 19)\n",
      "Shape of data before removing outliers\n",
      "(846, 19)\n"
     ]
    }
   ],
   "source": [
    "df_car=df_car.dropna()\n",
    "\n",
    "print ('Shape of data after removing outliers')\n",
    "print (df_car.shape)\n",
    "print ('Shape of data before removing outliers')\n",
    "print (df_vehicles.shape)\n",
    "#print (df.shape)"
   ]
  },
  {
   "cell_type": "code",
   "execution_count": 213,
   "metadata": {
    "scrolled": true
   },
   "outputs": [
    {
     "data": {
      "text/plain": [
       "<matplotlib.axes._subplots.AxesSubplot at 0x164ccd047b8>"
      ]
     },
     "execution_count": 213,
     "metadata": {},
     "output_type": "execute_result"
    },
    {
     "data": {
      "image/png": "[encoded data removed]",
      "text/plain": [
       "<Figure size 1296x360 with 1 Axes>"
      ]
     },
     "metadata": {
      "needs_background": "light"
     },
     "output_type": "display_data"
    }
   ],
   "source": [
    "df_car.boxplot(column=outlier_cloumns,figsize=(18,5))"
   ]
  },
  {
   "cell_type": "code",
   "execution_count": 214,
   "metadata": {},
   "outputs": [],
   "source": [
    "#We can see that there is no outlier value is present for the columns"
   ]
  },
  {
   "cell_type": "markdown",
   "metadata": {},
   "source": [
    "# Splitting the data between X and Y "
   ]
  },
  {
   "cell_type": "code",
   "execution_count": 215,
   "metadata": {},
   "outputs": [
    {
     "data": {
      "text/html": [
       "<div>\n",
       "<style scoped>\n",
       "    .dataframe tbody tr th:only-of-type {\n",
       "        vertical-align: middle;\n",
       "    }\n",
       "\n",
       "    .dataframe tbody tr th {\n",
       "        vertical-align: top;\n",
       "    }\n",
       "\n",
       "    .dataframe thead tr th {\n",
       "        text-align: left;\n",
       "    }\n",
       "\n",
       "    .dataframe thead tr:last-of-type th {\n",
       "        text-align: right;\n",
       "    }\n",
       "</style>\n",
       "<table border=\"1\" class=\"dataframe\">\n",
       "  <thead>\n",
       "    <tr>\n",
       "      <th></th>\n",
       "      <th colspan=\"8\" halign=\"left\">compactness</th>\n",
       "      <th colspan=\"2\" halign=\"left\">circularity</th>\n",
       "      <th>...</th>\n",
       "      <th colspan=\"2\" halign=\"left\">skewness_about.2</th>\n",
       "      <th colspan=\"8\" halign=\"left\">hollows_ratio</th>\n",
       "    </tr>\n",
       "    <tr>\n",
       "      <th></th>\n",
       "      <th>count</th>\n",
       "      <th>mean</th>\n",
       "      <th>std</th>\n",
       "      <th>min</th>\n",
       "      <th>25%</th>\n",
       "      <th>50%</th>\n",
       "      <th>75%</th>\n",
       "      <th>max</th>\n",
       "      <th>count</th>\n",
       "      <th>mean</th>\n",
       "      <th>...</th>\n",
       "      <th>75%</th>\n",
       "      <th>max</th>\n",
       "      <th>count</th>\n",
       "      <th>mean</th>\n",
       "      <th>std</th>\n",
       "      <th>min</th>\n",
       "      <th>25%</th>\n",
       "      <th>50%</th>\n",
       "      <th>75%</th>\n",
       "      <th>max</th>\n",
       "    </tr>\n",
       "    <tr>\n",
       "      <th>class</th>\n",
       "      <th></th>\n",
       "      <th></th>\n",
       "      <th></th>\n",
       "      <th></th>\n",
       "      <th></th>\n",
       "      <th></th>\n",
       "      <th></th>\n",
       "      <th></th>\n",
       "      <th></th>\n",
       "      <th></th>\n",
       "      <th></th>\n",
       "      <th></th>\n",
       "      <th></th>\n",
       "      <th></th>\n",
       "      <th></th>\n",
       "      <th></th>\n",
       "      <th></th>\n",
       "      <th></th>\n",
       "      <th></th>\n",
       "      <th></th>\n",
       "      <th></th>\n",
       "    </tr>\n",
       "  </thead>\n",
       "  <tbody>\n",
       "    <tr>\n",
       "      <td>0</td>\n",
       "      <td>139.0</td>\n",
       "      <td>89.489209</td>\n",
       "      <td>6.729092</td>\n",
       "      <td>78.0</td>\n",
       "      <td>84.0</td>\n",
       "      <td>88.0</td>\n",
       "      <td>95.0</td>\n",
       "      <td>105.0</td>\n",
       "      <td>139.0</td>\n",
       "      <td>43.438849</td>\n",
       "      <td>...</td>\n",
       "      <td>196.0</td>\n",
       "      <td>202.0</td>\n",
       "      <td>139.0</td>\n",
       "      <td>194.194245</td>\n",
       "      <td>7.510261</td>\n",
       "      <td>182.0</td>\n",
       "      <td>187.0</td>\n",
       "      <td>195.0</td>\n",
       "      <td>200.0</td>\n",
       "      <td>209.0</td>\n",
       "    </tr>\n",
       "    <tr>\n",
       "      <td>1</td>\n",
       "      <td>224.0</td>\n",
       "      <td>94.906250</td>\n",
       "      <td>7.808536</td>\n",
       "      <td>77.0</td>\n",
       "      <td>89.0</td>\n",
       "      <td>94.0</td>\n",
       "      <td>101.0</td>\n",
       "      <td>113.0</td>\n",
       "      <td>224.0</td>\n",
       "      <td>45.267857</td>\n",
       "      <td>...</td>\n",
       "      <td>192.0</td>\n",
       "      <td>202.0</td>\n",
       "      <td>224.0</td>\n",
       "      <td>196.941964</td>\n",
       "      <td>5.522171</td>\n",
       "      <td>183.0</td>\n",
       "      <td>194.0</td>\n",
       "      <td>197.0</td>\n",
       "      <td>201.0</td>\n",
       "      <td>210.0</td>\n",
       "    </tr>\n",
       "    <tr>\n",
       "      <td>2</td>\n",
       "      <td>141.0</td>\n",
       "      <td>90.737589</td>\n",
       "      <td>3.430213</td>\n",
       "      <td>83.0</td>\n",
       "      <td>89.0</td>\n",
       "      <td>90.0</td>\n",
       "      <td>93.0</td>\n",
       "      <td>98.0</td>\n",
       "      <td>141.0</td>\n",
       "      <td>42.843972</td>\n",
       "      <td>...</td>\n",
       "      <td>193.0</td>\n",
       "      <td>204.0</td>\n",
       "      <td>141.0</td>\n",
       "      <td>197.177305</td>\n",
       "      <td>6.233875</td>\n",
       "      <td>183.0</td>\n",
       "      <td>193.0</td>\n",
       "      <td>197.0</td>\n",
       "      <td>201.0</td>\n",
       "      <td>210.0</td>\n",
       "    </tr>\n",
       "  </tbody>\n",
       "</table>\n",
       "<p>3 rows × 144 columns</p>\n",
       "</div>"
      ],
      "text/plain": [
       "      compactness                                                       \\\n",
       "            count       mean       std   min   25%   50%    75%    max   \n",
       "class                                                                    \n",
       "0           139.0  89.489209  6.729092  78.0  84.0  88.0   95.0  105.0   \n",
       "1           224.0  94.906250  7.808536  77.0  89.0  94.0  101.0  113.0   \n",
       "2           141.0  90.737589  3.430213  83.0  89.0  90.0   93.0   98.0   \n",
       "\n",
       "      circularity             ... skewness_about.2        hollows_ratio  \\\n",
       "            count       mean  ...              75%    max         count   \n",
       "class                         ...                                         \n",
       "0           139.0  43.438849  ...            196.0  202.0         139.0   \n",
       "1           224.0  45.267857  ...            192.0  202.0         224.0   \n",
       "2           141.0  42.843972  ...            193.0  204.0         141.0   \n",
       "\n",
       "                                                                \n",
       "             mean       std    min    25%    50%    75%    max  \n",
       "class                                                           \n",
       "0      194.194245  7.510261  182.0  187.0  195.0  200.0  209.0  \n",
       "1      196.941964  5.522171  183.0  194.0  197.0  201.0  210.0  \n",
       "2      197.177305  6.233875  183.0  193.0  197.0  201.0  210.0  \n",
       "\n",
       "[3 rows x 144 columns]"
      ]
     },
     "execution_count": 215,
     "metadata": {},
     "output_type": "execute_result"
    }
   ],
   "source": [
    "#Handling target variable 'class'\n",
    "#Convering the categorical data into cat code \n",
    "df_car['class']=df_car['class'].astype('category')\n",
    "df_car['class']=df_car['class'].cat.codes\n",
    "df_car.groupby('class').describe()"
   ]
  },
  {
   "cell_type": "code",
   "execution_count": 216,
   "metadata": {},
   "outputs": [
    {
     "name": "stdout",
     "output_type": "stream",
     "text": [
      "(504, 18)\n",
      "(504,)\n"
     ]
    }
   ],
   "source": [
    "X=df_car.drop(['class'],axis=1,inplace=False)\n",
    "y=df_car['class']\n",
    "print (X.shape)\n",
    "print (y.shape)"
   ]
  },
  {
   "cell_type": "code",
   "execution_count": 217,
   "metadata": {},
   "outputs": [],
   "source": [
    "from sklearn.model_selection import train_test_split\n",
    "#splitting the data into four variables , 70% of data will be used to train the model and rest 30% is to test\n",
    "X_train, X_test, y_train, y_test = train_test_split(X, y, test_size=0.3, random_state=1)"
   ]
  },
  {
   "cell_type": "markdown",
   "metadata": {},
   "source": [
    "# Relationships between different Independent attributes"
   ]
  },
  {
   "cell_type": "code",
   "execution_count": 218,
   "metadata": {},
   "outputs": [
    {
     "data": {
      "text/plain": [
       "<matplotlib.axes._subplots.AxesSubplot at 0x164cd2c2860>"
      ]
     },
     "execution_count": 218,
     "metadata": {},
     "output_type": "execute_result"
    },
    {
     "data": {
      "image/png": "[encoded data removed]",
      "text/plain": [
       "<Figure size 1440x576 with 2 Axes>"
      ]
     },
     "metadata": {
      "needs_background": "light"
     },
     "output_type": "display_data"
    }
   ],
   "source": [
    "#Drawing the heatmap for correlation \n",
    "f, ax = plt.subplots(figsize =(20, 8)) \n",
    "sns.heatmap(df_car.corr(),annot=True,cmap=\"RdYlGn\")"
   ]
  },
  {
   "cell_type": "markdown",
   "metadata": {},
   "source": [
    "Now we can graphically see that many indpendent variables are weakly correlated to dependent variable 'Class'.\n",
    "e.g. compactness,circularity etc.\n",
    "\n",
    "We will try to find the columns which have correlation value between -.2 to .2 , and will drop them."
   ]
  },
  {
   "cell_type": "code",
   "execution_count": 219,
   "metadata": {},
   "outputs": [
    {
     "data": {
      "text/plain": [
       "compactness                  0.065160\n",
       "circularity                  0.044726\n",
       "distance_circularity         0.079041\n",
       "pr.axis_rectangularity       0.156775\n",
       "max.length_rectangularity    0.136147\n",
       "scaled_radius_of_gyration    0.130277\n",
       "skewness_about               0.084393\n",
       "skewness_about.1             0.015816\n",
       "skewness_about.2             0.035851\n",
       "hollows_ratio                0.172420\n",
       "Name: class, dtype: float64"
      ]
     },
     "execution_count": 219,
     "metadata": {},
     "output_type": "execute_result"
    }
   ],
   "source": [
    "\n",
    "cor=df_car.corr()\n",
    "cor_target=abs(cor[\"class\"])\n",
    "#df['two'].between(-0.5, 0.5, inclusive=False)\n",
    "relevant_features=cor_target[cor_target.between(-0.2, 0.2, inclusive=False)] \n",
    "relevant_features"
   ]
  },
  {
   "cell_type": "code",
   "execution_count": 220,
   "metadata": {},
   "outputs": [
    {
     "name": "stdout",
     "output_type": "stream",
     "text": [
      "compactness\n",
      "circularity\n",
      "distance_circularity\n",
      "pr.axis_rectangularity\n",
      "max.length_rectangularity\n",
      "scaled_radius_of_gyration\n",
      "skewness_about\n",
      "skewness_about.1\n",
      "skewness_about.2\n",
      "hollows_ratio\n"
     ]
    },
    {
     "data": {
      "text/plain": [
       "radius_ratio                   float64\n",
       "pr.axis_aspect_ratio           float64\n",
       "max.length_aspect_ratio        float64\n",
       "scatter_ratio                  float64\n",
       "elongatedness                  float64\n",
       "scaled_variance                float64\n",
       "scaled_variance.1              float64\n",
       "scaled_radius_of_gyration.1    float64\n",
       "class                             int8\n",
       "dtype: object"
      ]
     },
     "execution_count": 220,
     "metadata": {},
     "output_type": "execute_result"
    }
   ],
   "source": [
    "#dropping the independent column with weak correlation \n",
    "df_car_corr=df_car.copy()\n",
    "low_corr_columns=['compactness','circularity','distance_circularity','pr.axis_rectangularity','max.length_rectangularity','scaled_radius_of_gyration','skewness_about','skewness_about.1','skewness_about.2','hollows_ratio']\n",
    "for items in low_corr_columns:\n",
    "    print (items)\n",
    "    df_car_corr.drop([items],axis=1,inplace=True)\n",
    "df_car_corr.dtypes"
   ]
  },
  {
   "cell_type": "markdown",
   "metadata": {},
   "source": [
    "# SVM after column is dropped using correlation matrix"
   ]
  },
  {
   "cell_type": "code",
   "execution_count": 221,
   "metadata": {},
   "outputs": [
    {
     "name": "stdout",
     "output_type": "stream",
     "text": [
      "(504, 8)\n",
      "(504,)\n"
     ]
    }
   ],
   "source": [
    "X=df_car_corr.drop(['class'],axis=1,inplace=False)\n",
    "y=df_car_corr['class']\n",
    "print (X.shape)\n",
    "print (y.shape)"
   ]
  },
  {
   "cell_type": "code",
   "execution_count": 222,
   "metadata": {},
   "outputs": [],
   "source": [
    "#Splitting the data\n",
    "from sklearn.model_selection import train_test_split\n",
    "#splitting the data into four variables , 70% of data will be used to train the model and rest 30% is to test\n",
    "X_train, X_test, y_train, y_test = train_test_split(X, y, test_size=0.3, random_state=1)"
   ]
  },
  {
   "cell_type": "code",
   "execution_count": 223,
   "metadata": {},
   "outputs": [],
   "source": [
    "#importing necessary libraries \n",
    "from sklearn import svm\n",
    "clf = svm.SVC(gamma=0.025, C=3) \n",
    "clf.fit(X_train , y_train)\n",
    "\n",
    "predicted = clf.predict(X_test)"
   ]
  },
  {
   "cell_type": "code",
   "execution_count": 224,
   "metadata": {},
   "outputs": [
    {
     "name": "stdout",
     "output_type": "stream",
     "text": [
      "78.29\n"
     ]
    }
   ],
   "source": [
    "score=round (clf.score(X_test,y_test)*100,2)\n",
    "print (score)"
   ]
  },
  {
   "cell_type": "markdown",
   "metadata": {},
   "source": [
    "We can see that the score after removing the matrix is 78.29"
   ]
  },
  {
   "cell_type": "markdown",
   "metadata": {},
   "source": [
    "# PCA-Principal Component Analysis"
   ]
  },
  {
   "cell_type": "code",
   "execution_count": 225,
   "metadata": {},
   "outputs": [
    {
     "name": "stdout",
     "output_type": "stream",
     "text": [
      "(504, 18)\n",
      "(504,)\n"
     ]
    }
   ],
   "source": [
    "X=df_car.drop(['class'],axis=1,inplace=False)\n",
    "y=df_car['class']\n",
    "print (X.shape)\n",
    "print (y.shape)"
   ]
  },
  {
   "cell_type": "code",
   "execution_count": 226,
   "metadata": {},
   "outputs": [],
   "source": [
    "#Splitting the data\n",
    "from sklearn.model_selection import train_test_split\n",
    "#splitting the data into four variables , 70% of data will be used to train the model and rest 30% is to test\n",
    "X_train, X_test, y_train, y_test = train_test_split(X, y, test_size=0.3, random_state=1)"
   ]
  },
  {
   "cell_type": "code",
   "execution_count": 227,
   "metadata": {},
   "outputs": [
    {
     "data": {
      "text/html": [
       "<div>\n",
       "<style scoped>\n",
       "    .dataframe tbody tr th:only-of-type {\n",
       "        vertical-align: middle;\n",
       "    }\n",
       "\n",
       "    .dataframe tbody tr th {\n",
       "        vertical-align: top;\n",
       "    }\n",
       "\n",
       "    .dataframe thead th {\n",
       "        text-align: right;\n",
       "    }\n",
       "</style>\n",
       "<table border=\"1\" class=\"dataframe\">\n",
       "  <thead>\n",
       "    <tr style=\"text-align: right;\">\n",
       "      <th></th>\n",
       "      <th>compactness</th>\n",
       "      <th>circularity</th>\n",
       "      <th>distance_circularity</th>\n",
       "      <th>radius_ratio</th>\n",
       "      <th>pr.axis_aspect_ratio</th>\n",
       "      <th>max.length_aspect_ratio</th>\n",
       "      <th>scatter_ratio</th>\n",
       "      <th>elongatedness</th>\n",
       "      <th>pr.axis_rectangularity</th>\n",
       "      <th>max.length_rectangularity</th>\n",
       "      <th>scaled_variance</th>\n",
       "      <th>scaled_variance.1</th>\n",
       "      <th>scaled_radius_of_gyration</th>\n",
       "      <th>scaled_radius_of_gyration.1</th>\n",
       "      <th>skewness_about</th>\n",
       "      <th>skewness_about.1</th>\n",
       "      <th>skewness_about.2</th>\n",
       "      <th>hollows_ratio</th>\n",
       "    </tr>\n",
       "  </thead>\n",
       "  <tbody>\n",
       "    <tr>\n",
       "      <td>0</td>\n",
       "      <td>95</td>\n",
       "      <td>48.0</td>\n",
       "      <td>83.0</td>\n",
       "      <td>178.0</td>\n",
       "      <td>72.0</td>\n",
       "      <td>10.0</td>\n",
       "      <td>162.0</td>\n",
       "      <td>42.0</td>\n",
       "      <td>20.0</td>\n",
       "      <td>159</td>\n",
       "      <td>176.0</td>\n",
       "      <td>379.0</td>\n",
       "      <td>184.0</td>\n",
       "      <td>70.0</td>\n",
       "      <td>6.0</td>\n",
       "      <td>16.0</td>\n",
       "      <td>187.0</td>\n",
       "      <td>197</td>\n",
       "    </tr>\n",
       "    <tr>\n",
       "      <td>1</td>\n",
       "      <td>91</td>\n",
       "      <td>41.0</td>\n",
       "      <td>84.0</td>\n",
       "      <td>141.0</td>\n",
       "      <td>57.0</td>\n",
       "      <td>9.0</td>\n",
       "      <td>149.0</td>\n",
       "      <td>45.0</td>\n",
       "      <td>19.0</td>\n",
       "      <td>143</td>\n",
       "      <td>170.0</td>\n",
       "      <td>330.0</td>\n",
       "      <td>158.0</td>\n",
       "      <td>72.0</td>\n",
       "      <td>9.0</td>\n",
       "      <td>14.0</td>\n",
       "      <td>189.0</td>\n",
       "      <td>199</td>\n",
       "    </tr>\n",
       "    <tr>\n",
       "      <td>3</td>\n",
       "      <td>93</td>\n",
       "      <td>41.0</td>\n",
       "      <td>82.0</td>\n",
       "      <td>159.0</td>\n",
       "      <td>63.0</td>\n",
       "      <td>9.0</td>\n",
       "      <td>144.0</td>\n",
       "      <td>46.0</td>\n",
       "      <td>19.0</td>\n",
       "      <td>143</td>\n",
       "      <td>160.0</td>\n",
       "      <td>309.0</td>\n",
       "      <td>127.0</td>\n",
       "      <td>63.0</td>\n",
       "      <td>6.0</td>\n",
       "      <td>10.0</td>\n",
       "      <td>199.0</td>\n",
       "      <td>207</td>\n",
       "    </tr>\n",
       "    <tr>\n",
       "      <td>6</td>\n",
       "      <td>97</td>\n",
       "      <td>43.0</td>\n",
       "      <td>73.0</td>\n",
       "      <td>173.0</td>\n",
       "      <td>65.0</td>\n",
       "      <td>6.0</td>\n",
       "      <td>153.0</td>\n",
       "      <td>42.0</td>\n",
       "      <td>19.0</td>\n",
       "      <td>143</td>\n",
       "      <td>176.0</td>\n",
       "      <td>361.0</td>\n",
       "      <td>172.0</td>\n",
       "      <td>66.0</td>\n",
       "      <td>13.0</td>\n",
       "      <td>1.0</td>\n",
       "      <td>200.0</td>\n",
       "      <td>204</td>\n",
       "    </tr>\n",
       "    <tr>\n",
       "      <td>7</td>\n",
       "      <td>90</td>\n",
       "      <td>43.0</td>\n",
       "      <td>66.0</td>\n",
       "      <td>157.0</td>\n",
       "      <td>65.0</td>\n",
       "      <td>9.0</td>\n",
       "      <td>137.0</td>\n",
       "      <td>48.0</td>\n",
       "      <td>18.0</td>\n",
       "      <td>146</td>\n",
       "      <td>162.0</td>\n",
       "      <td>281.0</td>\n",
       "      <td>164.0</td>\n",
       "      <td>67.0</td>\n",
       "      <td>3.0</td>\n",
       "      <td>3.0</td>\n",
       "      <td>193.0</td>\n",
       "      <td>202</td>\n",
       "    </tr>\n",
       "  </tbody>\n",
       "</table>\n",
       "</div>"
      ],
      "text/plain": [
       "   compactness  circularity  distance_circularity  radius_ratio  \\\n",
       "0           95         48.0                  83.0         178.0   \n",
       "1           91         41.0                  84.0         141.0   \n",
       "3           93         41.0                  82.0         159.0   \n",
       "6           97         43.0                  73.0         173.0   \n",
       "7           90         43.0                  66.0         157.0   \n",
       "\n",
       "   pr.axis_aspect_ratio  max.length_aspect_ratio  scatter_ratio  \\\n",
       "0                  72.0                     10.0          162.0   \n",
       "1                  57.0                      9.0          149.0   \n",
       "3                  63.0                      9.0          144.0   \n",
       "6                  65.0                      6.0          153.0   \n",
       "7                  65.0                      9.0          137.0   \n",
       "\n",
       "   elongatedness  pr.axis_rectangularity  max.length_rectangularity  \\\n",
       "0           42.0                    20.0                        159   \n",
       "1           45.0                    19.0                        143   \n",
       "3           46.0                    19.0                        143   \n",
       "6           42.0                    19.0                        143   \n",
       "7           48.0                    18.0                        146   \n",
       "\n",
       "   scaled_variance  scaled_variance.1  scaled_radius_of_gyration  \\\n",
       "0            176.0              379.0                      184.0   \n",
       "1            170.0              330.0                      158.0   \n",
       "3            160.0              309.0                      127.0   \n",
       "6            176.0              361.0                      172.0   \n",
       "7            162.0              281.0                      164.0   \n",
       "\n",
       "   scaled_radius_of_gyration.1  skewness_about  skewness_about.1  \\\n",
       "0                         70.0             6.0              16.0   \n",
       "1                         72.0             9.0              14.0   \n",
       "3                         63.0             6.0              10.0   \n",
       "6                         66.0            13.0               1.0   \n",
       "7                         67.0             3.0               3.0   \n",
       "\n",
       "   skewness_about.2  hollows_ratio  \n",
       "0             187.0            197  \n",
       "1             189.0            199  \n",
       "3             199.0            207  \n",
       "6             200.0            204  \n",
       "7             193.0            202  "
      ]
     },
     "execution_count": 227,
     "metadata": {},
     "output_type": "execute_result"
    }
   ],
   "source": [
    "X.head(5)"
   ]
  },
  {
   "cell_type": "raw",
   "metadata": {},
   "source": [
    "Making sure that all the columns are on same scale"
   ]
  },
  {
   "cell_type": "code",
   "execution_count": 228,
   "metadata": {},
   "outputs": [
    {
     "data": {
      "text/html": [
       "<div>\n",
       "<style scoped>\n",
       "    .dataframe tbody tr th:only-of-type {\n",
       "        vertical-align: middle;\n",
       "    }\n",
       "\n",
       "    .dataframe tbody tr th {\n",
       "        vertical-align: top;\n",
       "    }\n",
       "\n",
       "    .dataframe thead th {\n",
       "        text-align: right;\n",
       "    }\n",
       "</style>\n",
       "<table border=\"1\" class=\"dataframe\">\n",
       "  <thead>\n",
       "    <tr style=\"text-align: right;\">\n",
       "      <th></th>\n",
       "      <th>compactness</th>\n",
       "      <th>circularity</th>\n",
       "      <th>distance_circularity</th>\n",
       "      <th>radius_ratio</th>\n",
       "      <th>pr.axis_aspect_ratio</th>\n",
       "      <th>max.length_aspect_ratio</th>\n",
       "      <th>scatter_ratio</th>\n",
       "      <th>elongatedness</th>\n",
       "      <th>pr.axis_rectangularity</th>\n",
       "      <th>max.length_rectangularity</th>\n",
       "      <th>scaled_variance</th>\n",
       "      <th>scaled_variance.1</th>\n",
       "      <th>scaled_radius_of_gyration</th>\n",
       "      <th>scaled_radius_of_gyration.1</th>\n",
       "      <th>skewness_about</th>\n",
       "      <th>skewness_about.1</th>\n",
       "      <th>skewness_about.2</th>\n",
       "      <th>hollows_ratio</th>\n",
       "    </tr>\n",
       "  </thead>\n",
       "  <tbody>\n",
       "    <tr>\n",
       "      <td>0</td>\n",
       "      <td>0.395354</td>\n",
       "      <td>0.772244</td>\n",
       "      <td>0.207040</td>\n",
       "      <td>0.482047</td>\n",
       "      <td>2.076351</td>\n",
       "      <td>1.039768</td>\n",
       "      <td>-0.020596</td>\n",
       "      <td>0.034799</td>\n",
       "      <td>-0.018048</td>\n",
       "      <td>1.084076</td>\n",
       "      <td>-0.305771</td>\n",
       "      <td>-0.188514</td>\n",
       "      <td>0.480321</td>\n",
       "      <td>-0.223987</td>\n",
       "      <td>0.181233</td>\n",
       "      <td>0.766606</td>\n",
       "      <td>-0.432205</td>\n",
       "      <td>0.116633</td>\n",
       "    </tr>\n",
       "    <tr>\n",
       "      <td>1</td>\n",
       "      <td>-0.178878</td>\n",
       "      <td>-0.608636</td>\n",
       "      <td>0.286816</td>\n",
       "      <td>-0.923395</td>\n",
       "      <td>-0.946995</td>\n",
       "      <td>0.479294</td>\n",
       "      <td>-0.547716</td>\n",
       "      <td>0.521987</td>\n",
       "      <td>-0.553113</td>\n",
       "      <td>-0.274008</td>\n",
       "      <td>-0.573864</td>\n",
       "      <td>-0.573016</td>\n",
       "      <td>-0.442436</td>\n",
       "      <td>0.176686</td>\n",
       "      <td>0.984825</td>\n",
       "      <td>0.479129</td>\n",
       "      <td>-0.091577</td>\n",
       "      <td>0.427655</td>\n",
       "    </tr>\n",
       "    <tr>\n",
       "      <td>3</td>\n",
       "      <td>0.108238</td>\n",
       "      <td>-0.608636</td>\n",
       "      <td>0.127263</td>\n",
       "      <td>-0.239667</td>\n",
       "      <td>0.262343</td>\n",
       "      <td>0.479294</td>\n",
       "      <td>-0.750454</td>\n",
       "      <td>0.684383</td>\n",
       "      <td>-0.553113</td>\n",
       "      <td>-0.274008</td>\n",
       "      <td>-1.020685</td>\n",
       "      <td>-0.737803</td>\n",
       "      <td>-1.542646</td>\n",
       "      <td>-1.626342</td>\n",
       "      <td>0.181233</td>\n",
       "      <td>-0.095826</td>\n",
       "      <td>1.611559</td>\n",
       "      <td>1.671744</td>\n",
       "    </tr>\n",
       "    <tr>\n",
       "      <td>6</td>\n",
       "      <td>0.682470</td>\n",
       "      <td>-0.214099</td>\n",
       "      <td>-0.590728</td>\n",
       "      <td>0.292122</td>\n",
       "      <td>0.665456</td>\n",
       "      <td>-1.202127</td>\n",
       "      <td>-0.385525</td>\n",
       "      <td>0.034799</td>\n",
       "      <td>-0.553113</td>\n",
       "      <td>-0.274008</td>\n",
       "      <td>-0.305771</td>\n",
       "      <td>-0.329760</td>\n",
       "      <td>0.054433</td>\n",
       "      <td>-1.025333</td>\n",
       "      <td>2.056281</td>\n",
       "      <td>-1.389474</td>\n",
       "      <td>1.781872</td>\n",
       "      <td>1.205210</td>\n",
       "    </tr>\n",
       "    <tr>\n",
       "      <td>7</td>\n",
       "      <td>-0.322436</td>\n",
       "      <td>-0.214099</td>\n",
       "      <td>-1.149165</td>\n",
       "      <td>-0.315637</td>\n",
       "      <td>0.665456</td>\n",
       "      <td>0.479294</td>\n",
       "      <td>-1.034288</td>\n",
       "      <td>1.009175</td>\n",
       "      <td>-1.088177</td>\n",
       "      <td>-0.019368</td>\n",
       "      <td>-0.931321</td>\n",
       "      <td>-0.957518</td>\n",
       "      <td>-0.229492</td>\n",
       "      <td>-0.824996</td>\n",
       "      <td>-0.622358</td>\n",
       "      <td>-1.101997</td>\n",
       "      <td>0.589677</td>\n",
       "      <td>0.894188</td>\n",
       "    </tr>\n",
       "  </tbody>\n",
       "</table>\n",
       "</div>"
      ],
      "text/plain": [
       "   compactness  circularity  distance_circularity  radius_ratio  \\\n",
       "0     0.395354     0.772244              0.207040      0.482047   \n",
       "1    -0.178878    -0.608636              0.286816     -0.923395   \n",
       "3     0.108238    -0.608636              0.127263     -0.239667   \n",
       "6     0.682470    -0.214099             -0.590728      0.292122   \n",
       "7    -0.322436    -0.214099             -1.149165     -0.315637   \n",
       "\n",
       "   pr.axis_aspect_ratio  max.length_aspect_ratio  scatter_ratio  \\\n",
       "0              2.076351                 1.039768      -0.020596   \n",
       "1             -0.946995                 0.479294      -0.547716   \n",
       "3              0.262343                 0.479294      -0.750454   \n",
       "6              0.665456                -1.202127      -0.385525   \n",
       "7              0.665456                 0.479294      -1.034288   \n",
       "\n",
       "   elongatedness  pr.axis_rectangularity  max.length_rectangularity  \\\n",
       "0       0.034799               -0.018048                   1.084076   \n",
       "1       0.521987               -0.553113                  -0.274008   \n",
       "3       0.684383               -0.553113                  -0.274008   \n",
       "6       0.034799               -0.553113                  -0.274008   \n",
       "7       1.009175               -1.088177                  -0.019368   \n",
       "\n",
       "   scaled_variance  scaled_variance.1  scaled_radius_of_gyration  \\\n",
       "0        -0.305771          -0.188514                   0.480321   \n",
       "1        -0.573864          -0.573016                  -0.442436   \n",
       "3        -1.020685          -0.737803                  -1.542646   \n",
       "6        -0.305771          -0.329760                   0.054433   \n",
       "7        -0.931321          -0.957518                  -0.229492   \n",
       "\n",
       "   scaled_radius_of_gyration.1  skewness_about  skewness_about.1  \\\n",
       "0                    -0.223987        0.181233          0.766606   \n",
       "1                     0.176686        0.984825          0.479129   \n",
       "3                    -1.626342        0.181233         -0.095826   \n",
       "6                    -1.025333        2.056281         -1.389474   \n",
       "7                    -0.824996       -0.622358         -1.101997   \n",
       "\n",
       "   skewness_about.2  hollows_ratio  \n",
       "0         -0.432205       0.116633  \n",
       "1         -0.091577       0.427655  \n",
       "3          1.611559       1.671744  \n",
       "6          1.781872       1.205210  \n",
       "7          0.589677       0.894188  "
      ]
     },
     "execution_count": 228,
     "metadata": {},
     "output_type": "execute_result"
    }
   ],
   "source": [
    "from scipy.stats import zscore\n",
    "X=X.apply(zscore)\n",
    "X.head()"
   ]
  },
  {
   "cell_type": "code",
   "execution_count": 229,
   "metadata": {},
   "outputs": [
    {
     "name": "stdout",
     "output_type": "stream",
     "text": [
      "[[ 1.00198807  0.52187889  0.71832046  0.71922185  0.16661486  0.44021934\n",
      "   0.74283543 -0.71976337  0.74962191  0.5032695   0.72346378  0.76149079\n",
      "   0.3652894  -0.3956419   0.1312555   0.08509644  0.4088097   0.47392563]\n",
      " [ 0.52187889  1.00198807  0.69246623  0.4882473   0.09351037  0.50748877\n",
      "   0.7565637  -0.71133015  0.75303531  0.94693636  0.7052864   0.74920138\n",
      "   0.92522843  0.10916528  0.13647234 -0.10370578 -0.15971325 -0.0091331 ]\n",
      " [ 0.71832046  0.69246623  1.00198807  0.72117125  0.10052167  0.63997499\n",
      "   0.89471939 -0.86431133  0.89097879  0.64721301  0.87023565  0.88780116\n",
      "   0.58290382 -0.24113335  0.07702398  0.16842589  0.08096347  0.27937291]\n",
      " [ 0.71922185  0.4882473   0.72117125  1.00198807  0.62592902  0.23919657\n",
      "   0.78196176 -0.83486462  0.7532848   0.36400039  0.8153753   0.79168911\n",
      "   0.41338784 -0.44036631  0.02276781  0.08440598  0.49025719  0.52180716]\n",
      " [ 0.16661486  0.09351037  0.10052167  0.62592902  1.00198807 -0.15653334\n",
      "   0.17213259 -0.27796587  0.13874727 -0.00348005  0.22271738  0.17845012\n",
      "   0.09724417 -0.20904445 -0.05429466 -0.06546897  0.41826202  0.35905673]\n",
      " [ 0.44021934  0.50748877  0.63997499  0.23919657 -0.15653334  1.00198807\n",
      "   0.47995149 -0.40503441  0.49993813  0.62576608  0.39190032  0.45765043\n",
      "   0.37449804 -0.15371829  0.05622914  0.12193713 -0.12662707  0.21638346]\n",
      " [ 0.74283543  0.7565637   0.89471939  0.78196176  0.17213259  0.47995149\n",
      "   1.00198807 -0.98063655  0.98356556  0.67378299  0.97440522  0.99880974\n",
      "   0.67107751 -0.07836074  0.04545765  0.14163203  0.05260162  0.16616479]\n",
      " [-0.71976337 -0.71133015 -0.86431133 -0.83486462 -0.27796587 -0.40503441\n",
      "  -0.98063655  1.00198807 -0.95104049 -0.61265343 -0.97393075 -0.97296373\n",
      "  -0.64022982  0.11673041 -0.03736603 -0.1158312  -0.13872715 -0.22638552]\n",
      " [ 0.74962191  0.75303531  0.89097879  0.7532848   0.13874727  0.49993813\n",
      "   0.98356556 -0.95104049  1.00198807  0.68107672  0.94912034  0.98203597\n",
      "   0.66434352 -0.08098221  0.05200201  0.13740759  0.03783913  0.15744266]\n",
      " [ 0.5032695   0.94693636  0.64721301  0.36400039 -0.00348005  0.62576608\n",
      "   0.67378299 -0.61265343  0.68107672  1.00198807  0.59885132  0.66106019\n",
      "   0.83174529  0.11830278  0.11516473 -0.06807744 -0.18237981  0.00732813]\n",
      " [ 0.72346378  0.7052864   0.87023565  0.8153753   0.22271738  0.39190032\n",
      "   0.97440522 -0.97393075  0.94912034  0.59885132  1.00198807  0.97368324\n",
      "   0.65177507 -0.07560108  0.02302255  0.12400337  0.08875498  0.15706451]\n",
      " [ 0.76149079  0.74920138  0.88780116  0.79168911  0.17845012  0.45765043\n",
      "   0.99880974 -0.97296373  0.98203597  0.66106019  0.97368324  1.00198807\n",
      "   0.6609081  -0.10381028  0.0450978   0.13060036  0.08755864  0.1888419 ]\n",
      " [ 0.3652894   0.92522843  0.58290382  0.41338784  0.09724417  0.37449804\n",
      "   0.67107751 -0.64022982  0.66434352  0.83174529  0.65177507  0.6609081\n",
      "   1.00198807  0.23005601  0.17202713 -0.14979262 -0.26574777 -0.14716096]\n",
      " [-0.3956419   0.10916528 -0.24113335 -0.44036631 -0.20904445 -0.15371829\n",
      "  -0.07836074  0.11673041 -0.08098221  0.11830278 -0.07560108 -0.10381028\n",
      "   0.23005601  1.00198807 -0.05998327 -0.02642981 -0.81447051 -0.88476805]\n",
      " [ 0.1312555   0.13647234  0.07702398  0.02276781 -0.05429466  0.05622914\n",
      "   0.04545765 -0.03736603  0.05200201  0.11516473  0.02302255  0.0450978\n",
      "   0.17202713 -0.05998327  1.00198807  0.02834737  0.06170655  0.04871575]\n",
      " [ 0.08509644 -0.10370578  0.16842589  0.08440598 -0.06546897  0.12193713\n",
      "   0.14163203 -0.1158312   0.13740759 -0.06807744  0.12400337  0.13060036\n",
      "  -0.14979262 -0.02642981  0.02834737  1.00198807 -0.01127505  0.06723662]\n",
      " [ 0.4088097  -0.15971325  0.08096347  0.49025719  0.41826202 -0.12662707\n",
      "   0.05260162 -0.13872715  0.03783913 -0.18237981  0.08875498  0.08755864\n",
      "  -0.26574777 -0.81447051  0.06170655 -0.01127505  1.00198807  0.89310061]\n",
      " [ 0.47392563 -0.0091331   0.27937291  0.52180716  0.35905673  0.21638346\n",
      "   0.16616479 -0.22638552  0.15744266  0.00732813  0.15706451  0.1888419\n",
      "  -0.14716096 -0.88476805  0.04871575  0.06723662  0.89310061  1.00198807]]\n"
     ]
    }
   ],
   "source": [
    "#Covariance matrix\n",
    "covMatrix = np.cov(X,rowvar=False)\n",
    "print(covMatrix)"
   ]
  },
  {
   "cell_type": "code",
   "execution_count": 230,
   "metadata": {},
   "outputs": [
    {
     "data": {
      "text/plain": [
       "PCA(copy=True, iterated_power='auto', n_components=18, random_state=None,\n",
       "    svd_solver='auto', tol=0.0, whiten=False)"
      ]
     },
     "execution_count": 230,
     "metadata": {},
     "output_type": "execute_result"
    }
   ],
   "source": [
    "from sklearn.decomposition import PCA\n",
    "pca = PCA(n_components=18)\n",
    "pca.fit(X)"
   ]
  },
  {
   "cell_type": "code",
   "execution_count": 231,
   "metadata": {},
   "outputs": [
    {
     "name": "stdout",
     "output_type": "stream",
     "text": [
      "[9.07416859e+00 3.43398579e+00 1.38136548e+00 1.27608677e+00\n",
      " 9.71963047e-01 6.82132745e-01 4.22682584e-01 3.00842137e-01\n",
      " 1.52553011e-01 9.58892372e-02 8.08855991e-02 5.06711576e-02\n",
      " 3.44575398e-02 2.56417076e-02 2.06639817e-02 1.79399601e-02\n",
      " 1.32588698e-02 5.97083799e-04]\n"
     ]
    }
   ],
   "source": [
    "print(pca.explained_variance_)"
   ]
  },
  {
   "cell_type": "code",
   "execution_count": 232,
   "metadata": {},
   "outputs": [
    {
     "name": "stdout",
     "output_type": "stream",
     "text": [
      "[5.03120238e-01 1.90398462e-01 7.65902596e-02 7.07530473e-02\n",
      " 5.38908083e-02 3.78210726e-02 2.34357738e-02 1.66802904e-02\n",
      " 8.45835144e-03 5.31661004e-03 4.48472843e-03 2.80947886e-03\n",
      " 1.91050954e-03 1.42171285e-03 1.14572121e-03 9.94686942e-04\n",
      " 7.35142361e-04 3.31055060e-05]\n"
     ]
    }
   ],
   "source": [
    "print(pca.explained_variance_ratio_)"
   ]
  },
  {
   "cell_type": "code",
   "execution_count": 233,
   "metadata": {},
   "outputs": [
    {
     "data": {
      "image/png": "[encoded data removed]",
      "text/plain": [
       "<Figure size 432x288 with 1 Axes>"
      ]
     },
     "metadata": {
      "needs_background": "light"
     },
     "output_type": "display_data"
    }
   ],
   "source": [
    "import matplotlib.pyplot as plt \n",
    "plt.bar(list(range(1,19)),pca.explained_variance_ratio_,alpha=0.5, align='center')\n",
    "plt.ylabel('Variation explained')\n",
    "plt.xlabel('eigen Value')\n",
    "plt.show()"
   ]
  },
  {
   "cell_type": "code",
   "execution_count": 234,
   "metadata": {},
   "outputs": [
    {
     "data": {
      "image/png": "[encoded data removed]",
      "text/plain": [
       "<Figure size 432x288 with 1 Axes>"
      ]
     },
     "metadata": {
      "needs_background": "light"
     },
     "output_type": "display_data"
    }
   ],
   "source": [
    "plt.step(list(range(1,19)),np.cumsum(pca.explained_variance_ratio_), where='mid')\n",
    "plt.ylabel('Cum of variation explained')\n",
    "plt.xlabel('eigen Value')\n",
    "plt.show()"
   ]
  },
  {
   "cell_type": "markdown",
   "metadata": {},
   "source": [
    "As we can see that after the 10 component the graph is almost becoming uniform so we will choose 10 as our PC value"
   ]
  },
  {
   "cell_type": "code",
   "execution_count": 235,
   "metadata": {},
   "outputs": [
    {
     "name": "stdout",
     "output_type": "stream",
     "text": [
      "[[ 0.2654817   0.27283448  0.30535245  0.27283458  0.0798052   0.18498781\n",
      "   0.3226705  -0.31725748  0.31925397  0.25027796  0.31439218  0.3222507\n",
      "   0.23965784 -0.06216624  0.03160127  0.03084404  0.04845307  0.09589437]\n",
      " [ 0.15999743 -0.20323821  0.00243178  0.23419525  0.2452516  -0.07808121\n",
      "  -0.04158201 -0.0057458  -0.04868898 -0.21413084 -0.02115272 -0.02551734\n",
      "  -0.25479907 -0.46525615 -0.00411899  0.04213578  0.50390471  0.47309113]\n",
      " [-0.13537192  0.00971158 -0.15289343  0.25229505  0.5667311  -0.51579269\n",
      "   0.04656261 -0.12870836  0.0126916  -0.13341785  0.12561343  0.05274673\n",
      "   0.11529155  0.24812106 -0.25300265 -0.27921738  0.01390409 -0.18720635]\n",
      " [ 0.00630831  0.28720286 -0.09745381 -0.05405842  0.09618112  0.07439216\n",
      "  -0.14083853  0.13102772 -0.13157515  0.29788312 -0.16336331 -0.13265903\n",
      "   0.29903313 -0.13472546  0.34023382 -0.66168229  0.13584744  0.15272607]\n",
      " [ 0.01596523 -0.03358716 -0.05179038  0.06073471  0.09586813 -0.29136086\n",
      "   0.021545   -0.04143616  0.01136578 -0.11680006  0.04147948  0.0226664\n",
      "   0.05827966  0.11091913  0.86680575  0.31802156  0.02809463 -0.10487387]\n",
      " [ 0.23667196 -0.17746418  0.02675781 -0.07185577 -0.56308059 -0.33069869\n",
      "   0.12903462 -0.11122131  0.14117388 -0.26389486  0.16958067  0.15687179\n",
      "  -0.15591481 -0.05424931  0.07017091 -0.50067007  0.07881812 -0.13847752]\n",
      " [-0.06168924 -0.30792199  0.22730369  0.13747108  0.31715378  0.53176307\n",
      "   0.02862104 -0.04406268  0.03352584 -0.2855089   0.0344395  -0.00448464\n",
      "  -0.28531424  0.05515339  0.22659237 -0.34527052 -0.29917834 -0.12782381]\n",
      " [ 0.77498228 -0.02159541 -0.25106714 -0.06148997  0.16847458  0.08692886\n",
      "  -0.05130485  0.11066534 -0.01019173  0.19151158 -0.09253012 -0.02772145\n",
      "  -0.26029003  0.39142955 -0.02667709  0.0111323   0.08297089 -0.08063773]\n",
      " [ 0.39896408  0.08480038  0.25648514  0.20346141  0.06099918 -0.17326489\n",
      "  -0.15697561  0.28320557 -0.09193642 -0.14373578 -0.07560495 -0.12713353\n",
      "   0.22493614 -0.48376174 -0.07069312  0.07575131 -0.36538505 -0.3286518 ]\n",
      " [-0.1463739   0.16429782  0.47240753 -0.09400349  0.1056704  -0.31319037\n",
      "   0.01182633  0.04055198  0.05792337  0.44616711 -0.14920731  0.00644401\n",
      "  -0.60237657 -0.06638973  0.04713551 -0.04411763 -0.01321225 -0.11047278]]\n",
      "[0.50312024 0.19039846 0.07659026 0.07075305 0.05389081 0.03782107\n",
      " 0.02343577 0.01668029 0.00845835 0.00531661]\n"
     ]
    }
   ],
   "source": [
    "pca3 = PCA(n_components=10)\n",
    "pca3.fit(X)\n",
    "print(pca3.components_)\n",
    "print(pca3.explained_variance_ratio_)\n",
    "Xpca3 = pca3.transform(X)"
   ]
  },
  {
   "cell_type": "markdown",
   "metadata": {},
   "source": [
    "# Implementing Support vector machine without doing PCA"
   ]
  },
  {
   "cell_type": "code",
   "execution_count": 236,
   "metadata": {},
   "outputs": [],
   "source": [
    "#importing necessary libraries \n",
    "from sklearn import svm\n",
    "clf = svm.SVC(gamma=0.025, C=3) \n",
    "clf.fit(X_train , y_train)\n",
    "\n",
    "predicted = clf.predict(X_test)"
   ]
  },
  {
   "cell_type": "code",
   "execution_count": 237,
   "metadata": {},
   "outputs": [
    {
     "name": "stdout",
     "output_type": "stream",
     "text": [
      "54.61\n"
     ]
    }
   ],
   "source": [
    "score=round (clf.score(X_test,y_test)*100,2)\n",
    "print (score)"
   ]
  },
  {
   "cell_type": "raw",
   "metadata": {},
   "source": [
    "# Score after implementing SVM without applying PCA model is 78.29%"
   ]
  },
  {
   "cell_type": "code",
   "execution_count": 238,
   "metadata": {},
   "outputs": [
    {
     "name": "stdout",
     "output_type": "stream",
     "text": [
      "[[ 3 41  0]\n",
      " [ 0 79  0]\n",
      " [ 0 28  1]]\n"
     ]
    }
   ],
   "source": [
    "from sklearn import metrics\n",
    "print (metrics.confusion_matrix(y_test,predicted))"
   ]
  },
  {
   "cell_type": "code",
   "execution_count": 239,
   "metadata": {},
   "outputs": [
    {
     "name": "stdout",
     "output_type": "stream",
     "text": [
      "recall is ==>6.82\n",
      "precision is ==>100.0\n"
     ]
    }
   ],
   "source": [
    "from sklearn import metrics\n",
    "def myscores(smat): \n",
    "    tp = smat[0][0] \n",
    "    fp = smat[0][1] \n",
    "    fn = smat[1][0] \n",
    "    tn = smat[1][1] \n",
    "    return tp/(tp+fp), tp/(tp+fn)\n",
    "\n",
    "recall=round(myscores(metrics.confusion_matrix(y_test,predicted))[0]*100,2)\n",
    "precision=round(myscores(metrics.confusion_matrix(y_test,predicted))[1]*100,2)\n",
    "print ('recall is ==>'+str(recall))\n",
    "print ('precision is ==>'+str(precision))"
   ]
  },
  {
   "cell_type": "markdown",
   "metadata": {},
   "source": [
    "# Implementing Support vector machine with  PCA"
   ]
  },
  {
   "cell_type": "code",
   "execution_count": 240,
   "metadata": {},
   "outputs": [],
   "source": [
    "from sklearn.model_selection import train_test_split\n",
    "#splitting the data into four variables , 70% of data will be used to train the model and rest 30% is to test\n",
    "X_train, X_test, y_train, y_test = train_test_split(Xpca3, y, test_size=0.3, random_state=1)"
   ]
  },
  {
   "cell_type": "code",
   "execution_count": 241,
   "metadata": {},
   "outputs": [
    {
     "name": "stdout",
     "output_type": "stream",
     "text": [
      "(152, 10)\n",
      "(352, 10)\n",
      "(152,)\n",
      "(352,)\n"
     ]
    }
   ],
   "source": [
    "#Getting the shapes of data\n",
    "print (X_test.shape)\n",
    "print (X_train.shape)\n",
    "print (y_test.shape)\n",
    "print (y_train.shape)"
   ]
  },
  {
   "cell_type": "code",
   "execution_count": 242,
   "metadata": {},
   "outputs": [],
   "source": [
    "#importing necessary libraries \n",
    "from sklearn import svm\n",
    "clf = svm.SVC(gamma=0.025, C=3) \n",
    "clf.fit(X_train , y_train)\n",
    "\n",
    "predicted = clf.predict(X_test)"
   ]
  },
  {
   "cell_type": "code",
   "execution_count": 243,
   "metadata": {},
   "outputs": [
    {
     "name": "stdout",
     "output_type": "stream",
     "text": [
      "96.88\n",
      "96.05\n"
     ]
    }
   ],
   "source": [
    "train_score=round (clf.score(X_train,y_train)*100,2)\n",
    "test_score=round (clf.score(X_test,y_test)*100,2)\n",
    "print (train_score)\n",
    "print (test_score)"
   ]
  },
  {
   "cell_type": "code",
   "execution_count": 244,
   "metadata": {},
   "outputs": [
    {
     "name": "stdout",
     "output_type": "stream",
     "text": [
      "recall is ==>97.73\n",
      "precision is ==>93.48\n"
     ]
    }
   ],
   "source": [
    "from sklearn import metrics\n",
    "def myscores(smat): \n",
    "    tp = smat[0][0] \n",
    "    fp = smat[0][1] \n",
    "    fn = smat[1][0] \n",
    "    tn = smat[1][1] \n",
    "    return tp/(tp+fp), tp/(tp+fn)\n",
    "\n",
    "recall=round(myscores(metrics.confusion_matrix(y_test,predicted))[0]*100,2)\n",
    "precision=round(myscores(metrics.confusion_matrix(y_test,predicted))[1]*100,2)\n",
    "print ('recall is ==>'+str(recall))\n",
    "print ('precision is ==>'+str(precision))"
   ]
  },
  {
   "cell_type": "markdown",
   "metadata": {},
   "source": [
    "# Final Summary"
   ]
  },
  {
   "cell_type": "markdown",
   "metadata": {},
   "source": [
    "#Score after removing independent column using correlation matrix: 78.29"
   ]
  },
  {
   "cell_type": "markdown",
   "metadata": {},
   "source": [
    "Score  without using PCA   : 54.29 %"
   ]
  },
  {
   "cell_type": "markdown",
   "metadata": {},
   "source": [
    "Score after using PCA : 96%"
   ]
  }
 ],
 "metadata": {
  "kernelspec": {
   "display_name": "Python 3",
   "language": "python",
   "name": "python3"
  },
  "language_info": {
   "codemirror_mode": {
    "name": "ipython",
    "version": 3
   },
   "file_extension": ".py",
   "mimetype": "text/x-python",
   "name": "python",
   "nbconvert_exporter": "python",
   "pygments_lexer": "ipython3",
   "version": "3.7.3"
  }
 },
 "nbformat": 4,
 "nbformat_minor": 2
}
